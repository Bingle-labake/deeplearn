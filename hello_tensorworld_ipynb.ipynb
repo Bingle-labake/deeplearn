{
  "nbformat": 4,
  "nbformat_minor": 0,
  "metadata": {
    "colab": {
      "name": "“hello_tensorworld.ipynb”的副本",
      "version": "0.3.2",
      "provenance": [],
      "collapsed_sections": [],
      "include_colab_link": true
    },
    "kernelspec": {
      "name": "python3",
      "display_name": "Python 3"
    }
  },
  "cells": [
    {
      "cell_type": "markdown",
      "metadata": {
        "id": "view-in-github",
        "colab_type": "text"
      },
      "source": [
        "<a href=\"https://colab.research.google.com/github/Bingle-labake/deeplearn/blob/master/hello_tensorworld_ipynb.ipynb\" target=\"_parent\"><img src=\"https://colab.research.google.com/assets/colab-badge.svg\" alt=\"Open In Colab\"/></a>"
      ]
    },
    {
      "metadata": {
        "id": "NqMscVVo_Sbf",
        "colab_type": "text"
      },
      "cell_type": "markdown",
      "source": [
        "# Hello, Tensor World"
      ]
    },
    {
      "metadata": {
        "id": "Tuz2s2H4_aJv",
        "colab_type": "text"
      },
      "cell_type": "markdown",
      "source": [
        "让我们来分析一下你刚才运行的 Hello World 的代码。代码如下："
      ]
    },
    {
      "metadata": {
        "id": "HHCmVosA-ZVp",
        "colab_type": "code",
        "outputId": "60516628-49c2-4b6d-9220-b4b041a1d585",
        "colab": {
          "base_uri": "https://localhost:8080/",
          "height": 34
        }
      },
      "cell_type": "code",
      "source": [
        "import tensorflow as tf\n",
        "\n",
        "# Create TensorFlow object called hello_constant\n",
        "hello_constant = tf.constant('Hello World!')\n",
        "\n",
        "with tf.Session() as sess:\n",
        "    # Run the tf.constant operation in the session\n",
        "    output = sess.run(hello_constant)\n",
        "    print(output)"
      ],
      "execution_count": 0,
      "outputs": [
        {
          "output_type": "stream",
          "text": [
            "b'Hello World!'\n"
          ],
          "name": "stdout"
        }
      ]
    },
    {
      "metadata": {
        "id": "-g-HhW9J_ld_",
        "colab_type": "text"
      },
      "cell_type": "markdown",
      "source": [
        "# Tensor"
      ]
    },
    {
      "metadata": {
        "id": "5MzWKxk8_vEI",
        "colab_type": "text"
      },
      "cell_type": "markdown",
      "source": [
        "在 TensorFlow 中，数据不是以整数、浮点数或者字符串形式存储的。这些值被封装在一个叫做 tensor 的对象中。在 hello_constant = tf.constant('Hello World!') 代码中，hello_constant 是一个 0 维度的字符串 tensor，tensor 还有很多不同大小："
      ]
    },
    {
      "metadata": {
        "id": "PQ4tYch1_4hI",
        "colab_type": "code",
        "colab": {}
      },
      "cell_type": "code",
      "source": [
        "# A is a 0-dimensional int32 tensor\n",
        "A = tf.constant(1234) \n",
        "# B is a 1-dimensional int32 tensor\n",
        "B = tf.constant([123,456,789]) \n",
        " # C is a 2-dimensional int32 tensor\n",
        "C = tf.constant([ [123,456,789], [222,333,444] ])"
      ],
      "execution_count": 0,
      "outputs": []
    },
    {
      "metadata": {
        "id": "PqAvltwVAANY",
        "colab_type": "text"
      },
      "cell_type": "markdown",
      "source": [
        "tf.constant() 是你在本课中即将使用的多个 TensorFlow 运算之一。tf.constant() 返回的 tensor 是一个常量 tensor，因为这个 tensor 的值不会变。"
      ]
    },
    {
      "metadata": {
        "id": "MX7HljHLACLQ",
        "colab_type": "text"
      },
      "cell_type": "markdown",
      "source": [
        "# Session"
      ]
    },
    {
      "metadata": {
        "id": "aFu4Lbp9AH8A",
        "colab_type": "text"
      },
      "cell_type": "markdown",
      "source": [
        "TensorFlow 的 api 构建在 computational graph 的概念上，它是一种对数学运算过程进行可视化的方法（在 MiniFlow 这节课中学过）。让我们把你刚才运行的 TensorFlow 代码变成一个图：\n",
        "![替代文字](https://d17h27t6h515a5.cloudfront.net/topher/2016/October/580feadb_session/session.png)\n",
        "\n",
        "如上图所示，一个 \"TensorFlow Session\" 是用来运行图的环境。这个 session 负责分配 GPU(s) 和／或 CPU(s)，包括远程计算机的运算。让我们看看如何使用它："
      ]
    },
    {
      "metadata": {
        "id": "JZDnIOSrAgKh",
        "colab_type": "code",
        "colab": {}
      },
      "cell_type": "code",
      "source": [
        "with tf.Session() as sess:\n",
        "    output = sess.run(hello_constant)"
      ],
      "execution_count": 0,
      "outputs": []
    },
    {
      "metadata": {
        "id": "s3trerC3AqKi",
        "colab_type": "text"
      },
      "cell_type": "markdown",
      "source": [
        "代码已经从之前的一行中创建了 tensor hello_constant。接下来是在 session 里对 tensor 求值。\n",
        "\n",
        "这段代码用 tf.Session 创建了一个 sess 的 session 实例。然后 sess.run() 函数对 tensor 求值，并返回结果。"
      ]
    }
  ]
}