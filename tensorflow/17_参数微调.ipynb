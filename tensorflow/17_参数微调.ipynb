{
  "nbformat": 4,
  "nbformat_minor": 0,
  "metadata": {
    "colab": {
      "name": "17_参数微调.ipynb",
      "version": "0.3.2",
      "provenance": [],
      "collapsed_sections": [],
      "include_colab_link": true
    },
    "kernelspec": {
      "name": "python3",
      "display_name": "Python 3"
    }
  },
  "cells": [
    {
      "cell_type": "markdown",
      "metadata": {
        "id": "view-in-github",
        "colab_type": "text"
      },
      "source": [
        "<a href=\"https://colab.research.google.com/github/Bingle-labake/deeplearn/blob/master/tensorflow/17_%E5%8F%82%E6%95%B0%E5%BE%AE%E8%B0%83.ipynb\" target=\"_parent\"><img src=\"https://colab.research.google.com/assets/colab-badge.svg\" alt=\"Open In Colab\"/></a>"
      ]
    },
    {
      "metadata": {
        "id": "ebJfh3EpoimU",
        "colab_type": "text"
      },
      "cell_type": "markdown",
      "source": [
        "###把权重和偏置项加载到新模型中\n",
        "很多时候你想调整，或者说“微调”一个你已经训练并保存了的模型。但是，把保存的变量直接加载到已经修改过的模型会产生错误。让我们看看如何解决这个问题。\n",
        "\n",
        "###命名报错\n",
        "TensorFlow 对 Tensor 和计算使用一个叫 name 的字符串辨识器，如果没有定义 name，TensorFlow 会自动创建一个。TensorFlow 会把第一个节点命名为 <Type>，把后续的命名为<Type>_<number>。让我们看看这对加载一个有不同顺序权重和偏置项的模型有哪些影响："
      ]
    },
    {
      "metadata": {
        "id": "ztjAAXEMof5e",
        "colab_type": "code",
        "colab": {}
      },
      "cell_type": "code",
      "source": [
        "import tensorflow as tf\n",
        "\n",
        "# Remove the previous weights and bias\n",
        "# 移除先前的权重和偏置项\n",
        "tf.reset_default_graph()\n",
        "\n",
        "save_file = 'model.ckpt'\n",
        "\n",
        "# Two Tensor Variables: weights and bias\n",
        "# 两个 Tensor 变量：权重和偏置项\n",
        "weights = tf.Variable(tf.truncated_normal([2, 3]))\n",
        "bias = tf.Variable(tf.truncated_normal([3]))\n",
        "\n",
        "saver = tf.train.Saver()\n",
        "\n",
        "# Print the name of Weights and Bias\n",
        "# 打印权重和偏置项的名字\n",
        "print('Save Weights: {}'.format(weights.name))\n",
        "print('Save Bias: {}'.format(bias.name))\n",
        "\n",
        "with tf.Session() as sess:\n",
        "    sess.run(tf.global_variables_initializer())\n",
        "    saver.save(sess, save_file)\n",
        "\n",
        "# Remove the previous weights and bias\n",
        "# 移除之前的权重和偏置项\n",
        "tf.reset_default_graph()\n",
        "\n",
        "# Two Variables: weights and bias\n",
        "# 两个变量：权重和偏置项\n",
        "bias = tf.Variable(tf.truncated_normal([3]))\n",
        "weights = tf.Variable(tf.truncated_normal([2, 3]))\n",
        "\n",
        "saver = tf.train.Saver()\n",
        "\n",
        "# Print the name of Weights and Bias\n",
        "# 打印权重和偏置项的名字\n",
        "print('Load Weights: {}'.format(weights.name))\n",
        "print('Load Bias: {}'.format(bias.name))\n",
        "\n",
        "with tf.Session() as sess:\n",
        "    # Load the weights and bias - ERROR\n",
        "    # 加载权重和偏置项 - 报错\n",
        "    saver.restore(sess, save_file)"
      ],
      "execution_count": 0,
      "outputs": []
    },
    {
      "metadata": {
        "id": "qa0NSxnuouHz",
        "colab_type": "text"
      },
      "cell_type": "markdown",
      "source": [
        "上述代码会有下列输出："
      ]
    },
    {
      "metadata": {
        "id": "8Ah-DJ-9ovMr",
        "colab_type": "text"
      },
      "cell_type": "markdown",
      "source": [
        "Save Weights: Variable:0\n",
        "\n",
        "Save Bias: Variable_1:0\n",
        "\n",
        "Load Weights: Variable_1:0\n",
        "\n",
        "Load Bias: Variable:0\n",
        "\n",
        "...\n",
        "\n",
        "InvalidArgumentError (see above for traceback): Assign requires shapes of both tensors to match.\n",
        "\n",
        "..."
      ]
    },
    {
      "metadata": {
        "id": "5xkmKSAbo0m7",
        "colab_type": "text"
      },
      "cell_type": "markdown",
      "source": [
        "你注意到，weights 和 bias 的 name 属性与你保存的模型不同。这是为什么代码报“Assign requires shapes of both tensors to match”这个错误。saver.restore(sess, save_file) 代码试图把权重数据加载到bias里，把偏置项数据加载到 weights里。\n",
        "\n",
        "与其让 TensorFlow 来设定 name 属性，不如让我们来手动设定："
      ]
    },
    {
      "metadata": {
        "id": "Zh_QeX8co4Kz",
        "colab_type": "code",
        "colab": {}
      },
      "cell_type": "code",
      "source": [
        "import tensorflow as tf\n",
        "\n",
        "tf.reset_default_graph()\n",
        "\n",
        "save_file = 'model.ckpt'\n",
        "\n",
        "# Two Tensor Variables: weights and bias\n",
        "# 两个 Tensor 变量：权重和偏置项\n",
        "weights = tf.Variable(tf.truncated_normal([2, 3]), name='weights_0')\n",
        "bias = tf.Variable(tf.truncated_normal([3]), name='bias_0')\n",
        "\n",
        "saver = tf.train.Saver()\n",
        "\n",
        "# Print the name of Weights and Bias\n",
        "# 打印权重和偏置项的名称\n",
        "print('Save Weights: {}'.format(weights.name))\n",
        "print('Save Bias: {}'.format(bias.name))\n",
        "\n",
        "with tf.Session() as sess:\n",
        "    sess.run(tf.global_variables_initializer())\n",
        "    saver.save(sess, save_file)\n",
        "\n",
        "# Remove the previous weights and bias\n",
        "# 移除之前的权重和偏置项\n",
        "tf.reset_default_graph()\n",
        "\n",
        "# Two Variables: weights and bias\n",
        "# 两个变量：权重和偏置项\n",
        "bias = tf.Variable(tf.truncated_normal([3]), name='bias_0')\n",
        "weights = tf.Variable(tf.truncated_normal([2, 3]) ,name='weights_0')\n",
        "\n",
        "saver = tf.train.Saver()\n",
        "\n",
        "# Print the name of Weights and Bias\n",
        "# 打印权重和偏置项的名称\n",
        "print('Load Weights: {}'.format(weights.name))\n",
        "print('Load Bias: {}'.format(bias.name))\n",
        "\n",
        "with tf.Session() as sess:\n",
        "    # Load the weights and bias - No Error\n",
        "    # 加载权重和偏置项 - 没有报错\n",
        "    saver.restore(sess, save_file)\n",
        "\n",
        "print('Loaded Weights and Bias successfully.')"
      ],
      "execution_count": 0,
      "outputs": []
    },
    {
      "metadata": {
        "id": "7nwuuOaso5cD",
        "colab_type": "text"
      },
      "cell_type": "markdown",
      "source": [
        "Save Weights: weights_0:0\n",
        "\n",
        "Save Bias: bias_0:0\n",
        "\n",
        "Load Weights: weights_0:0\n",
        "\n",
        "Load Bias: bias_0:0\n",
        "\n",
        "Loaded Weights and Bias successfully."
      ]
    },
    {
      "metadata": {
        "id": "T678_w7wo8Tb",
        "colab_type": "text"
      },
      "cell_type": "markdown",
      "source": [
        "这次没问题！Tensor 名称匹配正确，数据被正确加载。"
      ]
    }
  ]
}