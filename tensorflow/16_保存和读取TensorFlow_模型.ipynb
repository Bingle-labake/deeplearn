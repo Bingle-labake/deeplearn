{
  "nbformat": 4,
  "nbformat_minor": 0,
  "metadata": {
    "colab": {
      "name": "16_保存和读取TensorFlow 模型.ipynb",
      "version": "0.3.2",
      "provenance": [],
      "collapsed_sections": [],
      "include_colab_link": true
    },
    "kernelspec": {
      "name": "python3",
      "display_name": "Python 3"
    }
  },
  "cells": [
    {
      "cell_type": "markdown",
      "metadata": {
        "id": "view-in-github",
        "colab_type": "text"
      },
      "source": [
        "<a href=\"https://colab.research.google.com/github/Bingle-labake/deeplearn/blob/master/tensorflow/16_%E4%BF%9D%E5%AD%98%E5%92%8C%E8%AF%BB%E5%8F%96TensorFlow_%E6%A8%A1%E5%9E%8B.ipynb\" target=\"_parent\"><img src=\"https://colab.research.google.com/assets/colab-badge.svg\" alt=\"Open In Colab\"/></a>"
      ]
    },
    {
      "metadata": {
        "id": "uoiSpfF7kDQw",
        "colab_type": "text"
      },
      "cell_type": "markdown",
      "source": [
        "###保存和读取 TensorFlow 模型\n",
        "训练一个模型的时间很长。但是你一旦关闭了 TensorFlow session，你所有训练的权重和偏置项都丢失了。如果你计划在之后重新使用这个模型，你需要重新训练！\n",
        "\n",
        "幸运的是，TensorFlow 可以让你通过一个叫 tf.train.Saver 的类把你的进程保存下来。这个类可以把任何 tf.Variable 存到你的文件系统。\n",
        "\n",
        "###保存变量\n",
        "让我们通过一个简单地例子来保存 weights 和 bias Tensors。第一个例子你只是存两个变量，后面会教你如何把一个实际模型的所有权重保存下来。"
      ]
    },
    {
      "metadata": {
        "id": "GV7RFApXj8GZ",
        "colab_type": "code",
        "colab": {}
      },
      "cell_type": "code",
      "source": [
        "import tensorflow as tf\n",
        "\n",
        "# The file path to save the data\n",
        "# 文件保存路径\n",
        "save_file = './model.ckpt'\n",
        "\n",
        "# Two Tensor Variables: weights and bias\n",
        "# 两个 Tensor 变量：权重和偏置项\n",
        "weights = tf.Variable(tf.truncated_normal([2, 3]))\n",
        "bias = tf.Variable(tf.truncated_normal([3]))\n",
        "\n",
        "# Class used to save and/or restore Tensor Variables\n",
        "# 用来存取 Tensor 变量的类\n",
        "saver = tf.train.Saver()\n",
        "\n",
        "with tf.Session() as sess:\n",
        "    # Initialize all the Variables\n",
        "    # 初始化所有变量\n",
        "    sess.run(tf.global_variables_initializer())\n",
        "\n",
        "    # Show the values of weights and bias\n",
        "   # 显示变量和权重\n",
        "    print('Weights:')\n",
        "    print(sess.run(weights))\n",
        "    print('Bias:')\n",
        "    print(sess.run(bias))\n",
        "\n",
        "    # Save the model\n",
        "    # 保存模型\n",
        "    saver.save(sess, save_file)"
      ],
      "execution_count": 0,
      "outputs": []
    },
    {
      "metadata": {
        "id": "F4T6osWvkKnv",
        "colab_type": "text"
      },
      "cell_type": "markdown",
      "source": [
        "Weights:\n",
        "\n",
        "[[-0.97990924 1.03016174 0.74119264]\n",
        "\n",
        "[-0.82581609 -0.07361362 -0.86653847]]\n",
        "\n",
        "Bias:\n",
        "\n",
        "[ 1.62978125 -0.37812829 0.64723819]"
      ]
    },
    {
      "metadata": {
        "id": "4yRIMtfokP6_",
        "colab_type": "text"
      },
      "cell_type": "markdown",
      "source": [
        "weights 和 bias Tensors 用 tf.truncated_normal() 函数设定了随机值。用 tf.train.Saver.save() 函数把这些值被保存在save_file 位置，命名为 \"model.ckpt\"，（\".ckpt\" 扩展名表示\"checkpoint\"）。\n",
        "\n",
        "如果你使用 TensorFlow 0.11.0RC1 或者更新的版本，还会生成一个包含了 TensorFlow graph 的文件 \"model.ckpt.meta\"。\n",
        "\n",
        "###加载变量\n",
        "现在这些变量已经存好了，让我们把它们加载到新模型里。"
      ]
    },
    {
      "metadata": {
        "id": "TEo_PK3nkZQf",
        "colab_type": "code",
        "colab": {}
      },
      "cell_type": "code",
      "source": [
        "# Remove the previous weights and bias\n",
        "# 移除之前的权重和偏置项\n",
        "tf.reset_default_graph()\n",
        "\n",
        "# Two Variables: weights and bias\n",
        "# 两个变量：权重和偏置项\n",
        "weights = tf.Variable(tf.truncated_normal([2, 3]))\n",
        "bias = tf.Variable(tf.truncated_normal([3]))\n",
        "\n",
        "# Class used to save and/or restore Tensor Variables\n",
        "# 用来存取 Tensor 变量的类\n",
        "saver = tf.train.Saver()\n",
        "\n",
        "with tf.Session() as sess:\n",
        "    # Load the weights and bias\n",
        "    # 加载权重和偏置项\n",
        "    saver.restore(sess, save_file)\n",
        "\n",
        "    # Show the values of weights and bias\n",
        "    # 显示权重和偏置项\n",
        "    print('Weight:')\n",
        "    print(sess.run(weights))\n",
        "    print('Bias:')\n",
        "    print(sess.run(bias))"
      ],
      "execution_count": 0,
      "outputs": []
    },
    {
      "metadata": {
        "id": "GOmGS_yJkdSf",
        "colab_type": "text"
      },
      "cell_type": "markdown",
      "source": [
        "Weights:\n",
        "\n",
        "[[-0.97990924 1.03016174 0.74119264]\n",
        "\n",
        "[-0.82581609 -0.07361362 -0.86653847]]\n",
        "\n",
        "Bias:\n",
        "\n",
        "[ 1.62978125 -0.37812829 0.64723819]"
      ]
    },
    {
      "metadata": {
        "id": "lcqWgEFhkeh3",
        "colab_type": "text"
      },
      "cell_type": "markdown",
      "source": [
        "注意，你依然需要在 Python 中创建 weights 和 bias Tensors。tf.train.Saver.restore() 函数把之前保存的数据加载到 weights 和 bias 当中。\n",
        "\n",
        "因为 tf.train.Saver.restore() 设定了 TensorFlow 变量，这里你不需要调用 tf.global_variables_initializer()了。\n",
        "\n",
        "###保存一个训练好的模型\n",
        "让我们看看如何训练一个模型并保存它的权重。\n",
        "\n",
        "从一个模型开始："
      ]
    },
    {
      "metadata": {
        "id": "MAYPF_w4klPQ",
        "colab_type": "code",
        "colab": {}
      },
      "cell_type": "code",
      "source": [
        "# Remove previous Tensors and Operations\n",
        "# 移除之前的  Tensors 和运算\n",
        "tf.reset_default_graph()\n",
        "\n",
        "from tensorflow.examples.tutorials.mnist import input_data\n",
        "import numpy as np\n",
        "\n",
        "learning_rate = 0.001\n",
        "n_input = 784  # MNIST 数据输入 (图片尺寸: 28*28)\n",
        "n_classes = 10  # MNIST 总计类别 (数字 0-9)\n",
        "\n",
        "# Import MNIST data\n",
        "# 加载 MNIST 数据\n",
        "mnist = input_data.read_data_sets('.', one_hot=True)\n",
        "\n",
        "# Features and Labels\n",
        "# 特征和标签\n",
        "features = tf.placeholder(tf.float32, [None, n_input])\n",
        "labels = tf.placeholder(tf.float32, [None, n_classes])\n",
        "\n",
        "# Weights & bias\n",
        "# 权重和偏置项\n",
        "weights = tf.Variable(tf.random_normal([n_input, n_classes]))\n",
        "bias = tf.Variable(tf.random_normal([n_classes]))\n",
        "\n",
        "# Logits - xW + b\n",
        "logits = tf.add(tf.matmul(features, weights), bias)\n",
        "\n",
        "# Define loss and optimizer\n",
        "# 定义损失函数和优化器\n",
        "cost = tf.reduce_mean(\\\n",
        "    tf.nn.softmax_cross_entropy_with_logits(logits=logits, labels=labels))\n",
        "optimizer = tf.train.GradientDescentOptimizer(learning_rate=learning_rate)\\\n",
        "    .minimize(cost)\n",
        "\n",
        "# Calculate accuracy\n",
        "# 计算准确率\n",
        "correct_prediction = tf.equal(tf.argmax(logits, 1), tf.argmax(labels, 1))\n",
        "accuracy = tf.reduce_mean(tf.cast(correct_prediction, tf.float32))"
      ],
      "execution_count": 0,
      "outputs": []
    },
    {
      "metadata": {
        "id": "lh9CjcejknFB",
        "colab_type": "text"
      },
      "cell_type": "markdown",
      "source": [
        "让我们训练模型并保存权重："
      ]
    },
    {
      "metadata": {
        "id": "Jbt_Oqpxkpgn",
        "colab_type": "code",
        "colab": {}
      },
      "cell_type": "code",
      "source": [
        "import math\n",
        "\n",
        "save_file = './train_model.ckpt'\n",
        "batch_size = 128\n",
        "n_epochs = 100\n",
        "\n",
        "saver = tf.train.Saver()\n",
        "\n",
        "# Launch the graph\n",
        "# 启动图\n",
        "with tf.Session() as sess:\n",
        "    sess.run(tf.global_variables_initializer())\n",
        "\n",
        "    # Training cycle\n",
        "    # 训练循环\n",
        "    for epoch in range(n_epochs):\n",
        "        total_batch = math.ceil(mnist.train.num_examples / batch_size)\n",
        "\n",
        "        # Loop over all batches\n",
        "        # 遍历所有 batch\n",
        "        for i in range(total_batch):\n",
        "            batch_features, batch_labels = mnist.train.next_batch(batch_size)\n",
        "            sess.run(\n",
        "                optimizer,\n",
        "                feed_dict={features: batch_features, labels: batch_labels})\n",
        "\n",
        "        # Print status for every 10 epochs\n",
        "        # 每运行10个 epoch 打印一次状态\n",
        "        if epoch % 10 == 0:\n",
        "            valid_accuracy = sess.run(\n",
        "                accuracy,\n",
        "                feed_dict={\n",
        "                    features: mnist.validation.images,\n",
        "                    labels: mnist.validation.labels})\n",
        "            print('Epoch {:<3} - Validation Accuracy: {}'.format(\n",
        "                epoch,\n",
        "                valid_accuracy))\n",
        "\n",
        "    # Save the model\n",
        "    # 保存模型\n",
        "    saver.save(sess, save_file)\n",
        "    print('Trained Model Saved.')"
      ],
      "execution_count": 0,
      "outputs": []
    },
    {
      "metadata": {
        "id": "u-_yDLzektc4",
        "colab_type": "text"
      },
      "cell_type": "markdown",
      "source": [
        "Epoch 0 - Validation Accuracy: 0.06859999895095825\n",
        "\n",
        "Epoch 10 - Validation Accuracy: 0.20239999890327454\n",
        "\n",
        "Epoch 20 - Validation Accuracy: 0.36980000138282776\n",
        "\n",
        "Epoch 30 - Validation Accuracy: 0.48820000886917114\n",
        "\n",
        "Epoch 40 - Validation Accuracy: 0.5601999759674072\n",
        "\n",
        "Epoch 50 - Validation Accuracy: 0.6097999811172485\n",
        "\n",
        "Epoch 60 - Validation Accuracy: 0.6425999999046326\n",
        "\n",
        "Epoch 70 - Validation Accuracy: 0.6733999848365784\n",
        "\n",
        "Epoch 80 - Validation Accuracy: 0.6916000247001648\n",
        "\n",
        "Epoch 90 - Validation Accuracy: 0.7113999724388123\n",
        "\n",
        "Trained Model Saved."
      ]
    },
    {
      "metadata": {
        "id": "Qp0WDBNfkw9w",
        "colab_type": "text"
      },
      "cell_type": "markdown",
      "source": [
        "###加载训练好的模型\n",
        "让我们从磁盘中加载权重和偏置项，验证测试集准确率。"
      ]
    },
    {
      "metadata": {
        "id": "UCUs3Kawk1sw",
        "colab_type": "code",
        "colab": {}
      },
      "cell_type": "code",
      "source": [
        "saver = tf.train.Saver()\n",
        "\n",
        "# Launch the graph\n",
        "# 加载图\n",
        "with tf.Session() as sess:\n",
        "    saver.restore(sess, save_file)\n",
        "\n",
        "    test_accuracy = sess.run(\n",
        "        accuracy,\n",
        "        feed_dict={features: mnist.test.images, labels: mnist.test.labels})\n",
        "\n",
        "print('Test Accuracy: {}'.format(test_accuracy))"
      ],
      "execution_count": 0,
      "outputs": []
    },
    {
      "metadata": {
        "id": "GRU8TEQ9k5rJ",
        "colab_type": "text"
      },
      "cell_type": "markdown",
      "source": [
        "Test Accuracy: 0.7229999899864197"
      ]
    },
    {
      "metadata": {
        "id": "JM7XAPGbk78J",
        "colab_type": "text"
      },
      "cell_type": "markdown",
      "source": [
        "就是这样！你现在知道如何保存再加载一个 TensorFlow 的训练模型了。下一章节让我们看看如何把权重和偏置项加载到修改过的模型中。"
      ]
    }
  ]
}