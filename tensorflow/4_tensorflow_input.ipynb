{
  "nbformat": 4,
  "nbformat_minor": 0,
  "metadata": {
    "colab": {
      "name": "4_tensorflow_input.ipynb",
      "version": "0.3.2",
      "provenance": [],
      "include_colab_link": true
    },
    "kernelspec": {
      "name": "python3",
      "display_name": "Python 3"
    }
  },
  "cells": [
    {
      "cell_type": "markdown",
      "metadata": {
        "id": "view-in-github",
        "colab_type": "text"
      },
      "source": [
        "<a href=\"https://colab.research.google.com/github/Bingle-labake/deeplearn/blob/master/tensorflow/4_tensorflow_input.ipynb\" target=\"_parent\"><img src=\"https://colab.research.google.com/assets/colab-badge.svg\" alt=\"Open In Colab\"/></a>"
      ]
    },
    {
      "metadata": {
        "id": "4v7z7ZQZIhLw",
        "colab_type": "text"
      },
      "cell_type": "markdown",
      "source": [
        "###输入\n",
        "在上一小节中，你向 session 传入一个 tensor 并返回结果。如果你想使用一个非常量（non-constant）该怎么办？这就是 tf.placeholder() 和 feed_dict 派上用场的时候了。这一节将向你讲解向 TensorFlow 传输数据的基础知识。\n",
        "\n",
        "###tf.placeholder()\n",
        "很遗憾，你不能把数据集赋值给 x 再将它传给 TensorFlow。因为之后你会想要你的 TensorFlow 模型对不同的数据集采用不同的参数。你需要的是 tf.placeholder()！\n",
        "\n",
        "数据经过 tf.session.run() 函数得到的值，由 tf.placeholder() 返回成一个 tensor，这样你可以在 session 运行之前，设置输入。\n",
        "\n",
        "###Session 的 feed_dict"
      ]
    },
    {
      "metadata": {
        "id": "PJ95GBuOIWo4",
        "colab_type": "code",
        "colab": {}
      },
      "cell_type": "code",
      "source": [
        "x = tf.placeholder(tf.string)\n",
        "\n",
        "with tf.Session() as sess:\n",
        "    output = sess.run(x, feed_dict={x: 'Hello World'})"
      ],
      "execution_count": 0,
      "outputs": []
    },
    {
      "metadata": {
        "id": "xBWnK4RBIryn",
        "colab_type": "text"
      },
      "cell_type": "markdown",
      "source": [
        "用 tf.session.run() 里的 feed_dict 参数设置占位 tensor。上面的例子显示 tensor x 被设置成字符串 \"Hello, world\"。如下所示，也可以用 feed_dict 设置多个 tensor。"
      ]
    },
    {
      "metadata": {
        "id": "WcPLiWVuIt-H",
        "colab_type": "code",
        "colab": {}
      },
      "cell_type": "code",
      "source": [
        "x = tf.placeholder(tf.string)\n",
        "y = tf.placeholder(tf.int32)\n",
        "z = tf.placeholder(tf.float32)\n",
        "\n",
        "with tf.Session() as sess:\n",
        "    output = sess.run(x, feed_dict={x: 'Test String', y: 123, z: 45.67})"
      ],
      "execution_count": 0,
      "outputs": []
    },
    {
      "metadata": {
        "id": "4gYW2feMIzW3",
        "colab_type": "text"
      },
      "cell_type": "markdown",
      "source": [
        "####注意：\n",
        "\n",
        "如果传入 feed_dict 的数据与 tensor 类型不符，就无法被正确处理，你会得到 “ValueError: invalid literal for...”。\n",
        "\n",
        "###练习\n",
        "让我们看看你对 tf.placeholder() 和 feed_dict 的理解如何。下面的代码有一个报错，但是我想让你修复代码并使其返回数字 123。修改第 11 行，使代码返回数字 123。"
      ]
    },
    {
      "metadata": {
        "id": "Zhxyac_UI8Dw",
        "colab_type": "code",
        "colab": {}
      },
      "cell_type": "code",
      "source": [
        "# quiz.py\n",
        "# Solution is available in the other \"solution.py\" tab\n",
        "import tensorflow as tf\n",
        "\n",
        "\n",
        "def run():\n",
        "    output = None\n",
        "    x = tf.placeholder(tf.int32)\n",
        "\n",
        "    with tf.Session() as sess:\n",
        "        # TODO: Feed the x tensor 123\n",
        "        output = sess.run(x)\n",
        "\n",
        "    return output"
      ],
      "execution_count": 0,
      "outputs": []
    },
    {
      "metadata": {
        "id": "GL-7vRiHJH1I",
        "colab_type": "code",
        "colab": {}
      },
      "cell_type": "code",
      "source": [
        "# solution.py\n",
        "# Quiz Solution\n",
        "# Note: You can't run code in this tab\n",
        "import tensorflow as tf\n",
        "\n",
        "\n",
        "def run():\n",
        "    output = None\n",
        "    x = tf.placeholder(tf.int32)\n",
        "\n",
        "    with tf.Session() as sess:\n",
        "        output = sess.run(x, feed_dict={x: 123})\n",
        "\n",
        "    return output\n"
      ],
      "execution_count": 0,
      "outputs": []
    }
  ]
}