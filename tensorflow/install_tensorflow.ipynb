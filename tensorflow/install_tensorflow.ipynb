{
  "nbformat": 4,
  "nbformat_minor": 0,
  "metadata": {
    "colab": {
      "name": "“install_tensorflow.ipynb”的副本",
      "version": "0.3.2",
      "provenance": [],
      "include_colab_link": true
    },
    "kernelspec": {
      "name": "python3",
      "display_name": "Python 3"
    }
  },
  "cells": [
    {
      "cell_type": "markdown",
      "metadata": {
        "id": "view-in-github",
        "colab_type": "text"
      },
      "source": [
        "<a href=\"https://colab.research.google.com/github/Bingle-labake/deeplearn/blob/master/tensorflow/install_tensorflow.ipynb\" target=\"_parent\"><img src=\"https://colab.research.google.com/assets/colab-badge.svg\" alt=\"Open In Colab\"/></a>"
      ]
    },
    {
      "metadata": {
        "id": "XXnvhxHsFvKw",
        "colab_type": "text"
      },
      "cell_type": "markdown",
      "source": [
        "![替代文字](https://d17h27t6h515a5.cloudfront.net/topher/2016/October/580acaa6_tensorflow/tensorflow.png)\n",
        "\n",
        "    在这节课中，你将把你学到的神经网络的知识，借助 TensorFlow ，一个 Google 开源的深度学习框架，应用在真实的数据集中。\n",
        "\n",
        "    你将使用 TensorFlow 来辨别 notMNIST 数据集。它是一个由 A 到 J 的英文字母图片组成的数据集，下面是一些示例。\n",
        "![替代文字](https://d17h27t6h515a5.cloudfront.net/topher/2016/October/58051e40_notmnist/notmnist.png)\n",
        "\n",
        "    你的目标是根据数据集中的图片，自动识别字母。在自己电脑上就可以完成这个项目。不过首先，你要安装 TensorFlow！\n",
        "\n"
      ]
    },
    {
      "metadata": {
        "id": "3LQEgtZsGHco",
        "colab_type": "text"
      },
      "cell_type": "markdown",
      "source": [
        "# 安装"
      ]
    },
    {
      "metadata": {
        "id": "ngseB9t2GMxY",
        "colab_type": "text"
      },
      "cell_type": "markdown",
      "source": [
        "跟往常一样，我们用 Conda 来安装 TensorFlow。你也许已经有了一个 TensorFlow 环境，但要确保你安装了所有必要的包。"
      ]
    },
    {
      "metadata": {
        "id": "HultIOlBGQrw",
        "colab_type": "text"
      },
      "cell_type": "markdown",
      "source": [
        "### OS X 或 Linux\n",
        "运行下列命令来配置开发环境"
      ]
    },
    {
      "metadata": {
        "id": "J1FVmZUwFjT-",
        "colab_type": "code",
        "colab": {}
      },
      "cell_type": "code",
      "source": [
        "onda create -n tensorflow python=3.5\n",
        "source activate tensorflow\n",
        "conda install pandas matplotlib jupyter notebook scipy scikit-learn\n",
        "conda install -c conda-forge tensorflow"
      ],
      "execution_count": 0,
      "outputs": []
    },
    {
      "metadata": {
        "id": "6dqXCBy5GfVJ",
        "colab_type": "text"
      },
      "cell_type": "markdown",
      "source": [
        "###Windows\n",
        "Windows系统，在你的 console 或者 Anaconda shell 界面，运行"
      ]
    },
    {
      "metadata": {
        "id": "tY7NoP6WGlTB",
        "colab_type": "code",
        "colab": {}
      },
      "cell_type": "code",
      "source": [
        "conda create -n tensorflow python=3.5\n",
        "activate tensorflow\n",
        "conda install pandas matplotlib jupyter notebook scipy scikit-learn\n",
        "conda install -c conda-forge tensorflow"
      ],
      "execution_count": 0,
      "outputs": []
    },
    {
      "metadata": {
        "id": "pDHiZAkEGsja",
        "colab_type": "text"
      },
      "cell_type": "markdown",
      "source": [
        "###Hello, world!\n",
        "在 Python console 下运行下列代码，检测 TensorFlow 是否正确安装。如果安装正确，Console 会打印出 \"Hello, world!\"。现在还不需要理解这段代码做了什么，你会在下一节学到。"
      ]
    },
    {
      "metadata": {
        "id": "lF3_Iut5GwHy",
        "colab_type": "code",
        "colab": {}
      },
      "cell_type": "code",
      "source": [
        "import tensorflow as tf\n",
        "\n",
        "# Create TensorFlow object called tensor\n",
        "hello_constant = tf.constant('Hello World!')\n",
        "\n",
        "with tf.Session() as sess:\n",
        "    # Run the tf.constant operation in the session\n",
        "    output = sess.run(hello_constant)\n",
        "    print(output)"
      ],
      "execution_count": 0,
      "outputs": []
    }
  ]
}