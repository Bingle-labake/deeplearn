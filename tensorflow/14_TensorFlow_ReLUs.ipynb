{
  "nbformat": 4,
  "nbformat_minor": 0,
  "metadata": {
    "colab": {
      "name": "14_TensorFlow_ReLUs.ipynb",
      "version": "0.3.2",
      "provenance": [],
      "collapsed_sections": [],
      "include_colab_link": true
    },
    "kernelspec": {
      "name": "python3",
      "display_name": "Python 3"
    }
  },
  "cells": [
    {
      "cell_type": "markdown",
      "metadata": {
        "id": "view-in-github",
        "colab_type": "text"
      },
      "source": [
        "<a href=\"https://colab.research.google.com/github/Bingle-labake/deeplearn/blob/master/tensorflow/14_TensorFlow_ReLUs.ipynb\" target=\"_parent\"><img src=\"https://colab.research.google.com/assets/colab-badge.svg\" alt=\"Open In Colab\"/></a>"
      ]
    },
    {
      "metadata": {
        "id": "r340fgClGkOY",
        "colab_type": "text"
      },
      "cell_type": "markdown",
      "source": [
        "###TensorFlow ReLUs\n",
        "TensorFlow 提供了 ReLU 函数 tf.nn.relu()，如下所示："
      ]
    },
    {
      "metadata": {
        "id": "572lxUPJGaOG",
        "colab_type": "code",
        "colab": {}
      },
      "cell_type": "code",
      "source": [
        "# Hidden Layer with ReLU activation function\n",
        "# 隐藏层用 ReLU 作为激活函数\n",
        "hidden_layer = tf.add(tf.matmul(features, hidden_weights), hidden_biases)\n",
        "hidden_layer = tf.nn.relu(hidden_layer)\n",
        "\n",
        "output = tf.add(tf.matmul(hidden_layer, output_weights), output_biases)"
      ],
      "execution_count": 0,
      "outputs": []
    },
    {
      "metadata": {
        "id": "Df-yTEYQGwm4",
        "colab_type": "text"
      },
      "cell_type": "markdown",
      "source": [
        "上面的代码把tf.nn.relu() 放到隐藏层，就像开关一样把负权重关掉了。在激活函数之后，添加像输出层这样额外的层，就把模型变成了非线性函数。这个非线性的特征使得网络可以解决更复杂的问题。\n",
        "\n",
        "###练习\n",
        "下面你将用 ReLU 函数把一个线性单层网络转变成非线性多层网络。\n",
        "![替代文字](https://d17h27t6h515a5.cloudfront.net/topher/2017/February/58ae428b_relu-network/relu-network.png)\n",
        "\n"
      ]
    },
    {
      "metadata": {
        "id": "4SxKiz1vG4KQ",
        "colab_type": "code",
        "colab": {}
      },
      "cell_type": "code",
      "source": [
        "#quiz.py\n",
        "# Solution is available in the other \"solution.py\" tab\n",
        "import tensorflow as tf\n",
        "\n",
        "output = None\n",
        "hidden_layer_weights = [\n",
        "    [0.1, 0.2, 0.4],\n",
        "    [0.4, 0.6, 0.6],\n",
        "    [0.5, 0.9, 0.1],\n",
        "    [0.8, 0.2, 0.8]]\n",
        "out_weights = [\n",
        "    [0.1, 0.6],\n",
        "    [0.2, 0.1],\n",
        "    [0.7, 0.9]]\n",
        "\n",
        "# Weights and biases\n",
        "weights = [\n",
        "    tf.Variable(hidden_layer_weights),\n",
        "    tf.Variable(out_weights)]\n",
        "biases = [\n",
        "    tf.Variable(tf.zeros(3)),\n",
        "    tf.Variable(tf.zeros(2))]\n",
        "\n",
        "# Input\n",
        "features = tf.Variable([[1.0, 2.0, 3.0, 4.0], [-1.0, -2.0, -3.0, -4.0], [11.0, 12.0, 13.0, 14.0]])\n",
        "\n",
        "# TODO: Create Model\n",
        "\n",
        "# TODO: Print session results"
      ],
      "execution_count": 0,
      "outputs": []
    },
    {
      "metadata": {
        "id": "M_I2ubLtHYvp",
        "colab_type": "code",
        "colab": {}
      },
      "cell_type": "code",
      "source": [
        "# Quiz Solution\n",
        "# Note: You can't run code in this tab\n",
        "import tensorflow as tf\n",
        "\n",
        "output = None\n",
        "hidden_layer_weights = [\n",
        "    [0.1, 0.2, 0.4],\n",
        "    [0.4, 0.6, 0.6],\n",
        "    [0.5, 0.9, 0.1],\n",
        "    [0.8, 0.2, 0.8]]\n",
        "out_weights = [\n",
        "    [0.1, 0.6],\n",
        "    [0.2, 0.1],\n",
        "    [0.7, 0.9]]\n",
        "\n",
        "# Weights and biases\n",
        "weights = [\n",
        "    tf.Variable(hidden_layer_weights),\n",
        "    tf.Variable(out_weights)]\n",
        "biases = [\n",
        "    tf.Variable(tf.zeros(3)),\n",
        "    tf.Variable(tf.zeros(2))]\n",
        "\n",
        "# Input\n",
        "features = tf.Variable([[1.0, 2.0, 3.0, 4.0], [-1.0, -2.0, -3.0, -4.0], [11.0, 12.0, 13.0, 14.0]])\n",
        "\n",
        "# TODO: Create Model\n",
        "hidden_layer = tf.add(tf.matmul(features, weights[0]), biases[0])\n",
        "hidden_layer = tf.nn.relu(hidden_layer)\n",
        "logits = tf.add(tf.matmul(hidden_layer, weights[1]), biases[1])\n",
        "\n",
        "# TODO: Print session results\n",
        "with tf.Session() as sess:\n",
        "    sess.run(tf.global_variables_initializer())\n",
        "    print(sess.run(logits))"
      ],
      "execution_count": 0,
      "outputs": []
    }
  ]
}