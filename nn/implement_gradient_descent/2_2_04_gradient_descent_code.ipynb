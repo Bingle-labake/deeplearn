{
  "nbformat": 4,
  "nbformat_minor": 0,
  "metadata": {
    "colab": {
      "name": "2_2_04_gradient_descent_code.ipynb",
      "version": "0.3.2",
      "provenance": [],
      "include_colab_link": true
    },
    "kernelspec": {
      "name": "python3",
      "display_name": "Python 3"
    }
  },
  "cells": [
    {
      "cell_type": "markdown",
      "metadata": {
        "id": "view-in-github",
        "colab_type": "text"
      },
      "source": [
        "<a href=\"https://colab.research.google.com/github/Bingle-labake/deeplearn/blob/master/nn/implement_gradient_descent/2_2_04_gradient_descent_code.ipynb\" target=\"_parent\"><img src=\"https://colab.research.google.com/assets/colab-badge.svg\" alt=\"Open In Colab\"/></a>"
      ]
    },
    {
      "cell_type": "markdown",
      "metadata": {
        "id": "Qg7B4zca7FEd",
        "colab_type": "text"
      },
      "source": [
        "##梯度下降：代码\n",
        "之前我们看到一个权重的更新可以这样计算：\n",
        "\n",
        "![替代文字](https://s2.ax1x.com/2019/09/05/nulGvV.png)\n",
        "\n",
        "现在假设只有一个输出单元，我来把这个写成代码。我们还是用 sigmoid 来作为激活函数 f(h)f(h)。"
      ]
    },
    {
      "cell_type": "code",
      "metadata": {
        "id": "Wxrp2SMn6oLD",
        "colab_type": "code",
        "colab": {}
      },
      "source": [
        "import numpy as np\n",
        "# Defining the sigmoid function for activations \n",
        "# 定义 sigmoid 激活函数\n",
        "def sigmoid(x):\n",
        "    return 1/(1+np.exp(-x))\n",
        "\n",
        "# Derivative of the sigmoid function\n",
        "# 激活函数的导数\n",
        "def sigmoid_prime(x):\n",
        "    return sigmoid(x) * (1 - sigmoid(x))\n",
        "\n",
        "# Input data\n",
        "# 输入数据\n",
        "x = np.array([0.1, 0.3])\n",
        "# Target\n",
        "# 目标\n",
        "y = 0.2\n",
        "# Input to output weights\n",
        "# 输入到输出的权重\n",
        "weights = np.array([-0.8, 0.5])\n",
        "\n",
        "# The learning rate, eta in the weight step equation\n",
        "# 权重更新的学习率\n",
        "learnrate = 0.5\n",
        "\n",
        "# the linear combination performed by the node (h in f(h) and f'(h))\n",
        "# 输入和权重的线性组合\n",
        "h = x[0]*weights[0] + x[1]*weights[1]\n",
        "# or h = np.dot(x, weights)\n",
        "\n",
        "# The neural network output (y-hat)\n",
        "# 神经网络输出\n",
        "nn_output = sigmoid(h)\n",
        "\n",
        "# output error (y - y-hat)\n",
        "# 输出误差\n",
        "error = y - nn_output\n",
        "\n",
        "# output gradient (f'(h))\n",
        "# 输出梯度\n",
        "output_grad = sigmoid_prime(h)\n",
        "\n",
        "# error term (lowercase delta)\n",
        "error_term = error * output_grad\n",
        "\n",
        "# Gradient descent step \n",
        "# 梯度下降一步\n",
        "del_w = [ learnrate * error_term * x[0],\n",
        "          learnrate * error_term * x[1]]\n",
        "# or del_w = learnrate * error_term * x"
      ],
      "execution_count": 0,
      "outputs": []
    },
    {
      "cell_type": "code",
      "metadata": {
        "id": "Ytu6lunS7SWe",
        "colab_type": "code",
        "colab": {
          "base_uri": "https://localhost:8080/",
          "height": 119
        },
        "outputId": "4f4eed15-64db-4181-e1a9-f4cc51aef4de"
      },
      "source": [
        "import numpy as np\n",
        "\n",
        "def sigmoid(x):\n",
        "    \"\"\"\n",
        "    Calculate sigmoid\n",
        "    \"\"\"\n",
        "    return 1/(1+np.exp(-x))\n",
        "\n",
        "def sigmoid_prime(x):\n",
        "    \"\"\"\n",
        "    # Derivative of the sigmoid function\n",
        "    \"\"\"\n",
        "    return sigmoid(x) * (1 - sigmoid(x))\n",
        "\n",
        "learnrate = 0.5\n",
        "x = np.array([1, 2, 3, 4])\n",
        "y = np.array(0.5)\n",
        "\n",
        "# Initial weights\n",
        "w = np.array([0.5, -0.5, 0.3, 0.1])\n",
        "\n",
        "### Calculate one gradient descent step for each weight\n",
        "### Note: Some steps have been consolidated, so there are\n",
        "###       fewer variable names than in the above sample code\n",
        "\n",
        "# TODO: Calculate the node's linear combination of inputs and weights\n",
        "h = np.dot(x, w)\n",
        "\n",
        "# TODO: Calculate output of neural network\n",
        "nn_output = sigmoid(h)\n",
        "\n",
        "# TODO: Calculate error of neural network\n",
        "error = y - nn_output\n",
        "\n",
        "# TODO: Calculate the error term\n",
        "#       Remember, this requires the output gradient, which we haven't\n",
        "#       specifically added a variable for.\n",
        "error_term = error * sigmoid_prime(h)\n",
        "\n",
        "# TODO: Calculate change in weights\n",
        "del_w = error_term * x *learnrate\n",
        "\n",
        "print('Neural Network output:')\n",
        "print(nn_output)\n",
        "print('Amount of Error:')\n",
        "print(error)\n",
        "print('Change in Weights:')\n",
        "print(del_w)"
      ],
      "execution_count": 3,
      "outputs": [
        {
          "output_type": "stream",
          "text": [
            "Neural Network output:\n",
            "0.6899744811276125\n",
            "Amount of Error:\n",
            "-0.1899744811276125\n",
            "Change in Weights:\n",
            "[-0.02031869 -0.04063738 -0.06095608 -0.08127477]\n"
          ],
          "name": "stdout"
        }
      ]
    }
  ]
}