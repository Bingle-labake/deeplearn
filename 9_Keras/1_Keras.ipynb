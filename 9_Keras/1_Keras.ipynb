{
  "nbformat": 4,
  "nbformat_minor": 0,
  "metadata": {
    "colab": {
      "name": "1_Keras.ipynb",
      "version": "0.3.2",
      "provenance": [],
      "collapsed_sections": [],
      "include_colab_link": true
    },
    "kernelspec": {
      "name": "python3",
      "display_name": "Python 3"
    }
  },
  "cells": [
    {
      "cell_type": "markdown",
      "metadata": {
        "id": "view-in-github",
        "colab_type": "text"
      },
      "source": [
        "<a href=\"https://colab.research.google.com/github/Bingle-labake/deeplearn/blob/master/9_Keras/1_Keras.ipynb\" target=\"_parent\"><img src=\"https://colab.research.google.com/assets/colab-badge.svg\" alt=\"Open In Colab\"/></a>"
      ]
    },
    {
      "metadata": {
        "id": "ftwtccs8u_PV",
        "colab_type": "text"
      },
      "cell_type": "markdown",
      "source": [
        "###用 Keras 构建神经网络\n",
        "幸运的是，每次我们需要使用神经网络时，都不需要编写激活函数、梯度下降等。有很多包可以帮助我们，建议你了解这些包，包括以下包：\n",
        "*   Keras\n",
        "*   TensorFlow\n",
        "*   Caffe\n",
        "*   Theano\n",
        "*   Scikit-learn\n",
        "\n",
        "以及很多其他包！\n",
        "在这门课程中，我们将学习 Keras。Keras 使神经网络的编写过程更简单。为了展示有多简单，你将用几行代码构建一个完全连接的简单网络。\n",
        "\n",
        "我们会将在前几课学习的概念与 Keras 提供的方法关联起来。\n",
        "\n",
        "该示例的一般流程是首先加载数据，然后定义网络，最后训练网络。\n",
        "\n",
        "###用 Keras 构建神经网络\n",
        "要使用 Keras，你需要知道以下几个核心概念。\n",
        "\n",
        "###序列模型"
      ]
    },
    {
      "metadata": {
        "id": "lqGX_n_zu4I8",
        "colab_type": "code",
        "colab": {}
      },
      "cell_type": "code",
      "source": [
        "    from keras.models import Sequential\n",
        "\n",
        "    #Create the Sequential model\n",
        "    model = Sequential()"
      ],
      "execution_count": 0,
      "outputs": []
    },
    {
      "metadata": {
        "id": "Dmas8igHvXBF",
        "colab_type": "text"
      },
      "cell_type": "markdown",
      "source": [
        "[keras.models.Sequential ](https://keras.io/models/sequential/)类是神经网络模型的封装容器。它会提供常见的函数，例如 fit()、evaluate() 和 compile()。我们将介绍这些函数（在碰到这些函数的时候）。我们开始研究模型的层吧。\n",
        "\n",
        "###层\n",
        "Keras 层就像神经网络层。有全连接层、最大池化层和激活层。你可以使用模型的 add() 函数添加层。例如，简单的模型可以如下所示："
      ]
    },
    {
      "metadata": {
        "id": "seFXuV-Yvlre",
        "colab_type": "code",
        "colab": {}
      },
      "cell_type": "code",
      "source": [
        "    from keras.models import Sequential\n",
        "    from keras.layers.core import Dense, Activation, Flatten\n",
        "\n",
        "    #创建序列模型\n",
        "    model = Sequential()\n",
        "\n",
        "    #第一层 - 添加有128个节点的全连接层以及32个节点的输入层\n",
        "    model.add(Dense(128, input_dim=32))\n",
        "\n",
        "    #第二层 - 添加 softmax 激活层\n",
        "    model.add(Activation('softmax'))\n",
        "\n",
        "    #第三层 - 添加全连接层\n",
        "    model.add(Dense(10))\n",
        "\n",
        "    #第四层 - 添加 Sigmoid 激活层\n",
        "    model.add(Activation('sigmoid'))"
      ],
      "execution_count": 0,
      "outputs": []
    },
    {
      "metadata": {
        "id": "UvtJ1biKvqBF",
        "colab_type": "text"
      },
      "cell_type": "markdown",
      "source": [
        "Keras 将根据第一层自动推断后续所有层的形状。这意味着，你只需为第一层设置输入维度。\n",
        "\n",
        "上面的第一层 model.add(Dense(input_dim=32)) 将维度设为 32（表示数据来自 32 维空间）。第二层级获取第一层级的输出，并将输出维度设为 128 个节点。这种将输出传递给下一层级的链继续下去，直到最后一个层级（即模型的输出）。可以看出输出维度是 10。\n",
        "\n",
        "构建好模型后，我们就可以用以下命令对其进行编译。我们将损失函数指定为我们一直处理的 categorical_crossentropy。我们还可以指定优化程序，稍后我们将了解这一概念，暂时将使用 adam。最后，我们可以指定评估模型用到的指标。我们将使用准确率。"
      ]
    },
    {
      "metadata": {
        "id": "QGKqP191vtC-",
        "colab_type": "code",
        "colab": {}
      },
      "cell_type": "code",
      "source": [
        "model.compile(loss=\"categorical_crossentropy\", optimizer=\"adam\", metrics = ['accuracy'])"
      ],
      "execution_count": 0,
      "outputs": []
    },
    {
      "metadata": {
        "id": "NDkFypwWvuHd",
        "colab_type": "text"
      },
      "cell_type": "markdown",
      "source": [
        "我们可以使用以下命令来查看模型架构："
      ]
    },
    {
      "metadata": {
        "id": "ykimVYMtvxad",
        "colab_type": "code",
        "colab": {}
      },
      "cell_type": "code",
      "source": [
        "model.summary()"
      ],
      "execution_count": 0,
      "outputs": []
    },
    {
      "metadata": {
        "id": "J-12xW7svz1d",
        "colab_type": "text"
      },
      "cell_type": "markdown",
      "source": [
        "然后使用以下命令对其进行拟合，指定 epoch 次数和我们希望在屏幕上显示的信息详细程度。\n",
        "\n",
        "然后使用fit命令训练模型并通过 epoch 参数来指定训练轮数（周期），每 epoch 完成对整数据集的一次遍历。 verbose 参数可以指定显示训练过程信息类型，这里定义为 0 表示不显示信息。\n",
        "\n"
      ]
    },
    {
      "metadata": {
        "id": "6Es5LTTHv3Ye",
        "colab_type": "code",
        "colab": {}
      },
      "cell_type": "code",
      "source": [
        "model.fit(X, y, nb_epoch=1000, verbose=0)"
      ],
      "execution_count": 0,
      "outputs": []
    },
    {
      "metadata": {
        "id": "PRc1LhDKv6sW",
        "colab_type": "text"
      },
      "cell_type": "markdown",
      "source": [
        "注意：在 Keras 1 中，nb_epoch 会设置 epoch 次数，但是在 Keras 2 中，变成了 epochs。\n",
        "\n",
        "最后，我们可以使用以下命令来评估模型："
      ]
    },
    {
      "metadata": {
        "id": "N2ynrImOv9TO",
        "colab_type": "code",
        "colab": {}
      },
      "cell_type": "code",
      "source": [
        "model.evaluate()"
      ],
      "execution_count": 0,
      "outputs": []
    },
    {
      "metadata": {
        "id": "3j4T4Ku4v_pG",
        "colab_type": "text"
      },
      "cell_type": "markdown",
      "source": [
        "很简单，对吧？我们实践操作下。\n",
        "\n",
        "###练习\n",
        "我们从最简单的示例开始。在此测验中，你将构建一个简单的多层前向反馈神经网络以解决 XOR 问题。\n",
        "\n",
        "1.   将第一层设为 Dense() 层，并将节点数设为8，且 input_dim 设为 2。\n",
        "2.   在第二层之后使用 softmax 激活函数。\n",
        "3.   将输出层节点设为 2，因为输出只有 2 个类别。\n",
        "4.   在输出层之后使用 softmax 激活函数。\n",
        "5.   对模型运行 10 个 epoch。\n",
        "\n",
        "准确度应该为 50%。可以接受，当然肯定不是太理想！在 4 个点中，只有 2 个点分类正确？我们试着修改某些参数，以改变这一状况。例如，你可以增加 epoch 次数以及改变激活函数的类型。如果准确率达到 75%，你将通过这道测验。能尝试达到 100% 吗？\n",
        "\n",
        "首先，查看关于模型和层级的 Keras 文档。 Keras 多层感知器网络示例和你要构建的类似。请将该示例当做指南，但是注意有很多不同之处。"
      ]
    },
    {
      "metadata": {
        "id": "rSGo_nunwbx3",
        "colab_type": "code",
        "colab": {}
      },
      "cell_type": "code",
      "source": [
        "#network_solution.py\n",
        "\n",
        "import numpy as np\n",
        "from keras.utils import np_utils\n",
        "import tensorflow as tf\n",
        "tf.python.control_flow_ops = tf\n",
        "\n",
        "# Set random seed\n",
        "np.random.seed(42)\n",
        "\n",
        "# Our data\n",
        "X = np.array([[0,0],[0,1],[1,0],[1,1]]).astype('float32')\n",
        "y = np.array([[0],[1],[1],[0]]).astype('float32')\n",
        "\n",
        "# Initial Setup for Keras\n",
        "from keras.models import Sequential\n",
        "from keras.layers.core import Dense, Activation, Flatten\n",
        "\n",
        "# One-hot encoding the output\n",
        "y = np_utils.to_categorical(y)\n",
        "\n",
        "# Building the model\n",
        "xor = Sequential()\n",
        "xor.add(Dense(32, input_dim=2))\n",
        "xor.add(Activation(\"tanh\"))\n",
        "xor.add(Dense(2))\n",
        "xor.add(Activation(\"sigmoid\"))\n",
        "\n",
        "xor.compile(loss=\"categorical_crossentropy\", optimizer=\"adam\", metrics = ['accuracy'])\n",
        "\n",
        "# Uncomment this line to print the model architecture\n",
        "# xor.summary()\n",
        "\n",
        "# Fitting the model\n",
        "history = xor.fit(X, y, nb_epoch=1000, verbose=0)\n",
        "\n",
        "# Scoring the model\n",
        "score = xor.evaluate(X, y)\n",
        "print(\"\\nAccuracy: \", score[-1])\n",
        "\n",
        "# Checking the predictions\n",
        "print(\"\\nPredictions:\")\n",
        "print(xor.predict_proba(X))"
      ],
      "execution_count": 0,
      "outputs": []
    },
    {
      "metadata": {
        "id": "XuIPb_IfwsV5",
        "colab_type": "text"
      },
      "cell_type": "markdown",
      "source": [
        "###新技巧\n",
        "我们的准确率达到了 75%，甚至会达到 100%，但是并不轻松！\n",
        "\n",
        "这也暗示了在现实生活中，神经网络训练起来有点难。解决有 4 个数据点的简单 XOR 问题就需要一个庞大的架构！并且我们知道（理论上）具有 2 个隐藏节点的 2 层网络可以做到。\n",
        "\n",
        "现在我们尝试一项任务。回到测验，并执行以下步骤：\n",
        "\n",
        "\n",
        "*   将架构中第一个层，节点数改为64\n",
        "*   加一个节点数为8的全链接层\n",
        "*   第一个激活函数设为 relu（我们稍后将学习这一概念）\n",
        "*   将 epoch 次数设为 100。\n",
        "\n",
        "现在点击测试运行。准确率是多少？像我一样达到 100% 了吗？很神奇，对吧？似乎 relu 很有用。\n",
        "\n",
        "在下面的几个部分，我们将学习几个类似的训练优化技巧。"
      ]
    }
  ]
}