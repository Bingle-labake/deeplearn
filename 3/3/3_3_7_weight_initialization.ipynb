{
  "nbformat": 4,
  "nbformat_minor": 0,
  "metadata": {
    "colab": {
      "name": "3_3_7_weight_initialization.ipynb",
      "provenance": [],
      "include_colab_link": true
    },
    "kernelspec": {
      "name": "python3",
      "display_name": "Python 3"
    }
  },
  "cells": [
    {
      "cell_type": "markdown",
      "metadata": {
        "id": "view-in-github",
        "colab_type": "text"
      },
      "source": [
        "<a href=\"https://colab.research.google.com/github/Bingle-labake/deeplearn/blob/master/3/3/3_3_7_weight_initialization.ipynb\" target=\"_parent\"><img src=\"https://colab.research.google.com/assets/colab-badge.svg\" alt=\"Open In Colab\"/></a>"
      ]
    },
    {
      "cell_type": "code",
      "metadata": {
        "id": "kGwgFgFpuoXQ",
        "colab_type": "code",
        "outputId": "6a9c1c31-a0c4-41b0-e807-55848f9b3406",
        "colab": {
          "base_uri": "https://localhost:8080/",
          "height": 235
        }
      },
      "source": [
        "!apt-get install -y -qq software-properties-common python-software-properties module-init-tools\n",
        "!add-apt-repository -y ppa:alessandro-strada/ppa 2>&1 > /dev/null\n",
        "!apt-get update -qq 2>&1 > /dev/null\n",
        "!apt-get -y install -qq google-drive-ocamlfuse fuse\n",
        "from google.colab import auth\n",
        "auth.authenticate_user()\n",
        "from oauth2client.client import GoogleCredentials\n",
        "creds = GoogleCredentials.get_application_default()\n",
        "import getpass\n",
        "!google-drive-ocamlfuse -headless -id={creds.client_id} -secret={creds.client_secret} < /dev/null 2>&1 | grep URL\n",
        "vcode = getpass.getpass()\n",
        "!echo {vcode} | google-drive-ocamlfuse -headless -id={creds.client_id} -secret={creds.client_secret}"
      ],
      "execution_count": 0,
      "outputs": [
        {
          "output_type": "stream",
          "text": [
            "E: Package 'python-software-properties' has no installation candidate\n",
            "Selecting previously unselected package google-drive-ocamlfuse.\n",
            "(Reading database ... 134985 files and directories currently installed.)\n",
            "Preparing to unpack .../google-drive-ocamlfuse_0.7.14-0ubuntu1~ubuntu18.04.1_amd64.deb ...\n",
            "Unpacking google-drive-ocamlfuse (0.7.14-0ubuntu1~ubuntu18.04.1) ...\n",
            "Setting up google-drive-ocamlfuse (0.7.14-0ubuntu1~ubuntu18.04.1) ...\n",
            "Processing triggers for man-db (2.8.3-2ubuntu0.1) ...\n",
            "Please, open the following URL in a web browser: https://accounts.google.com/o/oauth2/auth?client_id=32555940559.apps.googleusercontent.com&redirect_uri=urn%3Aietf%3Awg%3Aoauth%3A2.0%3Aoob&scope=https%3A%2F%2Fwww.googleapis.com%2Fauth%2Fdrive&response_type=code&access_type=offline&approval_prompt=force\n",
            "··········\n",
            "Please, open the following URL in a web browser: https://accounts.google.com/o/oauth2/auth?client_id=32555940559.apps.googleusercontent.com&redirect_uri=urn%3Aietf%3Awg%3Aoauth%3A2.0%3Aoob&scope=https%3A%2F%2Fwww.googleapis.com%2Fauth%2Fdrive&response_type=code&access_type=offline&approval_prompt=force\n",
            "Please enter the verification code: Access token retrieved correctly.\n"
          ],
          "name": "stdout"
        }
      ]
    },
    {
      "cell_type": "code",
      "metadata": {
        "id": "U1KkjZJvu-iS",
        "colab_type": "code",
        "colab": {}
      },
      "source": [
        "!mkdir -p drive\n",
        "!google-drive-ocamlfuse drive"
      ],
      "execution_count": 0,
      "outputs": []
    },
    {
      "cell_type": "code",
      "metadata": {
        "id": "k7_UNDkrvCuS",
        "colab_type": "code",
        "outputId": "c71eb3cf-20bf-4832-c1cd-cee38bc2d00b",
        "colab": {
          "base_uri": "https://localhost:8080/",
          "height": 35
        }
      },
      "source": [
        "cd /content/drive/colab/3_3_7/"
      ],
      "execution_count": 0,
      "outputs": [
        {
          "output_type": "stream",
          "text": [
            "/content/drive/colab/3_3_7\n"
          ],
          "name": "stdout"
        }
      ]
    },
    {
      "cell_type": "markdown",
      "metadata": {
        "id": "hjY3Mr5mSInv",
        "colab_type": "text"
      },
      "source": [
        "##权重初始化\n",
        "在这节课，你将学习如何为神经网络设置合适的初始权重。权重初始化只发生一次，发生在模型创建时及训练之前。合适的初始权重使神经网络更接近最佳模型，从而使神经网络能更快地达到最佳模型。\n",
        "\n",
        "![替代文字](http://p7.qhimg.com/t016182dd0b44c10446.png)"
      ]
    },
    {
      "cell_type": "markdown",
      "metadata": {
        "id": "TH95GdNFSq2_",
        "colab_type": "text"
      },
      "source": [
        "##初始权重和观察训练损失\n",
        "要查看不同权重的效果，我们将用相同的数据集和神经网络进行测试。这样我们就知道模型行为的任何变化是由权重导致的，而不是数据变化或模型架构导致的。\n",
        "\n",
        "\n",
        "> 我们将实例化至少两个相同的模型，并且具有不同的初始权重，看看训练损失是如何降低的，如以下示例所示。\n",
        "\n",
        "![替代文字](http://p2.qhimg.com/t012166aff403cb417b.png)\n",
        "\n",
        "\n",
        "有时候训练损失的差异将很大，有时候某些权重带来的改进很小。\n",
        "\n",
        "##数据集和模型\n",
        "\n",
        "我们将训练 MLP 对 Fashion-MNIST 数据库中的图像进行分类，演示不同初始权重的影响。注意，Fashion MNIST 数据集包含服饰类图像；classes = ['T-shirt/top', 'Trouser', 'Pullover', 'Dress', 'Coat', 'Sandal', 'Shirt', 'Sneaker', 'Bag', 'Ankle boot']。图像已标准化，因此像素值范围是 [0.0 - 1.0)。请运行以下单元格，以下载和加载数据集。\n",
        "\n",
        "\n",
        "\n",
        "---\n",
        "\n",
        "\n",
        "####练习\n",
        "\n",
        "[正态分布练习代码的链接](https://)\n",
        "\n",
        "###导入库并加载[数据](https://pytorch.org/docs/stable/torchvision/datasets.html)"
      ]
    },
    {
      "cell_type": "code",
      "metadata": {
        "id": "yV07QrSXRysx",
        "colab_type": "code",
        "outputId": "726f00de-4b35-4dbd-bb34-eb118b7b6be9",
        "colab": {
          "base_uri": "https://localhost:8080/",
          "height": 251
        }
      },
      "source": [
        "import torch\n",
        "import numpy as np\n",
        "from torchvision import datasets\n",
        "import torchvision.transforms as transforms\n",
        "from torch.utils.data.sampler import SubsetRandomSampler\n",
        "\n",
        "# number of subprocesses to use for data loading\n",
        "num_workers = 0\n",
        "# how many samples per batch to load\n",
        "batch_size = 100\n",
        "# percentage of training set to use as validation\n",
        "valid_size = 0.2\n",
        "\n",
        "# convert data to torch.FloatTensor\n",
        "transform = transforms.ToTensor()\n",
        "\n",
        "# choose the training and test datasets\n",
        "train_data = datasets.FashionMNIST(root='data', train=True,\n",
        "                                   download=True, transform=transform)\n",
        "test_data = datasets.FashionMNIST(root='data', train=False,\n",
        "                                  download=True, transform=transform)\n",
        "\n",
        "# obtain training indices that will be used for validation\n",
        "num_train = len(train_data)\n",
        "indices = list(range(num_train))\n",
        "np.random.shuffle(indices)\n",
        "split = int(np.floor(valid_size * num_train))\n",
        "train_idx, valid_idx = indices[split:], indices[:split]\n",
        "\n",
        "# define samplers for obtaining training and validation batches\n",
        "train_sampler = SubsetRandomSampler(train_idx)\n",
        "valid_sampler = SubsetRandomSampler(valid_idx)\n",
        "\n",
        "# prepare data loaders (combine dataset and sampler)\n",
        "train_loader = torch.utils.data.DataLoader(train_data, batch_size=batch_size,\n",
        "    sampler=train_sampler, num_workers=num_workers)\n",
        "valid_loader = torch.utils.data.DataLoader(train_data, batch_size=batch_size, \n",
        "    sampler=valid_sampler, num_workers=num_workers)\n",
        "test_loader = torch.utils.data.DataLoader(test_data, batch_size=batch_size, \n",
        "    num_workers=num_workers)\n",
        "\n",
        "# specify the image classes\n",
        "classes = ['T-shirt/top', 'Trouser', 'Pullover', 'Dress', 'Coat', \n",
        "    'Sandal', 'Shirt', 'Sneaker', 'Bag', 'Ankle boot']"
      ],
      "execution_count": 0,
      "outputs": [
        {
          "output_type": "stream",
          "text": [
            "\r0it [00:00, ?it/s]"
          ],
          "name": "stderr"
        },
        {
          "output_type": "stream",
          "text": [
            "Downloading http://fashion-mnist.s3-website.eu-central-1.amazonaws.com/train-images-idx3-ubyte.gz to data/FashionMNIST/raw/train-images-idx3-ubyte.gz\n"
          ],
          "name": "stdout"
        },
        {
          "output_type": "stream",
          "text": [
            "26427392it [00:09, 2688589.93it/s]                              \n"
          ],
          "name": "stderr"
        },
        {
          "output_type": "stream",
          "text": [
            "Extracting data/FashionMNIST/raw/train-images-idx3-ubyte.gz to data/FashionMNIST/raw\n"
          ],
          "name": "stdout"
        },
        {
          "output_type": "stream",
          "text": [
            "\r0it [00:00, ?it/s]"
          ],
          "name": "stderr"
        },
        {
          "output_type": "stream",
          "text": [
            "Downloading http://fashion-mnist.s3-website.eu-central-1.amazonaws.com/train-labels-idx1-ubyte.gz to data/FashionMNIST/raw/train-labels-idx1-ubyte.gz\n"
          ],
          "name": "stdout"
        },
        {
          "output_type": "stream",
          "text": [
            "32768it [00:03, 10005.42it/s]            \n"
          ],
          "name": "stderr"
        },
        {
          "output_type": "stream",
          "text": [
            "Extracting data/FashionMNIST/raw/train-labels-idx1-ubyte.gz to data/FashionMNIST/raw\n"
          ],
          "name": "stdout"
        },
        {
          "output_type": "stream",
          "text": [
            "\r0it [00:00, ?it/s]"
          ],
          "name": "stderr"
        },
        {
          "output_type": "stream",
          "text": [
            "Downloading http://fashion-mnist.s3-website.eu-central-1.amazonaws.com/t10k-images-idx3-ubyte.gz to data/FashionMNIST/raw/t10k-images-idx3-ubyte.gz\n"
          ],
          "name": "stdout"
        },
        {
          "output_type": "stream",
          "text": [
            "4423680it [00:04, 979963.51it/s]                              \n"
          ],
          "name": "stderr"
        },
        {
          "output_type": "stream",
          "text": [
            "Extracting data/FashionMNIST/raw/t10k-images-idx3-ubyte.gz to data/FashionMNIST/raw\n"
          ],
          "name": "stdout"
        },
        {
          "output_type": "stream",
          "text": [
            "\r0it [00:00, ?it/s]"
          ],
          "name": "stderr"
        },
        {
          "output_type": "stream",
          "text": [
            "Downloading http://fashion-mnist.s3-website.eu-central-1.amazonaws.com/t10k-labels-idx1-ubyte.gz to data/FashionMNIST/raw/t10k-labels-idx1-ubyte.gz\n"
          ],
          "name": "stdout"
        },
        {
          "output_type": "stream",
          "text": [
            "\r  0%|          | 0/5148 [00:01<?, ?it/s]"
          ],
          "name": "stderr"
        },
        {
          "output_type": "stream",
          "text": [
            "Extracting data/FashionMNIST/raw/t10k-labels-idx1-ubyte.gz to data/FashionMNIST/raw\n",
            "Processing...\n",
            "Done!\n"
          ],
          "name": "stdout"
        }
      ]
    },
    {
      "cell_type": "markdown",
      "metadata": {
        "id": "fOriZHrNTbIl",
        "colab_type": "text"
      },
      "source": [
        "###可视化一些训练数据"
      ]
    },
    {
      "cell_type": "code",
      "metadata": {
        "id": "veUnINUkUfFH",
        "colab_type": "code",
        "outputId": "1afce8ec-54a4-4f5b-cfb3-988c3595bc33",
        "colab": {
          "base_uri": "https://localhost:8080/",
          "height": 268
        }
      },
      "source": [
        "import matplotlib.pyplot as plt\n",
        "%matplotlib inline\n",
        "    \n",
        "# obtain one batch of training images\n",
        "dataiter = iter(train_loader)\n",
        "images, labels = dataiter.next()\n",
        "images = images.numpy()\n",
        "\n",
        "# plot the images in the batch, along with the corresponding labels\n",
        "fig = plt.figure(figsize=(25, 4))\n",
        "for idx in np.arange(20):\n",
        "    ax = fig.add_subplot(2, 20/2, idx+1, xticks=[], yticks=[])\n",
        "    ax.imshow(np.squeeze(images[idx]), cmap='gray')\n",
        "    ax.set_title(classes[labels[idx]])"
      ],
      "execution_count": 0,
      "outputs": [
        {
          "output_type": "display_data",
          "data": {
            "image/png": "[encoded data removed]",
            "text/plain": [
              "<Figure size 1800x288 with 20 Axes>"
            ]
          },
          "metadata": {
            "tags": []
          }
        }
      ]
    },
    {
      "cell_type": "markdown",
      "metadata": {
        "id": "ucTfq6jKUmMO",
        "colab_type": "text"
      },
      "source": [
        "##**定义模型架构**\n",
        "我们定义了用于分类数据集的 MLP。\n",
        "\n",
        "###**神经网络**\n",
        "\n",
        "![替代文字](http://p1.qhimg.com/t01bd315afad7399ce7.png)\n",
        "\n",
        "\n",
        "*   该 MLP 有 3 层，隐藏层的大小为 256 和 128。\n",
        "*   该 MLP 接受扁平化图像（长为 784 的向量），并生成 10 个类别分数。\n",
        "\n",
        "\n",
        "\n",
        "---\n",
        "\n",
        "\n",
        "\n",
        "我们将用这个 3 层神经网络测试不同初始权重的效果，该网络使用的是 ReLU 激活函数和 Adam 优化器。\n",
        "\n",
        "这里提到的经验适用于包含不同激活函数和优化器的其他神经网络。\n",
        "\n",
        "\n",
        "\n",
        "---\n",
        "\n",
        "\n",
        "##**初始化权重**\n",
        "我们先来看看某些初始权重。\n",
        "\n",
        "###**全为 0 和 1**\n",
        "如果你知道Occam's razor定律，你可能认为将所有权重设为 0 或 1 是最佳策略。但事实并非如此。\n",
        "\n",
        "如果所有权重一样，每个层级的所有神经元都将生成相同的输出。这样就很难判断要调整哪些权重。\n",
        "\n",
        "我们定义两个模型并将权重全设为 1 或 0，比较这两种模型的损失\n",
        "\n",
        "下面我们使用 PyTorch 的nn.init 用常量权重初始化每个线性层级。init 库提供了大量权\n",
        "\n",
        "重初始化函数，让你能够根据层级类型初始化每个层级的权重。\n",
        "\n",
        "在下面的情形中，我们查看模型里的每个层级/模块。如果是线性层级（这个 MLP 的所有三\n",
        "\n",
        "个层级都是线性层级），则将这些层级的权重初始化为 constant_weight，偏差为 0，代码\n",
        "\n",
        "如下所示：\n",
        "\n",
        "\n",
        "\n",
        "```\n",
        "if isinstance(m, nn.Linear): nn.init.constant_(m.weight, constant_weight) nn.init.constant_(m.bias, 0)\n",
        "```\n",
        "\n"
      ]
    },
    {
      "cell_type": "code",
      "metadata": {
        "id": "pLA3zySlVpYw",
        "colab_type": "code",
        "colab": {}
      },
      "source": [
        "import torch.nn as nn\n",
        "import torch.nn.functional as F\n",
        "\n",
        "# define the NN architecture\n",
        "class Net(nn.Module):\n",
        "    def __init__(self, hidden_1=256, hidden_2=128, constant_weight=None):\n",
        "        super(Net, self).__init__()\n",
        "        # linear layer (784 -> hidden_1)\n",
        "        self.fc1 = nn.Linear(28 * 28, hidden_1)\n",
        "        # linear layer (hidden_1 -> hidden_2)\n",
        "        self.fc2 = nn.Linear(hidden_1, hidden_2)\n",
        "        # linear layer (hidden_2 -> 10)\n",
        "        self.fc3 = nn.Linear(hidden_2, 10)\n",
        "        # dropout layer (p=0.2)\n",
        "        self.dropout = nn.Dropout(0.2)\n",
        "        \n",
        "        # initialize the weights to a specified, constant value\n",
        "        if(constant_weight is not None):\n",
        "            for m in self.modules():\n",
        "                if isinstance(m, nn.Linear):\n",
        "                    nn.init.constant_(m.weight, constant_weight)\n",
        "                    nn.init.constant_(m.bias, 0)\n",
        "    \n",
        "            \n",
        "    def forward(self, x):\n",
        "        # flatten image input\n",
        "        x = x.view(-1, 28 * 28)\n",
        "        # add hidden layer, with relu activation function\n",
        "        x = F.relu(self.fc1(x))\n",
        "        # add dropout layer\n",
        "        x = self.dropout(x)\n",
        "        # add hidden layer, with relu activation function\n",
        "        x = F.relu(self.fc2(x))\n",
        "        # add dropout layer\n",
        "        x = self.dropout(x)\n",
        "        # add output layer\n",
        "        x = self.fc3(x)\n",
        "        return x"
      ],
      "execution_count": 0,
      "outputs": []
    },
    {
      "cell_type": "markdown",
      "metadata": {
        "id": "hIBBwJhtV1Su",
        "colab_type": "text"
      },
      "source": [
        "##**比较模型行为**\n",
        "下面我们使用 helpers.compare_init_weights 比较在上面定义的两个模型 model_0 和 model_1 的训练和验证损失。此函数的输入参数是模型列表（每个具有不同的初始权重）、要生成的图形的名称，以及训练和验证数据集加载器。对于每个给定模型，它将绘制前 100 批的训练损失，并输出 2 个训练周期后的验证准确率。注意：如果批次大小很小，则可能需要增加周期数，以便更好地比较模型在观察几百张图像之后的行为。\n",
        "\n",
        "\n",
        "我们绘出前 100 批的损失，以便更好地判断哪种模型权重在训练开始时效果更好。**建议查看 helpers.py 中的代码，详细了解模型是如何训练、验证和比较的。**\n",
        "\n",
        "\n",
        "请运行以下单元格，看看权重全为 0 和全为 1 的差别。"
      ]
    },
    {
      "cell_type": "code",
      "metadata": {
        "id": "9bC5NZmeV_Yj",
        "colab_type": "code",
        "colab": {}
      },
      "source": [
        "# initialize two NN's with 0 and 1 constant weights\n",
        "model_0 = Net(constant_weight=0)\n",
        "model_1 = Net(constant_weight=1)"
      ],
      "execution_count": 0,
      "outputs": []
    },
    {
      "cell_type": "code",
      "metadata": {
        "id": "OBqws1-7WEKR",
        "colab_type": "code",
        "outputId": "ece4ed82-4be9-46bf-994b-b5998510c1c1",
        "colab": {
          "base_uri": "https://localhost:8080/",
          "height": 421
        }
      },
      "source": [
        "import helpers\n",
        "\n",
        "# put them in list form to compare\n",
        "model_list = [(model_0, 'All Zeros'),\n",
        "              (model_1, 'All Ones')]\n",
        "\n",
        "\n",
        "# plot the loss over the first 100 batches\n",
        "helpers.compare_init_weights(model_list, \n",
        "                             'All Zeros vs All Ones', \n",
        "                             train_loader,\n",
        "                             valid_loader)"
      ],
      "execution_count": 0,
      "outputs": [
        {
          "output_type": "display_data",
          "data": {
            "image/png": "[encoded data removed]",
            "text/plain": [
              "<Figure size 432x288 with 1 Axes>"
            ]
          },
          "metadata": {
            "tags": []
          }
        },
        {
          "output_type": "stream",
          "text": [
            "After 2 Epochs:\n",
            "Validation Accuracy\n",
            "    9.558% -- All Zeros\n",
            "    9.775% -- All Ones\n",
            "Training Loss\n",
            "    2.302  -- All Zeros\n",
            "  350.195  -- All Ones\n"
          ],
          "name": "stdout"
        }
      ]
    },
    {
      "cell_type": "markdown",
      "metadata": {
        "id": "mlPub0GAwVFA",
        "colab_type": "text"
      },
      "source": [
        "可以看出，对于全为 0 和 1 来说，准确率都和猜测结果差不多，约为 10%\n",
        "\n",
        "神经网络很难判断哪些权重需要更改，因为每个层级的神经元输出是一样的。为了避免神经元具有相同的输出，我们使用独特权重。我们还可以随机选择权重，避免每个周期后的损失都陷于局部最低点。\n",
        "\n",
        "获取随机权重的很好方法是从均匀分布里取样。\n",
        "\n",
        "\n",
        "###**均匀分布**\n",
        "\n",
        "[均匀分布](https://en.wikipedia.org/wiki/Uniform_distribution_(continuous%29)从一组数字里选择任何数字的概率是一样的。我们将从连续分布里选择数字，因此选择相同数字的概率很低。我们将使用 NumPy 的 np.random.uniform 函数从均匀分布里随机选择数字。\n",
        "\n",
        "\n",
        "\n",
        "> ```\n",
        "np.random_uniform(low=0.0, high=1.0, size=None)`\n",
        "```\n",
        "从均匀分布里随机选择值。\n",
        "\n",
        "> 生成的值符合均匀分布，范围是[low, high)。下限包含在内，而上限不包含。\n",
        "\n",
        "> *   low：要生成的随机值的范围下限。默认为 0。\n",
        "*   high：要生成的随机值的范围上限。默认为 1。\n",
        "*   大小：一个整数或整数元组，指定输出数组的形状。\n",
        "\n",
        "\n",
        "我们可以使用直方图可视化均匀分布。我们使用 helper.hist_dist 函数将 np.random_uniform(-3, 3, [1000]) 中的值映射到直方图。它们将是 1000 个随机浮点值，范围从 -3 到 3，不含值 3。"
      ]
    },
    {
      "cell_type": "code",
      "metadata": {
        "id": "tOJR8-BBxB_H",
        "colab_type": "code",
        "outputId": "da9d91fd-446c-4007-ab32-f469b7436a75",
        "colab": {
          "base_uri": "https://localhost:8080/",
          "height": 281
        }
      },
      "source": [
        "helpers.hist_dist('Random Uniform (low=-3, high=3)', np.random.uniform(-3, 3, [1000]))"
      ],
      "execution_count": 0,
      "outputs": [
        {
          "output_type": "display_data",
          "data": {
            "image/png": "[encoded data removed]",
            "text/plain": [
              "<Figure size 432x288 with 1 Axes>"
            ]
          },
          "metadata": {
            "tags": []
          }
        }
      ]
    },
    {
      "cell_type": "markdown",
      "metadata": {
        "id": "NHpBYlc-xGvm",
        "colab_type": "text"
      },
      "source": [
        "直方图针对 1000 个值使用了 500 个区间。因为落入任何区间的概率是一样的，因此每个区间应该约有 2 个值。直方图正好是这种效果。某些区间有更多值，某些有更少的值，但是约为 2 个。\n",
        "\n",
        "\n",
        "你已经了解均匀函数，我们使用 PyTorch 的 nn.init 将其应用到模型的初始权重上。\n",
        "\n",
        "\n",
        "###**均匀分布，基准**\n",
        "\n",
        "我们看看使用均匀权重初始化方式的神经网络训练效果如何，其中 low=0.0 和 high=1.0。下面我将演示另一种初始化网络权重的方式（除了 Net 类中的代码之外）。要在函数定义部分之外定义权重，你可以：\n",
        "\n",
        "\n",
        "> 1.定义一个函数，它将按照网络层级类型分配权重，然后 2.使用 model.apply(fn) 将这些权重应用到初始化的模型上，它会向每个模型层级应用一个函数。\n",
        "\n",
        "\n",
        "这次我们将使用 weight.data.uniform_ 直接初始化模型的权重。"
      ]
    },
    {
      "cell_type": "code",
      "metadata": {
        "id": "-oyc9Pe7xT9O",
        "colab_type": "code",
        "colab": {}
      },
      "source": [
        "# takes in a module and applies the specified weight initialization\n",
        "def weights_init_uniform(m):\n",
        "    classname = m.__class__.__name__\n",
        "    # for every Linear layer in a model..\n",
        "    if classname.find('Linear') != -1:\n",
        "        # apply a uniform distribution to the weights and a bias=0\n",
        "        m.weight.data.uniform_(0.0, 1.0)\n",
        "        m.bias.data.fill_(0)"
      ],
      "execution_count": 0,
      "outputs": []
    },
    {
      "cell_type": "code",
      "metadata": {
        "id": "Ez5buf18xVBG",
        "colab_type": "code",
        "outputId": "fe3a6d59-4851-4872-bf56-cb414b81132d",
        "colab": {
          "base_uri": "https://localhost:8080/",
          "height": 125
        }
      },
      "source": [
        "# create a new model with these weights\n",
        "model_uniform = Net()\n",
        "model_uniform.apply(weights_init_uniform)"
      ],
      "execution_count": 0,
      "outputs": [
        {
          "output_type": "execute_result",
          "data": {
            "text/plain": [
              "Net(\n",
              "  (fc1): Linear(in_features=784, out_features=256, bias=True)\n",
              "  (fc2): Linear(in_features=256, out_features=128, bias=True)\n",
              "  (fc3): Linear(in_features=128, out_features=10, bias=True)\n",
              "  (dropout): Dropout(p=0.2, inplace=False)\n",
              ")"
            ]
          },
          "metadata": {
            "tags": []
          },
          "execution_count": 16
        }
      ]
    },
    {
      "cell_type": "code",
      "metadata": {
        "id": "NsA_2FZVxXh1",
        "colab_type": "code",
        "outputId": "fc7fa9de-b239-4ca0-f99f-867d420fa6d4",
        "colab": {
          "base_uri": "https://localhost:8080/",
          "height": 385
        }
      },
      "source": [
        "# evaluate behavior \n",
        "helpers.compare_init_weights([(model_uniform, 'Uniform Weights')], \n",
        "                             'Uniform Baseline', \n",
        "                             train_loader,\n",
        "                             valid_loader)"
      ],
      "execution_count": 0,
      "outputs": [
        {
          "output_type": "display_data",
          "data": {
            "image/png": "[encoded data removed]",
            "text/plain": [
              "<Figure size 432x288 with 1 Axes>"
            ]
          },
          "metadata": {
            "tags": []
          }
        },
        {
          "output_type": "stream",
          "text": [
            "After 2 Epochs:\n",
            "Validation Accuracy\n",
            "   34.517% -- Uniform Weights\n",
            "Training Loss\n",
            "    4.039  -- Uniform Weights\n"
          ],
          "name": "stdout"
        }
      ]
    },
    {
      "cell_type": "markdown",
      "metadata": {
        "id": "0OxYYSQdxn-v",
        "colab_type": "text"
      },
      "source": [
        "\n",
        "\n",
        "---\n",
        "\n",
        "\n",
        "损失图表明神经网络在学习，而权重全为 0 或 1 时没有在学习。这表示我们的做法是正确的！\n",
        "\n",
        "###**设置权重的一般法则**\n",
        "设置神经网络权重的一般法则是将它们设为接近 0，但是不能太小。\n",
        "\n",
        "\n",
        "> 建议初始权重的范围是  [−𝑦,𝑦] ，其中  𝑦=1/𝑛⎯⎯√ \n",
        "（ 𝑛  是指给定神经元的输入数量）。\n",
        "\n",
        "\n",
        "我们看看这个法则是否成立。我们创建一个基准模型，并使均匀分布以 0 居中，范围偏移 0.5，得出范围是 [-0.5, 0.5)。"
      ]
    },
    {
      "cell_type": "code",
      "metadata": {
        "id": "M-QPc8N-x2Io",
        "colab_type": "code",
        "outputId": "edd8935f-c292-4a20-f0c9-347fe1adc58c",
        "colab": {
          "base_uri": "https://localhost:8080/",
          "height": 125
        }
      },
      "source": [
        "# takes in a module and applies the specified weight initialization\n",
        "def weights_init_uniform_center(m):\n",
        "    classname = m.__class__.__name__\n",
        "    # for every Linear layer in a model..\n",
        "    if classname.find('Linear') != -1:\n",
        "        # apply a centered, uniform distribution to the weights\n",
        "        m.weight.data.uniform_(-0.5, 0.5)\n",
        "        m.bias.data.fill_(0)\n",
        "\n",
        "# create a new model with these weights\n",
        "model_centered = Net()\n",
        "model_centered.apply(weights_init_uniform_center)"
      ],
      "execution_count": 0,
      "outputs": [
        {
          "output_type": "execute_result",
          "data": {
            "text/plain": [
              "Net(\n",
              "  (fc1): Linear(in_features=784, out_features=256, bias=True)\n",
              "  (fc2): Linear(in_features=256, out_features=128, bias=True)\n",
              "  (fc3): Linear(in_features=128, out_features=10, bias=True)\n",
              "  (dropout): Dropout(p=0.2, inplace=False)\n",
              ")"
            ]
          },
          "metadata": {
            "tags": []
          },
          "execution_count": 18
        }
      ]
    },
    {
      "cell_type": "markdown",
      "metadata": {
        "id": "qx5IRqRVx5Rn",
        "colab_type": "text"
      },
      "source": [
        "然后创建一个分布和使用一般法则初始化权重的模型；范围是  [−𝑦,𝑦] ，其中  𝑦=1/𝑛⎯⎯√ 。\n",
        "\n",
        "最后比较这两种模型。"
      ]
    },
    {
      "cell_type": "code",
      "metadata": {
        "id": "9OS8yukox8RX",
        "colab_type": "code",
        "outputId": "09af3ff2-39ce-4919-b66a-2881b1acb9aa",
        "colab": {
          "base_uri": "https://localhost:8080/",
          "height": 125
        }
      },
      "source": [
        "# takes in a module and applies the specified weight initialization\n",
        "def weights_init_uniform_rule(m):\n",
        "    classname = m.__class__.__name__\n",
        "    # for every Linear layer in a model..\n",
        "    if classname.find('Linear') != -1:\n",
        "        # get the number of the inputs\n",
        "        n = m.in_features\n",
        "        y = 1.0/np.sqrt(n)\n",
        "        m.weight.data.uniform_(-y, y)\n",
        "        m.bias.data.fill_(0)\n",
        "\n",
        "# create a new model with these weights\n",
        "model_rule = Net()\n",
        "model_rule.apply(weights_init_uniform_rule)"
      ],
      "execution_count": 0,
      "outputs": [
        {
          "output_type": "execute_result",
          "data": {
            "text/plain": [
              "Net(\n",
              "  (fc1): Linear(in_features=784, out_features=256, bias=True)\n",
              "  (fc2): Linear(in_features=256, out_features=128, bias=True)\n",
              "  (fc3): Linear(in_features=128, out_features=10, bias=True)\n",
              "  (dropout): Dropout(p=0.2, inplace=False)\n",
              ")"
            ]
          },
          "metadata": {
            "tags": []
          },
          "execution_count": 19
        }
      ]
    },
    {
      "cell_type": "code",
      "metadata": {
        "id": "ekYUsYK8x_VO",
        "colab_type": "code",
        "outputId": "c34ed55e-4e5c-4600-a618-cf8efe8de32c",
        "colab": {
          "base_uri": "https://localhost:8080/",
          "height": 421
        }
      },
      "source": [
        "# compare these two models\n",
        "model_list = [(model_centered, 'Centered Weights [-0.5, 0.5)'), \n",
        "              (model_rule, 'General Rule [-y, y)')]\n",
        "\n",
        "# evaluate behavior \n",
        "helpers.compare_init_weights(model_list, \n",
        "                             '[-0.5, 0.5) vs [-y, y)', \n",
        "                             train_loader,\n",
        "                             valid_loader)"
      ],
      "execution_count": 0,
      "outputs": [
        {
          "output_type": "display_data",
          "data": {
            "image/png": "[encoded data removed]",
            "text/plain": [
              "<Figure size 432x288 with 1 Axes>"
            ]
          },
          "metadata": {
            "tags": []
          }
        },
        {
          "output_type": "stream",
          "text": [
            "After 2 Epochs:\n",
            "Validation Accuracy\n",
            "   75.200% -- Centered Weights [-0.5, 0.5)\n",
            "   84.200% -- General Rule [-y, y)\n",
            "Training Loss\n",
            "    0.543  -- Centered Weights [-0.5, 0.5)\n",
            "    0.318  -- General Rule [-y, y)\n"
          ],
          "name": "stdout"
        }
      ]
    },
    {
      "cell_type": "markdown",
      "metadata": {
        "id": "7WXqqoYzzP0X",
        "colab_type": "text"
      },
      "source": [
        "模型行为很不错！不仅损失降低了，而且遵守一般法则的均匀权重损失似乎下降得很快；仅过了两个周期，验证准确率就很高了，这就是为什么合适的初始权重非常有助于模型训练！\n",
        "\n",
        "\n",
        "\n",
        "---\n",
        "\n"
      ]
    },
    {
      "cell_type": "markdown",
      "metadata": {
        "id": "AnxVFXiKzTzO",
        "colab_type": "text"
      },
      "source": [
        "由于均匀分布从某个范围里选择任何值的概率是一样的，如果我们使用一种分布，这种分布下，接近 0 的值被选择的概率更高，又会怎样？我们来看看正态分布。\n",
        "\n",
        "\n",
        "###**正态分布**\n",
        "与均匀分布不同，[正态分布](https://en.wikipedia.org/wiki/Normal_distribution)下，接近均值的数字被选中的概率更高。要可视化正态分布，我们将 NumPy 的 np.random.normal 函数中的值绘制为直方图。\n",
        "\n",
        "\n",
        "\n",
        "> \n",
        "\n",
        "```\n",
        "np.random.normal(loc=0.0, scale=1.0, size=None)\n",
        "```\n",
        "\n",
        "\n",
        "> 从正态分布里随机选择值。\n",
        "\n",
        "\n",
        "\n",
        "> *   loc：正态分布的均值。\n",
        "*   scale：正态分布的标准偏差。\n",
        "*   shape：输出数组的形状。"
      ]
    }
  ]
}