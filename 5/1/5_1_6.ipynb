{
  "nbformat": 4,
  "nbformat_minor": 0,
  "metadata": {
    "colab": {
      "name": "5_1_6.ipynb",
      "provenance": [],
      "collapsed_sections": [],
      "include_colab_link": true
    },
    "kernelspec": {
      "name": "python3",
      "display_name": "Python 3"
    }
  },
  "cells": [
    {
      "cell_type": "markdown",
      "metadata": {
        "id": "view-in-github",
        "colab_type": "text"
      },
      "source": [
        "<a href=\"https://colab.research.google.com/github/Bingle-labake/deeplearn/blob/master/5/1/5_1_6.ipynb\" target=\"_parent\"><img src=\"https://colab.research.google.com/assets/colab-badge.svg\" alt=\"Open In Colab\"/></a>"
      ]
    },
    {
      "cell_type": "markdown",
      "metadata": {
        "id": "GdSabBaB47Bn",
        "colab_type": "text"
      },
      "source": [
        "##构建 GAN\n",
        "我们和 Ian 一起构建了一个 notebook，以指引你构建你自己的 GAN 并使用 MNIST 训练它。你将构建生成器和辨别器网络，并设置损失和优化器，这将用到一些新东西，因为我们要并行训练这两个网络。我们包含了一个 notebook，其中有让你实现网络的练习，以及另一个包含解决方案的 notebook。\n",
        "\n",
        "###获取 Notebook\n",
        "跟往常一样，你可以从我们的 [公共 GitHub 仓库](https://github.com/udacity/cn-deep-learning) 中获取 notebook，它位于 tutorials/gan_mnist 目录下。要获取最新的 notebook，在你克隆的代码库中运行 git pull。\n",
        "\n",
        "如果你还没有克隆代码库，请使用 Git 克隆："
      ]
    },
    {
      "cell_type": "code",
      "metadata": {
        "id": "JfX0aGDo433L",
        "colab_type": "code",
        "colab": {}
      },
      "source": [
        "git clone https://github.com/udacity/cn-deep-learning.git"
      ],
      "execution_count": 0,
      "outputs": []
    }
  ]
}