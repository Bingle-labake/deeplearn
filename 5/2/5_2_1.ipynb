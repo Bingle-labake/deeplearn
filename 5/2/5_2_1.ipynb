{
  "nbformat": 4,
  "nbformat_minor": 0,
  "metadata": {
    "colab": {
      "name": "5_2_1.ipynb",
      "provenance": [],
      "collapsed_sections": [],
      "include_colab_link": true
    },
    "kernelspec": {
      "name": "python3",
      "display_name": "Python 3"
    }
  },
  "cells": [
    {
      "cell_type": "markdown",
      "metadata": {
        "id": "view-in-github",
        "colab_type": "text"
      },
      "source": [
        "<a href=\"https://colab.research.google.com/github/Bingle-labake/deeplearn/blob/master/5/2/5_2_1.ipynb\" target=\"_parent\"><img src=\"https://colab.research.google.com/assets/colab-badge.svg\" alt=\"Open In Colab\"/></a>"
      ]
    },
    {
      "cell_type": "markdown",
      "metadata": {
        "id": "Mijvnc2B6owO",
        "colab_type": "text"
      },
      "source": [
        "##深度卷积 GAN\n",
        "在这节课中，你将实现一个深度卷积 GAN 模型，来生成全彩色图像。这些图像有些复杂，所以需要在生成器和辨别器中使用卷积层。你还需要使用一个叫作“批归一化”的技术来使 GAN 顺利进行训练。\n",
        "\n",
        "![替代文字](https://s2.ax1x.com/2019/10/26/KBMCge.png)\n",
        "你将使用“街景门牌号”数据集来训练你的 GAN，上面有一个小示例。训练后，生成器将能够产生几乎与这些图像一模一样的图像。\n",
        "\n",
        "注意： 此课程最后将讲到 GAN 的半监督学习。"
      ]
    },
    {
      "cell_type": "code",
      "metadata": {
        "id": "49gxEwUX6mhe",
        "colab_type": "code",
        "colab": {}
      },
      "source": [
        ""
      ],
      "execution_count": 0,
      "outputs": []
    }
  ]
}