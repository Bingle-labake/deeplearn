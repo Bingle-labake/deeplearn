{
  "nbformat": 4,
  "nbformat_minor": 0,
  "metadata": {
    "colab": {
      "name": "5_2_4.ipynb",
      "provenance": [],
      "collapsed_sections": [],
      "include_colab_link": true
    },
    "kernelspec": {
      "name": "python3",
      "display_name": "Python 3"
    }
  },
  "cells": [
    {
      "cell_type": "markdown",
      "metadata": {
        "id": "view-in-github",
        "colab_type": "text"
      },
      "source": [
        "<a href=\"https://colab.research.google.com/github/Bingle-labake/deeplearn/blob/master/5/2/5_2_4.ipynb\" target=\"_parent\"><img src=\"https://colab.research.google.com/assets/colab-badge.svg\" alt=\"Open In Colab\"/></a>"
      ]
    },
    {
      "cell_type": "markdown",
      "metadata": {
        "id": "EpQNpJzw7857",
        "colab_type": "text"
      },
      "source": [
        "##DCGAN 实现\n",
        "我们准备了一些 notebook 供你参考，帮你使用[街景门牌号](http://ufldl.stanford.edu/housenumbers/) (SVHN) 数据集来实现 DCGAN。\n",
        "\n",
        "跟往常一样，你可以在我们的 [GitHub 代码库](https://github.com/udacity/cn-deep-learning) 中找到 notebook，它们位于 tutorials/dcgan-svhn 文件夹下。如果你已克隆了代码库，可以执行 git pull 来获取新文件。如果没有，请先克隆代码库："
      ]
    },
    {
      "cell_type": "code",
      "metadata": {
        "id": "phnjnpTS8Jmj",
        "colab_type": "code",
        "colab": {}
      },
      "source": [
        "git clone https://github.com/udacity/cn-deep-learning.git"
      ],
      "execution_count": 0,
      "outputs": []
    },
    {
      "cell_type": "markdown",
      "metadata": {
        "id": "6n2h1bF28LpD",
        "colab_type": "text"
      },
      "source": [
        "或者，你也可以[在此](https://github.com/udacity/cn-deep-learning/tree/master/tutorials/dcgan-svhn) 获取 notebook。"
      ]
    }
  ]
}