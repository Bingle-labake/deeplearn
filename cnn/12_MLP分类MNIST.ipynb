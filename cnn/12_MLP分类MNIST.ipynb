{
  "nbformat": 4,
  "nbformat_minor": 0,
  "metadata": {
    "colab": {
      "name": "12_MLP分类MNIST.ipynb",
      "version": "0.3.2",
      "provenance": [],
      "collapsed_sections": [],
      "include_colab_link": true
    },
    "kernelspec": {
      "name": "python3",
      "display_name": "Python 3"
    }
  },
  "cells": [
    {
      "cell_type": "markdown",
      "metadata": {
        "id": "view-in-github",
        "colab_type": "text"
      },
      "source": [
        "<a href=\"https://colab.research.google.com/github/Bingle-labake/deeplearn/blob/master/cnn/12_MLP%E5%88%86%E7%B1%BBMNIST.ipynb\" target=\"_parent\"><img src=\"https://colab.research.google.com/assets/colab-badge.svg\" alt=\"Open In Colab\"/></a>"
      ]
    },
    {
      "metadata": {
        "id": "7Nf5JFR2l2X1",
        "colab_type": "text"
      },
      "cell_type": "markdown",
      "source": [
        "### 多层感知器 MNIST\n",
        "在此 notebook 中，我们将训练 MLP 对 [MNIST 手写数字数据库](http://yann.lecun.com/exdb/mnist/)中的图像进行分类。\n",
        "\n",
        "####流程将分为以下几步：\n",
        "\n",
        "\n",
        "1.   加载和可视化数据 \n",
        "2.   定义神经网络 \n",
        "3.   训练模型 \n",
        "4.   评估已训练模型在测试数据集上的性能！\n",
        "\n",
        "\n",
        "在开始之前，我们需要导入处理数据和使用 PyTorch 所必需的库。"
      ]
    },
    {
      "metadata": {
        "id": "q2dRK7lRlscU",
        "colab_type": "code",
        "colab": {}
      },
      "cell_type": "code",
      "source": [
        "# import libraries\n",
        "import torch\n",
        "import numpy as np"
      ],
      "execution_count": 0,
      "outputs": []
    },
    {
      "metadata": {
        "id": "sbFkvfekmXel",
        "colab_type": "text"
      },
      "cell_type": "markdown",
      "source": [
        "###加载和可视化[数据](https://pytorch.org/docs/stable/torchvision/datasets.html)\n",
        "下载过程可能需要几分钟，你应该会看到数据加载进度。如果你想一次加载更多数据，还可以选择更改 batch_size。\n",
        "\n",
        "此单元格将为每个数据集创建数据加载器。"
      ]
    },
    {
      "metadata": {
        "id": "LsIwPyTGmufO",
        "colab_type": "code",
        "colab": {}
      },
      "cell_type": "code",
      "source": [
        "from torchvision import datasets\n",
        "import torchvision.transforms as transforms\n",
        "\n",
        "# number of subprocesses to use for data loading\n",
        "num_workers = 0\n",
        "# how many samples per batch to load\n",
        "batch_size = 20\n",
        "\n",
        "# convert data to torch.FloatTensor\n",
        "transform = transforms.ToTensor()\n",
        "\n",
        "# choose the training and test datasets\n",
        "train_data = datasets.MNIST(root='data', train=True,\n",
        "                                   download=True, transform=transform)\n",
        "test_data = datasets.MNIST(root='data', train=False,\n",
        "                                  download=True, transform=transform)\n",
        "\n",
        "# prepare data loaders\n",
        "train_loader = torch.utils.data.DataLoader(train_data, batch_size=batch_size,\n",
        "    num_workers=num_workers)\n",
        "test_loader = torch.utils.data.DataLoader(test_data, batch_size=batch_size, \n",
        "    num_workers=num_workers)"
      ],
      "execution_count": 0,
      "outputs": []
    },
    {
      "metadata": {
        "id": "_9o8UZRRmwX-",
        "colab_type": "text"
      },
      "cell_type": "markdown",
      "source": [
        "###可视化一批训练数据\n",
        "分类任务的第一步是查看数据，确保加载正确，然后初步观察数据中的规律。"
      ]
    },
    {
      "metadata": {
        "id": "SirZ0LrPm8fX",
        "colab_type": "code",
        "colab": {}
      },
      "cell_type": "code",
      "source": [
        "import matplotlib.pyplot as plt\n",
        "%matplotlib inline\n",
        "    \n",
        "# obtain one batch of training images\n",
        "dataiter = iter(train_loader)\n",
        "images, labels = dataiter.next()\n",
        "images = images.numpy()\n",
        "\n",
        "# plot the images in the batch, along with the corresponding labels\n",
        "fig = plt.figure(figsize=(25, 4))\n",
        "for idx in np.arange(20):\n",
        "    ax = fig.add_subplot(2, 20/2, idx+1, xticks=[], yticks=[])\n",
        "    ax.imshow(np.squeeze(images[idx]), cmap='gray')\n",
        "    # print out the correct label for each image\n",
        "    # .item() gets the value contained in a Tensor\n",
        "    ax.set_title(str(labels[idx].item()))"
      ],
      "execution_count": 0,
      "outputs": []
    },
    {
      "metadata": {
        "id": "PbBxHn1DnARH",
        "colab_type": "text"
      },
      "cell_type": "markdown",
      "source": [
        "###更详细地查看图像"
      ]
    },
    {
      "metadata": {
        "id": "afNy0jDKnHW_",
        "colab_type": "code",
        "colab": {}
      },
      "cell_type": "code",
      "source": [
        "img = np.squeeze(images[1])\n",
        "\n",
        "fig = plt.figure(figsize = (12,12)) \n",
        "ax = fig.add_subplot(111)\n",
        "ax.imshow(img, cmap='gray')\n",
        "width, height = img.shape\n",
        "thresh = img.max()/2.5\n",
        "for x in range(width):\n",
        "    for y in range(height):\n",
        "        val = round(img[x][y],2) if img[x][y] !=0 else 0\n",
        "        ax.annotate(str(val), xy=(y,x),\n",
        "                    horizontalalignment='center',\n",
        "                    verticalalignment='center',\n",
        "                    color='white' if img[x][y]<thresh else 'black')"
      ],
      "execution_count": 0,
      "outputs": []
    },
    {
      "metadata": {
        "id": "z-tWa-b0nPdA",
        "colab_type": "text"
      },
      "cell_type": "markdown",
      "source": [
        "###定义网络结构\n",
        "该结构需要将每个图像的 784 维像素值张量当做输入，并生成长度为 10（表示类别数量）的张量，表示输入图像的类别分数。这个示例使用了两个隐藏层和丢弃层，以避免过拟合。"
      ]
    },
    {
      "metadata": {
        "id": "HYPRMydanUAH",
        "colab_type": "code",
        "colab": {}
      },
      "cell_type": "code",
      "source": [
        "import torch.nn as nn\n",
        "import torch.nn.functional as F\n",
        "\n",
        "## TODO: Define the NN architecture\n",
        "class Net(nn.Module):\n",
        "    def __init__(self):\n",
        "        super(Net, self).__init__()\n",
        "        # linear layer (784 -> 1 hidden node)\n",
        "        self.fc1 = nn.Linear(28 * 28, 10)\n",
        "\n",
        "    def forward(self, x):\n",
        "        # flatten image input\n",
        "        x = x.view(-1, 28 * 28)\n",
        "        # add hidden layer, with relu activation function\n",
        "        x = F.relu(self.fc1(x))\n",
        "        return x\n",
        "\n",
        "# initialize the NN\n",
        "model = Net()\n",
        "print(model)"
      ],
      "execution_count": 0,
      "outputs": []
    },
    {
      "metadata": {
        "id": "NpvY3tpJnXSo",
        "colab_type": "text"
      },
      "cell_type": "markdown",
      "source": [
        "###指定[损失函数](https://pytorch.org/docs/stable/nn.html#loss-functions)和[优化器](https://pytorch.org/docs/stable/optim.html)\n",
        "对于分类任务来说，建议使用交叉熵损失。如果你查看上述链接文档，就可以发现 PyTorch 的交叉熵函数向输出层应用了 softmax 函数，然后计算对数损失。"
      ]
    },
    {
      "metadata": {
        "id": "EqZbFtAEnkKg",
        "colab_type": "code",
        "colab": {}
      },
      "cell_type": "code",
      "source": [
        "## TODO: Specify loss and optimization functions\n",
        "\n",
        "# specify loss function\n",
        "criterion = torch.nn.CrossEntropyLoss()\n",
        "\n",
        "# specify optimizer\n",
        "optimizer = torch.optim.SGD(model.parameters(),lr=0.01,momentum=0.9)"
      ],
      "execution_count": 0,
      "outputs": []
    },
    {
      "metadata": {
        "id": "ZRLS_rdPnpr5",
        "colab_type": "text"
      },
      "cell_type": "markdown",
      "source": [
        "###训练网络\n",
        "以下注释描述了如何用一批数据训练网络： 1.清空所有已优化变量的梯度 2.前向传播：通过向模型传入输入，计算预测输出。 3.计算损失 4.反向传播：计算损失相对于模型参数的梯度 5.执行一个优化步骤（参数更新） 6.更新平均训练损失\n",
        "\n",
        "以下循环训练了 30 个周期，当然，你也可以选定自己想训练的周期数。暂时，我们建议训练 20-30 个周期。在训练过程中，请观察训练损失的值如何逐渐降低。我们希望它能降低，同时避免在训练数据上过拟合。"
      ]
    },
    {
      "metadata": {
        "id": "ZLYpr1-PnvKZ",
        "colab_type": "code",
        "colab": {}
      },
      "cell_type": "code",
      "source": [
        "# number of epochs to train the model\n",
        "n_epochs = 30  # suggest training between 20-50 epochs\n",
        "\n",
        "model.train() # prep model for training\n",
        "\n",
        "for epoch in range(n_epochs):\n",
        "    # monitor training loss\n",
        "    train_loss = 0.0\n",
        "    \n",
        "    ###################\n",
        "    # train the model #\n",
        "    ###################\n",
        "    for data, target in train_loader:\n",
        "        # clear the gradients of all optimized variables\n",
        "        optimizer.zero_grad()\n",
        "        # forward pass: compute predicted outputs by passing inputs to the model\n",
        "        output = model(data)\n",
        "        # calculate the loss\n",
        "        loss = criterion(output, target)\n",
        "        # backward pass: compute gradient of the loss with respect to model parameters\n",
        "        loss.backward()\n",
        "        # perform a single optimization step (parameter update)\n",
        "        optimizer.step()\n",
        "        # update running training loss\n",
        "        train_loss += loss.item()*data.size(0)\n",
        "        \n",
        "    # print training statistics \n",
        "    # calculate average loss over an epoch\n",
        "    train_loss = train_loss/len(train_loader.dataset)\n",
        "\n",
        "    print('Epoch: {} \\tTraining Loss: {:.6f}'.format(\n",
        "        epoch+1, \n",
        "        train_loss\n",
        "        ))"
      ],
      "execution_count": 0,
      "outputs": []
    },
    {
      "metadata": {
        "id": "IkIwM8vNnzaB",
        "colab_type": "text"
      },
      "cell_type": "markdown",
      "source": [
        "###测试训练的网络\n",
        "最后，使用之前未见过的测试数据测试最佳模型，并评估其性能。用未见过的数据测试模型可以很好地检查模型的泛化效果。此外，建议在此分析过程中循序渐进地操作，看看模型对于每个类别的效果如何，并查看总体损失和准确率。\n",
        "\n",
        "####model.eval()\n",
        "model.eval( 会将模型中的所有层级设为评估模式。这样会影响到丢弃层等层级，但是应该会允许所有节点接受评估。丢弃层是指会在训练期间按照某个概率关闭节点的层级。"
      ]
    },
    {
      "metadata": {
        "id": "auovkQkHn58R",
        "colab_type": "code",
        "colab": {}
      },
      "cell_type": "code",
      "source": [
        "# initialize lists to monitor test loss and accuracy\n",
        "test_loss = 0.0\n",
        "class_correct = list(0. for i in range(10))\n",
        "class_total = list(0. for i in range(10))\n",
        "\n",
        "model.eval() # prep model for *evaluation*\n",
        "\n",
        "for data, target in test_loader:\n",
        "    # forward pass: compute predicted outputs by passing inputs to the model\n",
        "    output = model(data)\n",
        "    # calculate the loss\n",
        "    loss = criterion(output, target)\n",
        "    # update test loss \n",
        "    test_loss += loss.item()*data.size(0)\n",
        "    # convert output probabilities to predicted class\n",
        "    _, pred = torch.max(output, 1)\n",
        "    # compare predictions to true label\n",
        "    correct = np.squeeze(pred.eq(target.data.view_as(pred)))\n",
        "    # calculate test accuracy for each object class\n",
        "    for i in range(batch_size):\n",
        "        label = target.data[i]\n",
        "        class_correct[label] += correct[i].item()\n",
        "        class_total[label] += 1\n",
        "\n",
        "# calculate and print avg test loss\n",
        "test_loss = test_loss/len(test_loader.dataset)\n",
        "print('Test Loss: {:.6f}\\n'.format(test_loss))\n",
        "\n",
        "for i in range(10):\n",
        "    if class_total[i] > 0:\n",
        "        print('Test Accuracy of %5s: %2d%% (%2d/%2d)' % (\n",
        "            str(i), 100 * class_correct[i] / class_total[i],\n",
        "            np.sum(class_correct[i]), np.sum(class_total[i])))\n",
        "    else:\n",
        "        print('Test Accuracy of %5s: N/A (no training examples)' % (classes[i]))\n",
        "\n",
        "print('\\nTest Accuracy (Overall): %2d%% (%2d/%2d)' % (\n",
        "    100. * np.sum(class_correct) / np.sum(class_total),\n",
        "    np.sum(class_correct), np.sum(class_total)))"
      ],
      "execution_count": 0,
      "outputs": []
    },
    {
      "metadata": {
        "id": "bSSQ3IsAn9MJ",
        "colab_type": "text"
      },
      "cell_type": "markdown",
      "source": [
        "###可视化示例测试结果\n",
        "此单元格会按以下格式显示测试图像及其标签：predicted (ground-truth).如果准确地分类了样本，文本将为绿色；如果预测不正确，文本将为红色。"
      ]
    },
    {
      "metadata": {
        "id": "mDSLM7YroESa",
        "colab_type": "code",
        "colab": {}
      },
      "cell_type": "code",
      "source": [
        "# obtain one batch of test images\n",
        "dataiter = iter(test_loader)\n",
        "images, labels = dataiter.next()\n",
        "\n",
        "# get sample outputs\n",
        "output = model(images)\n",
        "# convert output probabilities to predicted class\n",
        "_, preds = torch.max(output, 1)\n",
        "# prep images for display\n",
        "images = images.numpy()\n",
        "\n",
        "# plot the images in the batch, along with predicted and true labels\n",
        "fig = plt.figure(figsize=(25, 4))\n",
        "for idx in np.arange(20):\n",
        "    ax = fig.add_subplot(2, 20/2, idx+1, xticks=[], yticks=[])\n",
        "    ax.imshow(np.squeeze(images[idx]), cmap='gray')\n",
        "    ax.set_title(\"{} ({})\".format(str(preds[idx].item()), str(labels[idx].item())),\n",
        "                 color=(\"green\" if preds[idx]==labels[idx] else \"red\"))"
      ],
      "execution_count": 0,
      "outputs": []
    }
  ]
}