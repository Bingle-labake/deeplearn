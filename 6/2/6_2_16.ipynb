{
  "nbformat": 4,
  "nbformat_minor": 0,
  "metadata": {
    "colab": {
      "name": "6_2_16.ipynb",
      "provenance": [],
      "collapsed_sections": [],
      "include_colab_link": true
    },
    "kernelspec": {
      "name": "python3",
      "display_name": "Python 3"
    }
  },
  "cells": [
    {
      "cell_type": "markdown",
      "metadata": {
        "id": "view-in-github",
        "colab_type": "text"
      },
      "source": [
        "<a href=\"https://colab.research.google.com/github/Bingle-labake/deeplearn/blob/master/6/2/6_2_16.ipynb\" target=\"_parent\"><img src=\"https://colab.research.google.com/assets/colab-badge.svg\" alt=\"Open In Colab\"/></a>"
      ]
    },
    {
      "cell_type": "markdown",
      "metadata": {
        "id": "uvdqVGeR8nyZ",
        "colab_type": "text"
      },
      "source": [
        "##练习：一步动态特性\n",
        "使用数学记法表示环境动态比较方便。在此部分，我们将介绍这一记法（可以用于任何强化学习任务），并使用回收机器人作为讲解示例。\n",
        "\n",
        "![替代文字](https://s2.ax1x.com/2019/10/26/K0RYMF.png)\n",
        "在随机时间步 tt，智能体环境互动变成一系列的状态、动作和奖励。\n",
        "\n",
        "(S0, A0, R1, S1, A1, ..., R(t-1), S(t-1), A(t-1), Rt, St, At)\n",
        "\n",
        "当环境在时间步 t+1 对智能体做出响应时，它只考虑上一个时间步 (St, At)的状态和动作。\n",
        "\n",
        "尤其是，它不关心再上一个时间步呈现给智能体的状态。（换句话说，环境不考虑任何{S0, ..., S(t-1)}\n",
        "\n",
        "并且，它不考虑智能体在上个时间步之前采取的动作。（换句话说，环境不考虑任何{A0, ..., A(t-1)}\n",
        "\n",
        "此外，智能体的表现如何，或收集了多少奖励，对环境选择如何对智能体做出响应没有影响。（换句话说，环境不考虑任何 {R0, ..., Rt} \n",
        "\n",
        "因此，我们可以通过指定以下设置完全定义环境如何决定状态和奖励\n",
        "\n",
        "p(s',r|s,a) ≐ P{S(t+1) = s′, R(t+1) = r∣S(t) = s, A(t) = a}\n",
        "\n",
        "对于每个可能的 s', r, s和a。这些条件概率用于指定环境的一步动态特性。\n",
        "\n",
        "###一个示例\n",
        "我们回顾下 S(t)=high、A(t)=search 的情况。\n",
        "\n",
        "![替代文字](https://s2.ax1x.com/2019/10/26/K0fmAs.png)\n",
        "然后，当环境在下个时间步对智能体做出响应时\n",
        "\n",
        "\n",
        "*   下个时间步是电量很高的概率为 70%，奖励为 4。换句话说，p(high,4∣high,search) = P{S(t+1)=high, R(t+1)=4∣S(t)=high, A(t)=search} = 0.7。\n",
        "\n",
        "*   下个时间步是电量很低的概率为 30%，奖励为 4。换句话说，p(low,4∣high,search) = P{S(t+1)=low,R(t+1)=4∣S(t)=high, A(t)=search} = 0.3。\n",
        "\n",
        "\n",
        "\n",
        "**问题 1**\n",
        "\n",
        "p(high,−3∣low,search) 是多少？\n",
        "\n",
        "    输入正确的数字值。\n",
        "\n",
        "    0.8\n",
        "\n",
        "**问题 2**\n",
        "\n",
        "p(high,0∣low,recharge) 是多少？\n",
        "\n",
        "    输入正确的数字值。\n",
        "\n",
        "    1\n",
        "\n",
        "##问题 3 和 4\n",
        "\n",
        "考虑以下概率：\n",
        "\n",
        "    (1) p(low,1∣low,search)\n",
        "    (2) p(high,0∣low,recharge)\n",
        "    (3) p(high,1∣low,wait)\n",
        "    (4) p(high,1∣high,wait)\n",
        "    (5) p(high,1∣high,search)\n",
        "\n",
        "\n",
        "**习题 3/4**\n",
        "\n",
        "以上哪些概率等于 0（请选中所有适用项。）\n",
        "\n",
        "    (1)(3)(5)\n",
        "    \n",
        "\n",
        "**习题 4/4**\n",
        "\n",
        "以上哪些概率等于 1？（请选中所有适用项。）\n",
        "\n",
        "    (2)(4)\n",
        "\n"
      ]
    }
  ]
}