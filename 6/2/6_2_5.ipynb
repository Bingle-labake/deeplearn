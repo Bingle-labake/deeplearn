{
  "nbformat": 4,
  "nbformat_minor": 0,
  "metadata": {
    "colab": {
      "name": "6_2_5.ipynb",
      "provenance": [],
      "collapsed_sections": [],
      "include_colab_link": true
    },
    "kernelspec": {
      "name": "python3",
      "display_name": "Python 3"
    }
  },
  "cells": [
    {
      "cell_type": "markdown",
      "metadata": {
        "id": "view-in-github",
        "colab_type": "text"
      },
      "source": [
        "<a href=\"https://colab.research.google.com/github/Bingle-labake/deeplearn/blob/master/6/2/6_2_5.ipynb\" target=\"_parent\"><img src=\"https://colab.research.google.com/assets/colab-badge.svg\" alt=\"Open In Colab\"/></a>"
      ]
    },
    {
      "cell_type": "markdown",
      "metadata": {
        "id": "bmgT1Pr_y22F",
        "colab_type": "text"
      },
      "source": [
        "##练习：阶段性或连续性？\n",
        "**注意：**\n",
        "\n",
        "\n",
        "> 1.   任务是一种强化学习问题。\n",
        "> 2.   连续性任务是一直持续下去、没有结束点的任务。\n",
        "> 3.   阶段性任务是起始点和结束点明确的任务。\n",
        "> 4.   在这种情况下，我们将一个完整的互动系列（从开始到结束）称为一个阶段。\n",
        "> 5.   每当智能体抵达最终状态，阶段性任务都会结束。\n",
        "> 6.   了解以上这些信息后，请在下面的练习中将这些任务划分为连续性任务或阶段性任务。\n",
        "\n",
        "\n",
        "![替代文字](https://s2.ax1x.com/2019/10/26/K0rvv9.jpg)\n",
        "\n",
        "来源：维基百科\n",
        "\n",
        "**习题 1/2**\n",
        "\n",
        "假设有一个强化学习智能体想要玩围棋。这是连续性任务还是阶段性任务？\n",
        "\n",
        "\n",
        "\n",
        "    阶段性任务\n",
        "\n",
        "![替代文字](https://s2.ax1x.com/2019/10/26/K0sKVP.jpg)\n",
        "来源：维基百科\n",
        "\n",
        "**习题 2/2**\n",
        "\n",
        "假设有一个永生的小狗智能体，它想要从（永生的）主人那获得很多的奖赏。这是连续性任务还是阶段性任务？\n",
        "\n",
        "    连续性任务\n",
        "\n"
      ]
    }
  ]
}