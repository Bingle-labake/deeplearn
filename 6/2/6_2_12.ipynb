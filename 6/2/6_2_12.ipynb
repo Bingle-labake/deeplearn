{
  "nbformat": 4,
  "nbformat_minor": 0,
  "metadata": {
    "colab": {
      "name": "6_2_12.ipynb",
      "provenance": [],
      "collapsed_sections": [],
      "include_colab_link": true
    },
    "kernelspec": {
      "name": "python3",
      "display_name": "Python 3"
    }
  },
  "cells": [
    {
      "cell_type": "markdown",
      "metadata": {
        "id": "view-in-github",
        "colab_type": "text"
      },
      "source": [
        "<a href=\"https://colab.research.google.com/github/Bingle-labake/deeplearn/blob/master/6/2/6_2_12.ipynb\" target=\"_parent\"><img src=\"https://colab.research.google.com/assets/colab-badge.svg\" alt=\"Open In Colab\"/></a>"
      ]
    },
    {
      "cell_type": "markdown",
      "metadata": {
        "id": "8IuEbOBo2lzL",
        "colab_type": "text"
      },
      "source": [
        "##练习：杆平衡\n",
        "![替代文字](https://s2.ax1x.com/2019/10/26/K06M9S.gif)\n",
        "来源：https://medium.com/@tuzzer/cart-pole-balancing-with-q-learning-b54c6068d947\n",
        "\n",
        "在这个经典的强化学习任务中，在光滑的道路上有一辆购物车，购物车的顶部插着一根杆子。目标是通过使购物车向左或向右移动，防止杆子掉下来，并且购物车不会脱离轨道。\n",
        "\n",
        "在 [OpenAI Gym](https://gym.openai.com/envs/CartPole-v0/) 实现中，智能体在每个时间步都向购物车应用 +1 或 -1 的力。它是一个阶段性任务，在以下情况下这一阶段会结束：(1) 杆子与垂直方向的夹角超过 20.9 度，(2) 购物车离道路中心的距离超过 2.4 个单位，或者 (3) 时间步超过了 200 步。对于每个时间步，购物车都获得奖励 +1，包括最终时间步。你可以在 [OpenAI 的 github](https://github.com/openai/gym/wiki/CartPole-v0) 中详细了解该环境。该任务还出现在了教科书的第 3.4 个示例中。\n",
        "\n",
        "**习题 1/3**\n",
        "\n",
        "智能体在每个时间步都获得奖励 +1，包括最终时间步。哪些折扣率会鼓励智能体尽量使杆子保持平衡？（请选中所有适用项。）\n",
        "\n",
        "    1. 折扣率为 1。\n",
        "\n",
        "    2. 折扣率为 0.9。\n",
        "\n",
        "    3. 折扣率为 0.5。\n",
        "    \n",
        "    对于每个折扣率，智能体都在杆子尚未掉下的每个时间步获得正面奖励。因此，在每种情况下，智能体将尝试尽量使杆子保持平衡。\n",
        "\n",
        "**习题 2/3**\n",
        "\n",
        "假设我们对奖励信号进行了修改，仅在阶段结束时向智能体提供奖励。因此在每个时间步，奖励都是 0，但是最终时间步除外。当阶段结束时，智能体获得奖励 -1。哪些折扣率会鼓励智能体尽量使杆子保持平衡？（请选中所有适用项。）\n",
        "\n",
        "\n",
        "\n",
        "    1. 折扣率是 0.9。\n",
        "\n",
        "    2. 折扣率是 0.5。\n",
        "\n",
        "    正确！没有折扣的话，智能体将始终获得奖励 -1（无论在阶段过程中选择哪个动作），因此奖励信号将不会向智能体提供任何实用的反馈。有了折扣后，智能体将尽量使杆子保持平衡，因为这样会形成相对来说不是太负面的回报。\n",
        "\n",
        "**习题 3/3**\n",
        "\n",
        "假设我们对奖励信号进行了修改，仅在阶段结束时向智能体提供奖励。因此在每个时间步，奖励都是 0，但是最终时间步除外。当阶段结束时，智能体获得奖励 +1。哪些折扣率会鼓励智能体尽量使杆子保持平衡？（请选中所有适用项。）\n",
        "\n",
        "\n",
        "\n",
        "\n",
        "\n",
        "\n",
        "\n",
        "    所有这些折扣率都无法帮助智能体，因为没有奖励信号。\n",
        "    \n",
        "    如果折扣率是 1，智能体将始终获得奖励 +1（无论它在这一阶段中选择哪些动作），因此奖励信号将不会向智能体提供任何实用反馈。如果折扣率是 0.5 或 0.9，智能体将尝试尽快结束这一阶段（通过快速扔下杆子或离开轨道边缘）。因此，你答对了——我们必须重新设计奖励信号！"
      ]
    }
  ]
}