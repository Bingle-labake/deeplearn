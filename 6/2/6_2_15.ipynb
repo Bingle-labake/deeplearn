{
  "nbformat": 4,
  "nbformat_minor": 0,
  "metadata": {
    "colab": {
      "name": "6_2_15.ipynb",
      "provenance": [],
      "collapsed_sections": [],
      "include_colab_link": true
    },
    "kernelspec": {
      "name": "python3",
      "display_name": "Python 3"
    }
  },
  "cells": [
    {
      "cell_type": "markdown",
      "metadata": {
        "id": "view-in-github",
        "colab_type": "text"
      },
      "source": [
        "<a href=\"https://colab.research.google.com/github/Bingle-labake/deeplearn/blob/master/6/2/6_2_15.ipynb\" target=\"_parent\"><img src=\"https://colab.research.google.com/assets/colab-badge.svg\" alt=\"Open In Colab\"/></a>"
      ]
    },
    {
      "cell_type": "markdown",
      "metadata": {
        "id": "J9TrG5JL5AuN",
        "colab_type": "text"
      },
      "source": [
        "##练习：一步动态特性\n",
        "回顾下回收机器人示例。在上一部分，我们讨论了环境可以在任何时间步确定状态和奖励的一种方法。\n",
        "\n",
        "![替代文字](https://s2.ax1x.com/2019/10/26/K024vF.png)\n",
        "假设在随机时间步 t，机器人的电量状态是很高 {S(t) = high}。然后，智能体做出搜索响应 {A(t) = search}。你在上一部分了解到，在这种情况下，环境对智能体做出以下响应：抛掷一个虚拟硬币后，正面朝上的概率是 70%。\n",
        "\n",
        "\n",
        "\n",
        "*   如果硬币正面朝上，环境判断下个状态是电量很高 {S(t+1) = high}，奖励为 4{R(t+1)=4}。 \n",
        "*   如果硬币背面朝上，环境判断下个状态是电量很低 {S(t+1) = low}，奖励是 4{R(t+1)=4}。\n",
        "\n",
        "\n",
        "\n",
        "\n",
        "如下图所示。\n",
        "![替代文字](https://s2.ax1x.com/2019/10/26/K02HER.png)\n",
        "\n",
        "实际上，在任何状态 S(t) 和动作 A(t)，都可以使用该图判断智能体将如何确定下个状态 S(t+1)和奖励 R(t+1)。\n",
        "\n",
        "**习题 1/2**\n",
        "\n",
        "\n",
        "假设当前状态是电量很高，智能体决定等待。环境如何确定下个状态和奖励？\n",
        "\n",
        "\n",
        "\n",
        "    下个状态电量很高，奖励为 1。\n",
        "\n",
        "\n",
        "\n",
        "\n",
        "\n",
        "**习题 2/2**\n",
        "\n",
        "假设当前状态是电量很低，智能体决定充电。环境如何确定下个状态和奖励？\n",
        "\n",
        "\n",
        "\n",
        "\n",
        "\n",
        "\n",
        "\n",
        "    下个状态电量很高，奖励为 0。"
      ]
    }
  ]
}