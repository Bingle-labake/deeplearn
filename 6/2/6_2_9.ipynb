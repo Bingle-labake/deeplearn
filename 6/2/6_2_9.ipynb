{
  "nbformat": 4,
  "nbformat_minor": 0,
  "metadata": {
    "colab": {
      "name": "6_2_9.ipynb",
      "provenance": [],
      "collapsed_sections": [],
      "include_colab_link": true
    },
    "kernelspec": {
      "name": "python3",
      "display_name": "Python 3"
    }
  },
  "cells": [
    {
      "cell_type": "markdown",
      "metadata": {
        "id": "view-in-github",
        "colab_type": "text"
      },
      "source": [
        "<a href=\"https://colab.research.google.com/github/Bingle-labake/deeplearn/blob/master/6/2/6_2_9.ipynb\" target=\"_parent\"><img src=\"https://colab.research.google.com/assets/colab-badge.svg\" alt=\"Open In Colab\"/></a>"
      ]
    },
    {
      "cell_type": "markdown",
      "metadata": {
        "id": "bqwYQ8dc0iKK",
        "colab_type": "text"
      },
      "source": [
        "##练习：目标和奖励\n",
        "到目前为止，你已经见过一个如何将智能体的目标构建为最大化预期累积奖励的示例。在这道练习中，你将研究另外几个示例。\n",
        "\n",
        "![替代文字](https://s2.ax1x.com/2019/10/26/K0sxJS.png)\n",
        "来源：维基百科\n",
        "\n",
        "**习题 1/3**\n",
        "\n",
        "假设有一个智能体想要学会逃脱迷宫。哪些奖励信号将鼓励智能体尽快逃脱迷宫？请选中所有适用项。\n",
        "\n",
        "    1. 智能体待在迷宫中的每个时间步，奖励都是 -1。智能体逃脱后，这个阶段结束。\n",
        "\n",
        "    2. 智能体待在迷宫中的每个时间步，奖励都是 -1。智能体逃脱后，获得奖励 +10，并且这个阶段结束。\n",
        "\n",
        "\n",
        "![替代文字](https://s2.ax1x.com/2019/10/26/K0ySzQ.png)\n",
        "来源：维基百科\n",
        "\n",
        "**习题 2/3**\n",
        "\n",
        "假设有一个智能体想要玩棋类游戏（例如双陆棋、象棋或跳棋）。哪些奖励信号将鼓励智能体赢得游戏？请选中所有适用项。\n",
        "\n",
        "    1. 智能体仅在游戏结束时获得奖励；如果获胜，则获得奖励 +1，如果失败了，则获得奖励 -1，如果持平，则获得奖励 0。\n",
        "\n",
        "    2. 智能体仅在游戏结束时获得奖励，如果获胜，获得奖励 +10，如果失败，获得奖励 -10，如果持平，获得奖励 0。\n",
        "\n",
        "![替代文字](https://s2.ax1x.com/2019/10/26/K0yFZq.jpg)\n",
        "来源: http://i.dailymail.co.uk/i/pix/2013/02/14/article-2278590-1792E332000005DC-394_634x615.jpg\n",
        "\n",
        "**习题 3/3**\n",
        "\n",
        "假设有一个智能体想要使她头上的碟子保持平衡。哪些奖励信号将鼓励智能体尽量使碟子保持平衡？请选中所有适用项。\n",
        "\n",
        "\n",
        "\n",
        "    在每个时间步，当智能体使头上的碟子保持平衡时，奖励是 +1。如果碟子掉下来了，这一阶段结束。\n",
        "\n"
      ]
    }
  ]
}