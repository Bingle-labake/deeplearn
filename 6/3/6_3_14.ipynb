{
  "nbformat": 4,
  "nbformat_minor": 0,
  "metadata": {
    "colab": {
      "name": "6_3_14.ipynb",
      "provenance": [],
      "collapsed_sections": [],
      "include_colab_link": true
    },
    "kernelspec": {
      "name": "python3",
      "display_name": "Python 3"
    }
  },
  "cells": [
    {
      "cell_type": "markdown",
      "metadata": {
        "id": "view-in-github",
        "colab_type": "text"
      },
      "source": [
        "<a href=\"https://colab.research.google.com/github/Bingle-labake/deeplearn/blob/master/6/3/6_3_14.ipynb\" target=\"_parent\"><img src=\"https://colab.research.google.com/assets/colab-badge.svg\" alt=\"Open In Colab\"/></a>"
      ]
    },
    {
      "cell_type": "markdown",
      "metadata": {
        "id": "4l8VyQfVnL9u",
        "colab_type": "text"
      },
      "source": [
        "##总结\n",
        "![替代文字](https://s2.ax1x.com/2019/10/26/KBpySf.png)\n",
        "高尔夫智能体的状态值函数（Sutton 和 Barto，2017 年）\n",
        "\n",
        "###策略\n",
        "\n",
        "*   确定性策略是从 π:S→A 的映射。对于每个状态 s∈S，它都生成智能体在状态 s 时将选择的动作 a∈A\n",
        "*   随机性策略是从 π:S×A→[0,1] 的映射。对于每个状态 s∈S 和动作 a∈A，它都生成智能体在状态 s 时选择动作 a 的概率。\n",
        "\n",
        "\n",
        "![替代文字](https://s2.ax1x.com/2019/10/26/KB9n9P.png)\n",
        "\n",
        "\n",
        "![替代文字](https://s2.ax1x.com/2019/10/26/KB9RgK.png)"
      ]
    }
  ]
}