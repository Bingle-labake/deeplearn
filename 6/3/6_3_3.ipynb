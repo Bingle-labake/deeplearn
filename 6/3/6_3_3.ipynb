{
  "nbformat": 4,
  "nbformat_minor": 0,
  "metadata": {
    "colab": {
      "name": "6_3_3.ipynb",
      "provenance": [],
      "collapsed_sections": [],
      "include_colab_link": true
    },
    "kernelspec": {
      "name": "python3",
      "display_name": "Python 3"
    }
  },
  "cells": [
    {
      "cell_type": "markdown",
      "metadata": {
        "id": "view-in-github",
        "colab_type": "text"
      },
      "source": [
        "<a href=\"https://colab.research.google.com/github/Bingle-labake/deeplearn/blob/master/6/3/6_3_3.ipynb\" target=\"_parent\"><img src=\"https://colab.research.google.com/assets/colab-badge.svg\" alt=\"Open In Colab\"/></a>"
      ]
    },
    {
      "cell_type": "markdown",
      "metadata": {
        "id": "tBUXnj6LOXIK",
        "colab_type": "text"
      },
      "source": [
        "练习：解析策略\n",
        "策略决定了智能体如何根据当前状态选择动作。换句话说，它指定了智能体如何对环境提供的情形做出响应。\n",
        "![替代文字](https://s2.ax1x.com/2019/10/26/K0HWXq.png)\n",
        "思考下上节课的回收机器人 MDP。\n",
        "\n",
        "\n",
        "确定性策略：示例\n",
        "示例确定性策略 π:S→A 可以指定为：\n",
        "\n",
        "    π(low)=recharge\n",
        "\n",
        "    π(high)=search\n",
        "\n",
        "在这种情况下，\n",
        "\n",
        "*   如果电池电量_很低，智能体选择充电_。\n",
        "*   如果电池电量_很高，智能体选择搜索_易拉罐。\n",
        "\n",
        "\n",
        "\n",
        "###问题 1\n",
        "\n",
        "思考另一个确定性策略 π:S→A，其中：\n",
        "\n",
        "    π(low)=search\n",
        "\n",
        "    π(high)=search\n",
        "\n",
        "\n",
        "**习题 1/2**\n",
        "\n",
        "如果智能体遵守策略的话，以下哪些陈述正确（请选中所有适用项。）\n",
        "\n",
        "    1. 如果状态是电量很低，智能体选择动作_搜索_。\n",
        "\n",
        "    2. 智能体将在每个时间步都_搜索易拉罐（无论电量是很低_ 还是 _很高_）。\n",
        "\n",
        "\n",
        "\n",
        "###随机性策略：示例\n",
        "示例随机性策略 π:S×A→[0,1] 可以指定为：\n",
        "\n",
        "    π(recharge∣low)=0.5\n",
        "\n",
        "    π(wait∣low)=0.4\n",
        "\n",
        "    π(search∣low)=0.1\n",
        "\n",
        "    π(search∣high)=0.9\n",
        "\n",
        "    π(wait∣high)=0.1\n",
        "\n",
        "在这种情况下，\n",
        "\n",
        "*   如果电池电量_很低，智能体充电的概率是 50%，等待易拉罐的概率是 40%，搜索_易拉罐的概率是 10%。\n",
        "*   如果电池电量_很高，智能体搜索易拉罐的概率是 90%，等待_易拉罐的概率是 10%。\n",
        "\n",
        "\n",
        "\n",
        "###问题 2\n",
        "思考另一个不同的随机性策略 π:S×A→[0,1]，其中：\n",
        "\n",
        "    π(recharge∣low)=0.3\n",
        "\n",
        "    π(wait∣low)=0.5\n",
        "\n",
        "    π(search∣low)=0.2\n",
        "\n",
        "    π(search∣high)=0.6\n",
        "\n",
        "    π(wait∣high)=0.4\n",
        "\n",
        "**习题 2/2**\n",
        "\n",
        "如果智能体遵守策略的话，以下哪些陈述正确（请选中所有适用项。）\n",
        "\n",
        "\n",
        "    如果电池电量_很低，智能体最有可能决定等待_易拉罐。\n",
        "    \n",
        "    注：如果电池电量很低，智能体等待易拉罐的概率是 50%（不是 100%，正如第一个选项所描述的情况）。无法只通过查看策略就判断第二个选项是否正确。这是因为该选项没有提到从哪个状态选择“搜索”动作。这是一个相对较长时间的计算，该选项实际上不正确。最后一个选项可以通过查看策略判断是否正确。"
      ]
    }
  ]
}