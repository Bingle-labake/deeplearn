{
  "nbformat": 4,
  "nbformat_minor": 0,
  "metadata": {
    "colab": {
      "name": "6_3_10.ipynb",
      "provenance": [],
      "collapsed_sections": [],
      "include_colab_link": true
    },
    "kernelspec": {
      "name": "python3",
      "display_name": "Python 3"
    }
  },
  "cells": [
    {
      "cell_type": "markdown",
      "metadata": {
        "id": "view-in-github",
        "colab_type": "text"
      },
      "source": [
        "<a href=\"https://colab.research.google.com/github/Bingle-labake/deeplearn/blob/master/6/3/6_3_10.ipynb\" target=\"_parent\"><img src=\"https://colab.research.google.com/assets/colab-badge.svg\" alt=\"Open In Colab\"/></a>"
      ]
    },
    {
      "cell_type": "markdown",
      "metadata": {
        "id": "tuhsDRqiWGsm",
        "colab_type": "text"
      },
      "source": [
        "##练习：动作值函数\n",
        "\n",
        "![替代文字](https://s2.ax1x.com/2019/10/26/K0OdPS.png)\n",
        "正确或错误？：对于确定性策略 π，\n",
        "\n",
        "Vπ(s)=Qπ(s,π(s))\n",
        "\n",
        "适用于所有 s∈S。\n",
        "\n",
        "在回答这个问题时，可以使用上述状态值函数和动作值函数作为确定性策略示例。\n",
        "\n",
        "**练习题**\n",
        "\n",
        "上述语句正确与否？\n",
        "\n",
        "    正确\n",
        "\n",
        "可以通过实例策略来判断。\n",
        "\n",
        "并且可以根据我们定义动作值函数的方式判断。状态动作对 ss, \\pi(s)π(s) 的值是智能体从状态 ss 开始并采取动作 \\pi(s)π(s)，然后遵守策略 \\piπ 所获得的预期回报。换句话说，它是智能体从状态 ss 开始，然后遵守策略 \\piπ（完全等于状态值 ss）获得的预期回报。\n",
        "\n"
      ]
    }
  ]
}