{
  "nbformat": 4,
  "nbformat_minor": 0,
  "metadata": {
    "colab": {
      "name": "6_3_7.ipynb",
      "provenance": [],
      "collapsed_sections": [],
      "include_colab_link": true
    },
    "kernelspec": {
      "name": "python3",
      "display_name": "Python 3"
    }
  },
  "cells": [
    {
      "cell_type": "markdown",
      "metadata": {
        "id": "view-in-github",
        "colab_type": "text"
      },
      "source": [
        "<a href=\"https://colab.research.google.com/github/Bingle-labake/deeplearn/blob/master/6/3/6_3_7.ipynb\" target=\"_parent\"><img src=\"https://colab.research.google.com/assets/colab-badge.svg\" alt=\"Open In Colab\"/></a>"
      ]
    },
    {
      "cell_type": "markdown",
      "metadata": {
        "id": "PuHrWbjOSffa",
        "colab_type": "text"
      },
      "source": [
        "##练习：状态值函数\n",
        "在这道练习中，你将计算特定策略对应的值函数。\n",
        "\n",
        "MDP 中的每个状态（共九个）都用 S+={s1,s2,…,s9} 之一标记，其中 s9是终止状态。\n",
        "\n",
        "思考下下图表示的（确定性）策略（角色部分）。\n",
        "\n",
        "![替代文字](https://s2.ax1x.com/2019/10/26/K0qTSJ.png)\n",
        "策略 π 由以下方程确定：\n",
        "\n",
        "π(s1)=right\n",
        "\n",
        "π(s2)=right\n",
        "\n",
        "π(s3)=down\n",
        "\n",
        "π(s4)=up\n",
        "\n",
        "π(s5)=right\n",
        "\n",
        "π(s6)=down\n",
        "\n",
        "π(s7)=right\n",
        "\n",
        "π(s8)=right\n",
        "\n",
        "注意，因为s9是一个终止状态，如果智能体从该状态开始，则该阶段立即结束。因此，智能体不需要选择动作（因此我们不会在策略中包含s9），并且 Vπ(s9)=0。\n",
        "\n",
        "现在花时间计算该策略对应的状态值函数 V(π)。（你会发现贝尔曼预期方程可以为你节省大量工作！）\n",
        "\n",
        "假设 γ=1。\n",
        "\n",
        "完成后，使用 V(π)回答以下问题。\n",
        "\n",
        "###问题 1\n",
        "Vπ(s4) 是多少？\n",
        "\n",
        "**习题 1/3**\n",
        " 请选择相应的数字值。\n",
        "\n",
        "    1\n",
        "\n",
        "\n",
        "\n",
        "###问题 2\n",
        "Vπ(s1) 是多少？\n",
        "\n",
        "**习题 2/3**\n",
        "\n",
        "请选择相应的数字值。\n",
        "\n",
        "    2\n",
        "\n",
        "###问题 3\n",
        "\n",
        "对于以下语句：\n",
        "\n",
        "(1) Vπ(s6) = −1+Vπ(s5)\n",
        "\n",
        "(2) Vπ(s7) = −3+Vπ(s8)\n",
        "\n",
        "(3) Vπ(s1) = −1+Vπ(s2)\n",
        "\n",
        "(4) Vπ(s4) = −3+Vπ(s7)\n",
        "\n",
        "(5) Vπ(s8) = −3+Vπ(s5)\n",
        "\n",
        "\n",
        "**习题 3/3**\n",
        "\n",
        "请选择（上文）表述正确的语句。（请选中所有适用项。）\n",
        "\n",
        "    (2)(3)\n",
        "\n",
        "\n",
        "\n"
      ]
    }
  ]
}