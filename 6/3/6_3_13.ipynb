{
  "nbformat": 4,
  "nbformat_minor": 0,
  "metadata": {
    "colab": {
      "name": "6_3_13.ipynb",
      "provenance": [],
      "collapsed_sections": [],
      "include_colab_link": true
    },
    "kernelspec": {
      "name": "python3",
      "display_name": "Python 3"
    }
  },
  "cells": [
    {
      "cell_type": "markdown",
      "metadata": {
        "id": "view-in-github",
        "colab_type": "text"
      },
      "source": [
        "<a href=\"https://colab.research.google.com/github/Bingle-labake/deeplearn/blob/master/6/3/6_3_13.ipynb\" target=\"_parent\"><img src=\"https://colab.research.google.com/assets/colab-badge.svg\" alt=\"Open In Colab\"/></a>"
      ]
    },
    {
      "cell_type": "markdown",
      "metadata": {
        "id": "aNJql9uqkQZL",
        "colab_type": "text"
      },
      "source": [
        "##贝尔曼方程（第 2 部分）\n",
        "有两组贝尔曼方程：(1) 贝尔曼预期方程 和 (2) 贝尔曼最优性方程。每组方程包含两个方程，对应于状态值或动作值。\n",
        "\n",
        "所有贝尔曼方程对有限马尔可夫决策流程 (MDP) 来说都非常有用，在后续课程中还会经常出现。\n",
        "\n",
        "贝尔曼预期方程\n",
        "我们已经介绍了Vπ的贝尔曼预期方程\n",
        "![替代文字](https://s2.ax1x.com/2019/10/26/K0z740.png)\n",
        "\n",
        "\n",
        "其中最后一个形式详细介绍了如何计算任意随机策略 \\piπ 的预期值。该方程表示任何状态动作对（根据任意策略）相对于后续状态的值（根据同一策略）的值。\n",
        "\n",
        "###贝尔曼最优性方程\n",
        "和贝尔曼预期方程相似，贝尔曼最优性方程可以证明：状态值（以及动作值函数）满足递归关系，可以将状态值（或状态动作对的值）与所有后续状态（或状态动作对）的值联系起来。\n",
        "\n",
        "虽然贝尔曼最优性方程关心的是_任意策略，但是贝尔曼最优性方程完全侧重于最优_策略对应的值满足的关系。\n",
        "\n",
        "![替代文字](https://s2.ax1x.com/2019/10/26/K0zOvF.png)\n",
        "\n",
        "\n",
        "###实用公式\n",
        "为了推导出所有四个贝尔曼方程，有必要先推导出紧密相关的公式。\n",
        "\n",
        "![替代文字](https://s2.ax1x.com/2019/10/26/KBSQ8f.png)\n",
        "\n",
        "该方程表示相对于状态值函数和 MDP 一步动态特性的策略动作值函数。\n",
        "\n",
        "我们将提供两个论证来证明该方程，一个是对话论证，另一个是代数论证。\n",
        "\n",
        "求导 1\n",
        "![替代文字](https://s2.ax1x.com/2019/10/26/KBStVs.png)\n",
        "\n",
        "求导 2\n",
        "请算出以下方程 1 的替代导数。\n",
        "\n",
        "![替代文字](https://s2.ax1x.com/2019/10/26/KBSwGV.png)\n",
        "理由如下：\n",
        "\n",
        "![替代文字](https://s2.ax1x.com/2019/10/26/KBShRK.png)\n",
        "\n",
        "获得贝尔曼最优性方程\n",
        "为了推出贝尔曼最优性方程，我们需要另外两个方程。\n",
        "\n",
        "![替代文字](https://s2.ax1x.com/2019/10/26/KBSbdA.png)\n",
        "\n",
        "更多信息\n",
        "如果你想详细了解贝尔曼方程，建议你阅读该[教科书](http://go.udacity.com/rl-textbook)的第 3.7 和 3.8 部分。"
      ]
    }
  ]
}