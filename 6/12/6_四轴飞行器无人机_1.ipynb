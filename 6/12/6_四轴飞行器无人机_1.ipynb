{
  "nbformat": 4,
  "nbformat_minor": 0,
  "metadata": {
    "colab": {
      "name": "6_四轴飞行器无人机_1.ipynb",
      "provenance": [],
      "collapsed_sections": [],
      "include_colab_link": true
    },
    "kernelspec": {
      "name": "python3",
      "display_name": "Python 3"
    }
  },
  "cells": [
    {
      "cell_type": "markdown",
      "metadata": {
        "id": "view-in-github",
        "colab_type": "text"
      },
      "source": [
        "<a href=\"https://colab.research.google.com/github/Bingle-labake/deeplearn/blob/master/6/12/6_%E5%9B%9B%E8%BD%B4%E9%A3%9E%E8%A1%8C%E5%99%A8%E6%97%A0%E4%BA%BA%E6%9C%BA_1.ipynb\" target=\"_parent\"><img src=\"https://colab.research.google.com/assets/colab-badge.svg\" alt=\"Open In Colab\"/></a>"
      ]
    },
    {
      "cell_type": "markdown",
      "metadata": {
        "id": "LpjPO-GXxCw0",
        "colab_type": "text"
      },
      "source": [
        "\n",
        "##项目介绍\n",
        "###热门四轴飞行器\n",
        "![替代文字](https://s2.ax1x.com/2019/10/26/KBFqoQ.jpg)\n",
        "Parrot AR 无人机（来源：Wikimedia Commons; CC BY-SA 4.0）\n",
        "\n",
        "###项目介绍\n",
        "四轴飞行器或四轴飞行器无人机在个人和专业应用领域都变得越来越热门。它易于操控，并广泛应用于各个领域，从最后一公里投递到电影摄影，从杂技表演到搜救，无所不包。\n",
        "\n",
        "大多数四轴飞行器有四个提供推力的发动机，虽然有些飞行器有 6 个或 8 个发动机，也叫做四轴飞行器。有多个推力点并且重力在中心位置改善了稳定性，可以完成多种飞行动作。\n",
        "\n",
        "但是也存在一定的代价，此类飞行器控制起来非常复杂，几乎无法手动控制每个发动机的推力。因此大部分商业四轴飞行器通过接受一个推力大小和俯仰/偏航/翻滚控件简化飞行控件，这样操作起来更直观并且更有趣。\n",
        "\n",
        "下一步改进是让四轴飞行器能够自动完成一些控制行为，例如起飞和着陆。你可以通过经典方法（例如实现 PID 控制器）设计这些控件。或者，你可以使用强化学习构建自己学习这些行为的智能体。我们将在这个项目中采用强化学习方法！\n",
        "\n",
        "###项目描述\n",
        "我们建议你转到此 GitHub 代码库并下载代码本地运行 [GitHub资源](https://github.com/udacity/cn-deep-learning/tree/master/RL-Quadcopter-2)。如果你决定使用该GitHub库，务必使用库中提供的requirements.txt文件来pip安装所有该项目所需要的安装包列表。\n",
        "\n",
        "如果你需要一些指导，可以参阅下面的建议以及初始代码。\n",
        "\n",
        "###审阅\n",
        "当你的项目满足此[审阅标准](https://review.udacity.com/#!/rubrics/1589/view)中的规范后，请提交项目以供审阅。\n",
        "\n",
        "在此项目中，你将设计你自己的智能体，然后使用你所选的强化学习算法来训练它！使用强化学习来训练一个智能体是很困难的，但是我们强烈建立你多花一些时间来调试你的智能体以及任务参数，直到你的飞行器能够很好地完成你指定的目标。请尝试运用你在这一单元中学到的知识，如超参数或复杂结构等来优化你的学习结果。当然你也可以自己想出创新型方法并测试它们。\n",
        "\n",
        "###项目提交\n",
        "从本地提交项目, 你可以选择上传代码至你个人的GitHub，或者将所有项目文件打包上传提交。请务必回答notebook中的所有问题。"
      ]
    }
  ]
}