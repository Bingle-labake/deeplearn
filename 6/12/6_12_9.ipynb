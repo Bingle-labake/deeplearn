{
  "nbformat": 4,
  "nbformat_minor": 0,
  "metadata": {
    "colab": {
      "name": "6_12_9.ipynb",
      "provenance": [],
      "collapsed_sections": [],
      "include_colab_link": true
    },
    "kernelspec": {
      "name": "python3",
      "display_name": "Python 3"
    }
  },
  "cells": [
    {
      "cell_type": "markdown",
      "metadata": {
        "id": "view-in-github",
        "colab_type": "text"
      },
      "source": [
        "<a href=\"https://colab.research.google.com/github/Bingle-labake/deeplearn/blob/master/6/12/6_12_9.ipynb\" target=\"_parent\"><img src=\"https://colab.research.google.com/assets/colab-badge.svg\" alt=\"Open In Colab\"/></a>"
      ]
    },
    {
      "cell_type": "markdown",
      "metadata": {
        "id": "Sfr4D-LH2aU_",
        "colab_type": "text"
      },
      "source": [
        "##项目提交\n",
        "在此项目中，你将设计一个能够使四轴飞行器飞行的智能体，然后使用你所选的强化学习算法训练它！请尝试运用你在这一单元中学到的知识，看看哪个方法效果最好，当然你也可以自己想出创新型方法并测试它们。\n",
        "\n",
        "请克隆此 GitHub 代码库并按照 README：https://github.com/udacity/RL-Quadcopter-2 中的说明操作，其中的jupyter notebook汉化说明可参见[链接](https://github.com/udacity/cn-deep-learning/tree/master/RL-Quadcopter-2)；\n",
        "\n",
        "该项目环境的设置过程有点难度：如果你有疑问，简单问题可以直接群里提问并@助教；复杂问题请移步[论坛](https://discussions.youdaxue.com/t/topic/44102)提问并把帖子链接发到群里@助教，助教看到后会及时答疑；\n",
        "\n",
        "当你的项目满足[此审阅标准](https://review.udacity.com/#!/rubrics/1589/view)中的规范后，请提交项目以供审阅。"
      ]
    }
  ]
}