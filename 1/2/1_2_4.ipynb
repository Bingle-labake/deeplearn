{
  "nbformat": 4,
  "nbformat_minor": 0,
  "metadata": {
    "colab": {
      "name": "1_2_4.ipynb",
      "provenance": [],
      "collapsed_sections": [],
      "include_colab_link": true
    },
    "kernelspec": {
      "name": "python3",
      "display_name": "Python 3"
    }
  },
  "cells": [
    {
      "cell_type": "markdown",
      "metadata": {
        "id": "view-in-github",
        "colab_type": "text"
      },
      "source": [
        "<a href=\"https://colab.research.google.com/github/Bingle-labake/deeplearn/blob/master/1/2/1_2_4.ipynb\" target=\"_parent\"><img src=\"https://colab.research.google.com/assets/colab-badge.svg\" alt=\"Open In Colab\"/></a>"
      ]
    },
    {
      "cell_type": "code",
      "metadata": {
        "id": "0mpNmshjmx_c",
        "colab_type": "code",
        "colab": {}
      },
      "source": [
        ""
      ],
      "execution_count": 0,
      "outputs": []
    },
    {
      "cell_type": "markdown",
      "metadata": {
        "id": "ZihZEPG4mzBl",
        "colab_type": "text"
      },
      "source": [
        "##Flappy Bird\n",
        "在此示例中，你将看到一个深度学习代理在玩 Flappy Bird！你可以自己训练该代理，但是现在我们先开始使用作者提供的预先训练好的网络。注意，下面的代理能够直接玩游戏，不用告诉它关于游戏结构或规则的任何信息。它会通过查看每次循环时的操作流程，自动发现游戏规则。\n",
        "\n",
        "我们将使用[此 GitHub 代码库](https://github.com/yenchenlin/DeepLearningFlappyBird)（作者：Yenchen Lin）\n",
        "\n",
        "\n",
        "##说明\n",
        "\n",
        "\n",
        "1.   安装 miniconda 或 anaconda（如果尚未安装的话）。你可以按照我们在前一课的教程操作。\n",
        "2.   为 flappybird 创建一个环境\n",
        "\n",
        "\n",
        "\n",
        "> *   Mac/Linux：\n"
      ]
    },
    {
      "cell_type": "code",
      "metadata": {
        "id": "a4CTjP4enTta",
        "colab_type": "code",
        "colab": {}
      },
      "source": [
        "conda create --name=flappybird python=2.7"
      ],
      "execution_count": 0,
      "outputs": []
    },
    {
      "cell_type": "markdown",
      "metadata": {
        "id": "phhoHaLwnZVW",
        "colab_type": "text"
      },
      "source": [
        "> *   Mac/Linux："
      ]
    },
    {
      "cell_type": "code",
      "metadata": {
        "id": "3UjHOlTvnbdX",
        "colab_type": "code",
        "colab": {}
      },
      "source": [
        "conda create --name=flappybird python=3.5"
      ],
      "execution_count": 0,
      "outputs": []
    },
    {
      "cell_type": "markdown",
      "metadata": {
        "id": "q26L5Uvunjfn",
        "colab_type": "text"
      },
      "source": [
        "\n",
        "\n",
        "3.   进入你的 conda 环境\n",
        "\n",
        "\n"
      ]
    },
    {
      "cell_type": "markdown",
      "metadata": {
        "id": "72C3FfzTnu5I",
        "colab_type": "text"
      },
      "source": [
        "> *   Mac/Linux："
      ]
    },
    {
      "cell_type": "code",
      "metadata": {
        "id": "iJh5LxO7nv_Q",
        "colab_type": "code",
        "colab": {}
      },
      "source": [
        "source activate flappybird"
      ],
      "execution_count": 0,
      "outputs": []
    },
    {
      "cell_type": "markdown",
      "metadata": {
        "id": "CKqNcNKan2ew",
        "colab_type": "text"
      },
      "source": [
        "> *   Windows："
      ]
    },
    {
      "cell_type": "code",
      "metadata": {
        "id": "AYlznus5nxBg",
        "colab_type": "code",
        "colab": {}
      },
      "source": [
        "activate flappybird"
      ],
      "execution_count": 0,
      "outputs": []
    },
    {
      "cell_type": "code",
      "metadata": {
        "id": "Sm6oVjcgoEhR",
        "colab_type": "code",
        "colab": {}
      },
      "source": [
        "conda install -c menpo opencv3\n",
        "pip install pygame\n",
        "pip install tensorflow\n",
        "git clone https://github.com/yenchenlin/DeepLearningFlappyBird.git\n",
        "cd DeepLearningFlappyBird\n",
        "python deep_q_network.py"
      ],
      "execution_count": 0,
      "outputs": []
    },
    {
      "cell_type": "markdown",
      "metadata": {
        "id": "oKsUJFNnoHqR",
        "colab_type": "text"
      },
      "source": [
        "如果一切正常，你应该会看到一个基于深度学习的代理在玩 Flappy Bird！资源库中包含了训练你自己的代理的说明，如果你感兴趣的话！"
      ]
    }
  ]
}