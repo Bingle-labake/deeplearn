{
  "nbformat": 4,
  "nbformat_minor": 0,
  "metadata": {
    "colab": {
      "name": "Untitled2.ipynb",
      "provenance": [],
      "collapsed_sections": [],
      "include_colab_link": true
    },
    "kernelspec": {
      "name": "python3",
      "display_name": "Python 3"
    }
  },
  "cells": [
    {
      "cell_type": "markdown",
      "metadata": {
        "id": "view-in-github",
        "colab_type": "text"
      },
      "source": [
        "<a href=\"https://colab.research.google.com/github/Bingle-labake/deeplearn/blob/master/1/2/1_2_5.ipynb\" target=\"_parent\"><img src=\"https://colab.research.google.com/assets/colab-badge.svg\" alt=\"Open In Colab\"/></a>"
      ]
    },
    {
      "cell_type": "markdown",
      "metadata": {
        "id": "4dPpeJ2dofpb",
        "colab_type": "text"
      },
      "source": [
        "![替代文字](https://s2.ax1x.com/2019/10/25/K0iiM8.jpg)\n",
        "##课外图书\n",
        "我们认为最佳学习方法是了解不同人对同一概念提出的不同见解。因此，我们建议你阅读以下几本图书，进一步了解深度学习。\n",
        "\n",
        "\n",
        "\n",
        "*   [Grokking Deep Learning](https://www.manning.com/books/grokking-deep-learning)，作者：Andrew Trask。使用我们的专属折扣码 traskud17 可以享受六折优惠。这本书对深度学习进行了基本介绍，更加直观，而不是只介绍抽象理论。\n",
        "*   [Neural Networks And Deep Learning](http://neuralnetworksanddeeplearning.com/)，作者：Michael Nielsen。这本书比《Grokking Deep Learning》更严密，包含大量的互动性有趣图表。\n",
        "*   [The Deep Learning Textbook](http://www.deeplearningbook.org/)，作者：Ian Goodfellow、Yoshua Bengio 和 Aaron Courville。这本在线图书包含了大量的资料，是三本书中最严密的一本。\n",
        "\n"
      ]
    }
  ]
}