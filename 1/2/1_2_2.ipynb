{
  "nbformat": 4,
  "nbformat_minor": 0,
  "metadata": {
    "colab": {
      "name": "1_2_2.ipynb",
      "provenance": [],
      "collapsed_sections": [],
      "include_colab_link": true
    },
    "kernelspec": {
      "name": "python3",
      "display_name": "Python 3"
    }
  },
  "cells": [
    {
      "cell_type": "markdown",
      "metadata": {
        "id": "view-in-github",
        "colab_type": "text"
      },
      "source": [
        "<a href=\"https://colab.research.google.com/github/Bingle-labake/deeplearn/blob/master/1/2/1_2_2.ipynb\" target=\"_parent\"><img src=\"https://colab.research.google.com/assets/colab-badge.svg\" alt=\"Open In Colab\"/></a>"
      ]
    },
    {
      "cell_type": "markdown",
      "metadata": {
        "id": "yoHl-9NEfAbI",
        "colab_type": "text"
      },
      "source": [
        "##风格迁移\n",
        "为了展示深度学习模型可以实现的各种功能，我们现在来研究一个非常有趣的项目，叫做[快速风格迁移](https://github.com/lengstrom/fast-style-transfer)。通过风格迁移，你可以按照著名的画作重新创建风格一样的图片！神经网络会学习这些画作采用的技巧，并学会如何自己应用这些绘画技巧。此模型根据著名画作的风格进行了训练，能够将这些风格迁移到其他图片上，[甚至视频上](https://www.youtube.com/watch?v=xVJwwWQlQ1o)！\n",
        "\n",
        "我用该模型对我的猫咪 Chihiro 的图片进行了风格迁移，采用的是 [Hokusai](https://en.wikipedia.org/wiki/Hokusai) 的 [The Great Wave Off Kanagawa](https://en.wikipedia.org/wiki/The_Great_Wave_off_Kanagawa)。\n",
        "\n",
        "\n",
        "要自己试一下，你可以在 [fast-style-transfer GitHub](https://github.com/lengstrom/fast-style-transfer) 资源库 中找到相关代码。你可以使用 git 克隆该资源库，或将整个资源库下载为 Zip 归档文件，并解压。\n",
        "\n",
        "该神经网络按照(此处 [链接文字](https://github.com/lengstrom/fast-style-transfer/tree/master/examples/style))的几种不同风格进行了训练，并保存在[检查点文件](https://drive.google.com/drive/folders/0B9jhaT37ydSyRk9UX0wwX3BpMzQ)中。检查点文件包含了关于已训练神经网络的所有信息，可以将风格应用到新的图片上。\n",
        "\n",
        "###依赖项\n",
        "安装运行该代码所需的所有程序包的最简单方式是使用 [Miniconda](http://conda.pydata.org/miniconda.html)，它是更简版本的 [Anaconda](https://www.continuum.io/downloads)。 Miniconda 自带了 Conda，后者是专门用于数据科学的程序包和环境管理器。请安装适合你的操作系统的 Python 3 版本的 Miniconda。\n",
        "\n",
        "如果你之前没有使用过 Conda，请快速阅读我们在上一课的教程。\n",
        "\n",
        "###Windows\n",
        "对于 Windows，你需要安装 TensorFlow 0.12.1、Python 3.5、Pillow 3.4.2、scipy 0.18.1 和 numpy 1.11.2。安装 Miniconda 后，打开你的命令提示符窗口。然后逐行输入以下命令：\n"
      ]
    },
    {
      "cell_type": "code",
      "metadata": {
        "id": "7qibOYaBgSDI",
        "colab_type": "code",
        "colab": {}
      },
      "source": [
        "conda create -n style-transfer python=3.5\n",
        "activate style-transfer\n",
        "pip install tensorflow\n",
        "conda install scipy pillow"
      ],
      "execution_count": 0,
      "outputs": []
    },
    {
      "cell_type": "markdown",
      "metadata": {
        "id": "YgyFFkr_ggLF",
        "colab_type": "text"
      },
      "source": [
        "第一行创建一个新的环境，其中存储了格式迁移代码所需的程序包。第二行 (activate style-transfer) 会进入该环境，你应该会在提示符窗口的开头看到环境名称。接下来的两行负责安装 TensorFlow、Scipy 和 Pillow（一种图像处理库）。\n",
        "\n",
        "###OS X 和 Linux\n",
        "对于 OS X 和 Linux，你需要安装 TensorFlow 0.11.0、Python 2.7.9、Pillow 3.4.2、scipy 0.18.1 和 numpy 1.11.2.\n",
        "\n",
        "在终端里，逐行输入以下命令：\n"
      ]
    },
    {
      "cell_type": "code",
      "metadata": {
        "id": "SfFtYw3pgorO",
        "colab_type": "code",
        "colab": {}
      },
      "source": [
        "conda create -n style-transfer python=2.7.9\n",
        "source activate style-transfer\n",
        "pip install tensorflow\n",
        "conda install scipy pillow"
      ],
      "execution_count": 0,
      "outputs": []
    },
    {
      "cell_type": "markdown",
      "metadata": {
        "id": "snjGRCrZgpNl",
        "colab_type": "text"
      },
      "source": [
        "第一行创建一个新的环境，其中存储了格式迁移代码所需的程序包。第二行 (source activate style-transfer) 进入该环境，你应该会在提示符窗口的开头看到环境名称。接下来的两行负责安装 TensorFlow、Scipy 和 Pillow（一种图像处理库）。\n",
        "\n",
        "###迁移风格\n",
        "\n",
        "\n",
        "1.   从fast-style-transfer资源库中下载 Zip 归档文件并解压。你可以通过点击右侧的亮绿色按钮进行下载。\n",
        "2.   从此处下载 Rain Princess 检查点，将其放在 fast-style-transfer 文件夹中。检查点文件是已经调谐参数的模型。使用此检查点文件后我们不需要再训练该模型，可以直接使用。\n",
        "3.   将你要调整格式的图片放到 fast-style-transfer 文件夹。\n",
        "4.   进入你之前创建的 Conda 环境（如果不在里面的话）。\n",
        "5.   在终端里，转到 fast-style-transfer 文件夹并输入\n",
        "\n",
        "\n",
        "\n",
        "\n",
        "\n",
        "\n"
      ]
    },
    {
      "cell_type": "code",
      "metadata": {
        "id": "OoBh84jhhKGS",
        "colab_type": "code",
        "colab": {}
      },
      "source": [
        "python evaluate.py --checkpoint ./rain-princess.ckpt --in-path <path_to_input_file> --out-path ./output_image.jpg"
      ],
      "execution_count": 0,
      "outputs": []
    },
    {
      "cell_type": "markdown",
      "metadata": {
        "id": "NA1v9gOvhLUI",
        "colab_type": "text"
      },
      "source": [
        "\n",
        "\n",
        "\n",
        "> 注意：你的检查点文件可能名称为 rain_princess.ckpt，注意是下划线，而不是上面的连字符。\n",
        "\n",
        "\n",
        "\n",
        "你可以在此页面的底部获得更多检查点文件，都试试吧！\n",
        "\n",
        "请在论坛（[中文论坛](https://discussions.youdaxue.com/)上分享你创建的内容。我们非常希望能够看到你的成果。此外，你也可以去训练你自己的图片上的网络，你可以在资源库中找到说明（但是需要足够的硬件支持）。\n",
        "\n",
        "\n",
        "\n",
        "> 注意：要留意输入图片的大小，风格迁移在运行大型文件时，会花费很长的时间。\n",
        "\n",
        "\n",
        "\n",
        "风格迁移清单\n",
        "Task List\n",
        "\n",
        "\n",
        "\n",
        "\n",
        "Checkpoint 按照以下画作进行了训练：\n",
        "\n",
        "\n",
        "\n",
        "*   Rain Princesss checkpoint，作者：Leonid Afremov\n",
        "*   La Muse checkpoint，作者：Pablo Picasso\n",
        "*   Udnie checkpoint，作者：Francis Picabia\n",
        "*   Scream checkpoint，作者：Edvard Munch\n",
        "*   The Great Wave off Kanagawa checkpoint，作者：Hokusai\n",
        "*   The Shipwreck of the Minotaur checkpoint，作者：J.M.W. Turner\n",
        "\n"
      ]
    }
  ]
}