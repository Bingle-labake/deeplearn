{
  "nbformat": 4,
  "nbformat_minor": 0,
  "metadata": {
    "colab": {
      "name": "1_3_11.ipynb",
      "provenance": [],
      "collapsed_sections": [],
      "include_colab_link": true
    },
    "kernelspec": {
      "name": "python3",
      "display_name": "Python 3"
    }
  },
  "cells": [
    {
      "cell_type": "markdown",
      "metadata": {
        "id": "view-in-github",
        "colab_type": "text"
      },
      "source": [
        "<a href=\"https://colab.research.google.com/github/Bingle-labake/deeplearn/blob/master/1/3/1_3_11.ipynb\" target=\"_parent\"><img src=\"https://colab.research.google.com/assets/colab-badge.svg\" alt=\"Open In Colab\"/></a>"
      ]
    },
    {
      "cell_type": "markdown",
      "metadata": {
        "id": "kKY-12CtyHuJ",
        "colab_type": "text"
      },
      "source": [
        "##NumPy 考试\n",
        "这只是一个简短的编程测试，要求你使用几个 NumPy 功能。如果你还没有使用 NumPy 的经验，可以将其当作一个小练习。"
      ]
    },
    {
      "cell_type": "code",
      "metadata": {
        "id": "TGRDmd8ex-FD",
        "colab_type": "code",
        "colab": {}
      },
      "source": [
        "# numpy_fun.py\n",
        "\n",
        "# Use the numpy library\n",
        "import numpy as np\n",
        "\n",
        "\n",
        "def prepare_inputs(inputs):\n",
        "    # TODO: create a 2-dimensional ndarray from the given 1-dimensional list;\n",
        "    #       assign it to input_array\n",
        "    input_array = None\n",
        "    \n",
        "    # TODO: find the minimum value in input_array and subtract that\n",
        "    #       value from all the elements of input_array. Store the\n",
        "    #       result in inputs_minus_min\n",
        "    inputs_minus_min = None\n",
        "\n",
        "    # TODO: find the maximum value in inputs_minus_min and divide\n",
        "    #       all of the values in inputs_minus_min by the maximum value.\n",
        "    #       Store the results in inputs_div_max.\n",
        "    inputs_div_max = None\n",
        "\n",
        "    # return the three arrays we've created\n",
        "    return input_array, inputs_minus_min, inputs_div_max\n",
        "    \n",
        "\n",
        "def multiply_inputs(m1, m2):\n",
        "    # TODO: Check the shapes of the matrices m1 and m2. \n",
        "    #       m1 and m2 will be ndarray objects.\n",
        "    #\n",
        "    #       Return False if the shapes cannot be used for matrix\n",
        "    #       multiplication. You may not use a transpose\n",
        "    pass\n",
        "\n",
        "\n",
        "    # TODO: If you have not returned False, then calculate the matrix product\n",
        "    #       of m1 and m2 and return it. Do not use a transpose,\n",
        "    #       but you swap their order if necessary\n",
        "    pass\n",
        "    \n",
        "\n",
        "def find_mean(values):\n",
        "    # TODO: Return the average of the values in the given Python list\n",
        "    pass\n",
        "\n",
        "\n",
        "input_array, inputs_minus_min, inputs_div_max = prepare_inputs([-1,2,7])\n",
        "print(\"Input as Array: {}\".format(input_array))\n",
        "print(\"Input minus min: {}\".format(inputs_minus_min))\n",
        "print(\"Input  Array: {}\".format(inputs_div_max))\n",
        "\n",
        "print(\"Multiply 1:\\n{}\".format(multiply_inputs(np.array([[1,2,3],[4,5,6]]), np.array([[1],[2],[3],[4]]))))\n",
        "print(\"Multiply 2:\\n{}\".format(multiply_inputs(np.array([[1,2,3],[4,5,6]]), np.array([[1],[2],[3]]))))\n",
        "print(\"Multiply 3:\\n{}\".format(multiply_inputs(np.array([[1,2,3],[4,5,6]]), np.array([[1,2]]))))\n",
        "\n",
        "print(\"Mean == {}\".format(find_mean([1,3,4])))"
      ],
      "execution_count": 0,
      "outputs": []
    },
    {
      "cell_type": "code",
      "metadata": {
        "id": "dpge8a2dyRLY",
        "colab_type": "code",
        "colab": {}
      },
      "source": [
        "# solution.py\n",
        "# Use the numpy library\n",
        "import numpy as np\n",
        "\n",
        "\n",
        "######################################################\n",
        "#\n",
        "#      MESSAGE TO STUDENTS:\n",
        "#\n",
        "#  This file contains a solution to the coding quiz. Feel free\n",
        "#  to look at it when you are stuck, but try to solve the\n",
        "#   problem on your own first.\n",
        "#\n",
        "######################################################\n",
        "\n",
        "\n",
        "def prepare_inputs(inputs):\n",
        "    # TODO: create a 2-dimensional ndarray from the given 1-dimensional list;\n",
        "    #       assign it to input_array\n",
        "    input_array = np.array([inputs])\n",
        "    \n",
        "    # TODO: find the minimum value in input_array and subtract that\n",
        "    #       value from all the elements of input_array. Store the\n",
        "    #       result in inputs_minus_min\n",
        "    # We can use NumPy's min function and element-wise division\n",
        "    inputs_minus_min = input_array - np.min(input_array)\n",
        "\n",
        "    # TODO: find the maximum value in inputs_minus_min and divide\n",
        "    #       all of the values in inputs_minus_min by the maximum value.\n",
        "    #       Store the results in inputs_div_max.\n",
        "    # We can use NumPy's max function and element-wise division\n",
        "    inputs_div_max = inputs_minus_min / np.max(inputs_minus_min)\n",
        "\n",
        "    return input_array, inputs_minus_min, inputs_div_max\n",
        "    \n",
        "\n",
        "def multiply_inputs(m1, m2):\n",
        "    # Check the shapes of the matrices m1 and m2. \n",
        "    # m1 and m2 will be ndarray objects.\n",
        "    #\n",
        "    # Return False if the shapes cannot be used for matrix\n",
        "    # multiplication. You may not use a transpose\n",
        "    if m1.shape[0] != m2.shape[1] and m1.shape[1] != m2.shape[0]:     \n",
        "        return False\n",
        "\n",
        "    # Have not returned False, so calculate the matrix product\n",
        "    # of m1 and m2 and return it. Do not use a transpose,\n",
        "    #       but you swap their order if necessary\n",
        "    if m1.shape[1] == m2.shape[0]:\n",
        "        return np.matmul(m1, m2)        \n",
        "    else:\n",
        "        return np.matmul(m2, m1)        \n",
        "\n",
        "\n",
        "def find_mean(values):\n",
        "    # Return the average of the values in the given Python list\n",
        "    # NumPy has a lot of helpful methods like this.\n",
        "    return np.mean(values)\n"
      ],
      "execution_count": 0,
      "outputs": []
    }
  ]
}