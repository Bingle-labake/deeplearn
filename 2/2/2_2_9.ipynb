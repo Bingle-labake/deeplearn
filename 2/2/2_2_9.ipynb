{
  "nbformat": 4,
  "nbformat_minor": 0,
  "metadata": {
    "colab": {
      "name": "2_2_9.ipynb",
      "provenance": [],
      "collapsed_sections": [],
      "include_colab_link": true
    },
    "kernelspec": {
      "name": "python3",
      "display_name": "Python 3"
    }
  },
  "cells": [
    {
      "cell_type": "markdown",
      "metadata": {
        "id": "view-in-github",
        "colab_type": "text"
      },
      "source": [
        "<a href=\"https://colab.research.google.com/github/Bingle-labake/deeplearn/blob/master/2/2/2_2_9.ipynb\" target=\"_parent\"><img src=\"https://colab.research.google.com/assets/colab-badge.svg\" alt=\"Open In Colab\"/></a>"
      ]
    },
    {
      "cell_type": "markdown",
      "metadata": {
        "id": "5O6wM6AYvVOC",
        "colab_type": "text"
      },
      "source": [
        "##进阶阅读\n",
        "反向传播（Backpropagation）是深度学习的基础。TensorFlow 或者其它框架会替你把它做好，但是你应该理解它的算法。我们后面还会讲到它，这里有些材料你可以看一下：\n",
        "\n",
        "\n",
        "\n",
        "*   Andrej Karpathy：[是的，你应该了解反向传播](https://medium.com/@karpathy/yes-you-should-understand-backprop-e2f06eab496b#.vt3ax2kg9)\n",
        "*   同样来自 Andrej Karpathy：[斯坦福的 CS231n 课程的一个视频](https://www.youtube.com/watch?v=59Hbtz7XgjM)\n",
        "\n",
        "\n",
        "\n"
      ]
    }
  ]
}