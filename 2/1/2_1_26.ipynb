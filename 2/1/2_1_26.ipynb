{
  "nbformat": 4,
  "nbformat_minor": 0,
  "metadata": {
    "colab": {
      "name": "2_1_26.ipynb",
      "provenance": [],
      "collapsed_sections": [],
      "include_colab_link": true
    },
    "kernelspec": {
      "name": "python3",
      "display_name": "Python 3"
    }
  },
  "cells": [
    {
      "cell_type": "markdown",
      "metadata": {
        "id": "view-in-github",
        "colab_type": "text"
      },
      "source": [
        "<a href=\"https://colab.research.google.com/github/Bingle-labake/deeplearn/blob/master/2/1/2_1_26.ipynb\" target=\"_parent\"><img src=\"https://colab.research.google.com/assets/colab-badge.svg\" alt=\"Open In Colab\"/></a>"
      ]
    },
    {
      "cell_type": "markdown",
      "metadata": {
        "id": "KQ6As8BW1AUD",
        "colab_type": "text"
      },
      "source": [
        "##实现梯度下降法\n",
        "\n",
        "在下面的 notebook 中，你将对具有两个类别的以下示例数据集实现梯度下降法。\n",
        "\n",
        "![替代文字](https://s2.ax1x.com/2019/10/26/KDAcWj.png)\n",
        "出现重合的红色和蓝色数据点。\n",
        "\n",
        "##Workspace\n",
        "打开 notebook 的方法：\n",
        "\n",
        "\n",
        "*   直接在课堂里在线打开下一页（推荐）\n",
        "*   从 Github 克隆代码库，再打开 intro-neural-networks > gradient-descent 文件夹中的 GradientDescent.ipynb。你可以在命令行里输入 git clone https://github.com/udacity/deep-learning-v2-pytorch.git 下载代码库，或从[此链接](https://github.com/udacity/deep-learning-v2-pytorch/archive/master.zip)下载归档文件。\n",
        "\n",
        "\n",
        "##说明\n",
        "在此 notebook 中，你将实现构建梯度下降法所需的以下函数：\n",
        "\n",
        "*   sigmoid：S 型激活函数。\n",
        "*   output_formula：预测值的公式。\n",
        "*   error_formula：某个点的误差公式。\n",
        "*   update_weights：在一个梯度下降步中更新参数的函数。\n",
        "\n",
        "实现这些函数时，请运行 train 函数，该函数将绘制在连续梯度下降步中绘制的几条线。它还会绘制误差函数，并且当训练轮数增多时，误差将减小。\n",
        "\n",
        "\n",
        "这是一个自我评估 Lab。如果你需要帮助或想参考答案，请查看同一文件夹里的答案 notebook。"
      ]
    },
    {
      "cell_type": "code",
      "metadata": {
        "id": "vylMQgAg07_3",
        "colab_type": "code",
        "colab": {}
      },
      "source": [
        ""
      ],
      "execution_count": 0,
      "outputs": []
    }
  ]
}