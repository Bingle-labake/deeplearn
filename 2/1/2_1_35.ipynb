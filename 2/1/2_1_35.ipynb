{
  "nbformat": 4,
  "nbformat_minor": 0,
  "metadata": {
    "colab": {
      "name": "2_1_35.ipynb",
      "provenance": [],
      "collapsed_sections": [],
      "include_colab_link": true
    },
    "kernelspec": {
      "name": "python3",
      "display_name": "Python 3"
    }
  },
  "cells": [
    {
      "cell_type": "markdown",
      "metadata": {
        "id": "view-in-github",
        "colab_type": "text"
      },
      "source": [
        "<a href=\"https://colab.research.google.com/github/Bingle-labake/deeplearn/blob/master/2/1/2_1_35.ipynb\" target=\"_parent\"><img src=\"https://colab.research.google.com/assets/colab-badge.svg\" alt=\"Open In Colab\"/></a>"
      ]
    },
    {
      "cell_type": "markdown",
      "metadata": {
        "id": "JVrEXsE04YfI",
        "colab_type": "text"
      },
      "source": [
        "##Notebook：分析学生数据\n",
        "现在我们将运用神经网络解决实际问题，我们将分析 UCLA 的学生录取数据。\n",
        "\n",
        "打开 notebook 的方法：\n",
        "\n",
        "\n",
        "*   直接在课堂里在线打开下一页（推荐）。\n",
        "*   从 Github 克隆代码库，再打开 intro-neural-networks > student_admissions 文件夹中的 StudentAdmissions.ipynb。你可以使用 git clone https://github.com/udacity/deep-learning-v2-pytorch.git 下载代码库，或从此链接下载归档文件。\n",
        "\n",
        "\n",
        "说明\n",
        "在此 notebook 中，你将实现以下几个神经网络训练步骤：\n",
        "\n",
        "*   对数据进行独热编码\n",
        "*   缩放数据\n",
        "*   编写反向传播步骤\n",
        "\n",
        "这是一个自我评估 Lab。如果你需要帮助或想参考答案，请查看同一文件夹里的答案 notebook。"
      ]
    },
    {
      "cell_type": "code",
      "metadata": {
        "id": "RlimFyqF4Th3",
        "colab_type": "code",
        "colab": {}
      },
      "source": [
        ""
      ],
      "execution_count": 0,
      "outputs": []
    }
  ]
}