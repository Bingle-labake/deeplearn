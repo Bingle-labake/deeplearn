{
  "nbformat": 4,
  "nbformat_minor": 0,
  "metadata": {
    "colab": {
      "name": "6_迁移学习_花朵.ipynb",
      "version": "0.3.2",
      "provenance": [],
      "include_colab_link": true
    },
    "kernelspec": {
      "name": "python3",
      "display_name": "Python 3"
    },
    "accelerator": "GPU"
  },
  "cells": [
    {
      "cell_type": "markdown",
      "metadata": {
        "id": "view-in-github",
        "colab_type": "text"
      },
      "source": [
        "<a href=\"https://colab.research.google.com/github/Bingle-labake/deeplearn/blob/master/transferlearning/6_%E8%BF%81%E7%A7%BB%E5%AD%A6%E4%B9%A0_%E8%8A%B1%E6%9C%B5.ipynb\" target=\"_parent\"><img src=\"https://colab.research.google.com/assets/colab-badge.svg\" alt=\"Open In Colab\"/></a>"
      ]
    },
    {
      "cell_type": "markdown",
      "metadata": {
        "id": "hETWJhLJK_4d",
        "colab_type": "text"
      },
      "source": [
        "##迁移学习\n",
        "通常，你不需要自己训练整个卷积网络。现代卷积网络在多个 GPU 上用 ImageNet 等大型数据集进行训练时，需要花费数周时间。\n",
        "\n",
        "\n",
        "\n",
        "> 大多数人都使用预训练的网络作为固定的特征提取器，或作为初始网络进行微调。\n",
        "\n",
        "\n",
        "\n",
        "在此 notebook 中，你将使用在 [ImageNet dataset ](http://www.image-net.org/)上训练过的 [VGGNet](https://arxiv.org/pdf/1409.1556.pdf) 作为特征提取器。下面是 VGGNet 架构的图表，它包含一系列卷积层和最大池化层，最后是三个全连接层，用于根据 ImageNet 数据库中的 1000 个类别进行分类。\n",
        "![替代文字](https://viewuf1qztkwjj.udacity-student-workspaces.com/notebooks/notebook_ims/vgg_16_architecture.png)\n",
        "\n",
        "VGGNet 很强大，因为它很简单，并且效果很棒，在 ImageNet 竞赛中获得了第二名的好成绩。我们的做法是保留所有卷积层，但是将最后的全连接层替换成我们自己的分类器。这样，我们就可以将 VGGNet 当做图像的特征提取器，然后在此基础之上训练简单的分类器。\n",
        "\n",
        "\n",
        "\n",
        "\n",
        "*   使用除最后一个全连接层之外的所有其他层级作为固定的特征提取器。\n",
        "定义一个新的最后分类层级，并将其应用到我们的任务上！\n",
        "*   要详细了解迁移学习，请[参阅 CS231n 斯坦福课程笔记](http://cs231n.github.io/transfer-learning/)。\n",
        "\n",
        "\n",
        "\n",
        "---\n",
        "\n",
        "\n",
        "\n",
        "##花朵图像\n",
        "我们将使用 VGGNet 分类花朵图像。首先导入资源。然后检查能否在 GPU 上训练模型。\n",
        "\n",
        "###下载数据\n",
        "你可以在此课程的资源部分找到花朵数据 zip 文件并下载到本地环境中。对于此 notebook，我们已下载数据并将其放在目录 flower_photos/ 下。"
      ]
    },
    {
      "cell_type": "code",
      "metadata": {
        "id": "GC7u0wzYKyTY",
        "colab_type": "code",
        "colab": {}
      },
      "source": [
        "import os\n",
        "import numpy as np\n",
        "import torch\n",
        "\n",
        "import torchvision\n",
        "from torchvision import datasets, models, transforms\n",
        "import matplotlib.pyplot as plt\n",
        "\n",
        "%matplotlib inline"
      ],
      "execution_count": 0,
      "outputs": []
    },
    {
      "cell_type": "code",
      "metadata": {
        "id": "0GxhpmWXL6J1",
        "colab_type": "code",
        "colab": {
          "base_uri": "https://localhost:8080/",
          "height": 34
        },
        "outputId": "d429f19a-fda8-44a5-8a75-c8c05f87f8a0"
      },
      "source": [
        "# check if CUDA is available\n",
        "train_on_gpu = torch.cuda.is_available()\n",
        "\n",
        "if not train_on_gpu:\n",
        "    print('CUDA is not available.  Training on CPU ...')\n",
        "else:\n",
        "    print('CUDA is available!  Training on GPU ...')"
      ],
      "execution_count": 2,
      "outputs": [
        {
          "output_type": "stream",
          "text": [
            "CUDA is available!  Training on GPU ...\n"
          ],
          "name": "stdout"
        }
      ]
    },
    {
      "cell_type": "markdown",
      "metadata": {
        "id": "rWpROsXUMFOW",
        "colab_type": "text"
      },
      "source": [
        "###加载并转换数据\n",
        "我们将使用 PyTorch 的ImageFolder 类就能轻松地从目录中加载数据。例如，训练图像全存储在如下所示的目录路径中：\n",
        "\n",
        "root/class_1/xxx.png\n",
        "\n",
        "root/class_1/xxy.png\n",
        "\n",
        "root/class_1/xxz.png\n",
        "\n",
        "root/class_2/123.png\n",
        "\n",
        "root/class_2/nsdf3.png\n",
        "\n",
        "root/class_2/asd932_.png\n",
        "\n",
        "其中训练根文件夹是 flower_photos/train/，类别是花朵类型的名称。"
      ]
    },
    {
      "cell_type": "code",
      "metadata": {
        "id": "4lEIxOKwMqmW",
        "colab_type": "code",
        "colab": {}
      },
      "source": [
        "# define training and test data directories\n",
        "data_dir = 'flower_photos/'\n",
        "train_dir = os.path.join(data_dir, 'train/')\n",
        "test_dir = os.path.join(data_dir, 'test/')\n",
        "\n",
        "# classes are folders in each directory with these names\n",
        "classes = ['daisy', 'dandelion', 'roses', 'sunflowers', 'tulips']"
      ],
      "execution_count": 0,
      "outputs": []
    },
    {
      "cell_type": "markdown",
      "metadata": {
        "id": "jA3qUEOAMu5H",
        "colab_type": "text"
      },
      "source": [
        "###转换数据\n",
        "在进行迁移学习时，我们需要将输入数据变形为符合预训练模型期望的形状。VGG16 要求输入数据是 224 维的方形图像，因此我们将相应地调整每张花朵图像的大小。"
      ]
    },
    {
      "cell_type": "code",
      "metadata": {
        "id": "86uJe00RMyof",
        "colab_type": "code",
        "colab": {}
      },
      "source": [
        "# load and transform data using ImageFolder\n",
        "\n",
        "# VGG-16 Takes 224x224 images as input, so we resize all of them\n",
        "data_transform = transforms.Compose([transforms.RandomResizedCrop(224), \n",
        "                                      transforms.ToTensor()])\n",
        "\n",
        "train_data = datasets.ImageFolder(train_dir, transform=data_transform)\n",
        "test_data = datasets.ImageFolder(test_dir, transform=data_transform)\n",
        "\n",
        "# print out some data stats\n",
        "print('Num training images: ', len(train_data))\n",
        "print('Num test images: ', len(test_data))"
      ],
      "execution_count": 0,
      "outputs": []
    },
    {
      "cell_type": "markdown",
      "metadata": {
        "id": "uA9JIRdlM1wX",
        "colab_type": "text"
      },
      "source": [
        "###数据加载器和数据可视化¶"
      ]
    },
    {
      "cell_type": "code",
      "metadata": {
        "id": "PXUvYISJM3Tv",
        "colab_type": "code",
        "colab": {}
      },
      "source": [
        "# define dataloader parameters\n",
        "batch_size = 20\n",
        "num_workers=0\n",
        "\n",
        "# prepare data loaders\n",
        "train_loader = torch.utils.data.DataLoader(train_data, batch_size=batch_size, \n",
        "                                           num_workers=num_workers, shuffle=True)\n",
        "test_loader = torch.utils.data.DataLoader(test_data, batch_size=batch_size, \n",
        "                                          num_workers=num_workers, shuffle=True)"
      ],
      "execution_count": 0,
      "outputs": []
    },
    {
      "cell_type": "code",
      "metadata": {
        "id": "Y3rRY2BaM-Qv",
        "colab_type": "code",
        "colab": {}
      },
      "source": [
        "# Visualize some sample data\n",
        "\n",
        "# obtain one batch of training images\n",
        "dataiter = iter(train_loader)\n",
        "images, labels = dataiter.next()\n",
        "images = images.numpy() # convert images to numpy for display\n",
        "\n",
        "# plot the images in the batch, along with the corresponding labels\n",
        "fig = plt.figure(figsize=(25, 4))\n",
        "for idx in np.arange(20):\n",
        "    ax = fig.add_subplot(2, 20/2, idx+1, xticks=[], yticks=[])\n",
        "    plt.imshow(np.transpose(images[idx], (1, 2, 0)))\n",
        "    ax.set_title(classes[labels[idx]])"
      ],
      "execution_count": 0,
      "outputs": []
    },
    {
      "cell_type": "markdown",
      "metadata": {
        "id": "JCz2E6LaNBzX",
        "colab_type": "text"
      },
      "source": [
        "###定义模型\n",
        "要定义训练模型，我们将执行以下步骤： 1.加载预训练的 VGG16 模型 2.“冻结”所有参数，使该网络变成固定的特征提取器 3.删除最后一个层级 4.将最后一个层级替换为我们所选的线性分类器\n",
        "\n",
        "####冻结是指在训练过程中，不会更改预训练模型中的参数。"
      ]
    },
    {
      "cell_type": "code",
      "metadata": {
        "id": "sAeJQAtTNGU_",
        "colab_type": "code",
        "colab": {}
      },
      "source": [
        "# Load the pretrained model from pytorch\n",
        "vgg16 = models.vgg16(pretrained=True)\n",
        "\n",
        "# print out the model structure\n",
        "print(vgg16)"
      ],
      "execution_count": 0,
      "outputs": []
    },
    {
      "cell_type": "code",
      "metadata": {
        "id": "mC-Rp7RLNKfQ",
        "colab_type": "code",
        "colab": {}
      },
      "source": [
        "print(vgg16.classifier[6].in_features) \n",
        "print(vgg16.classifier[6].out_features) "
      ],
      "execution_count": 0,
      "outputs": []
    },
    {
      "cell_type": "code",
      "metadata": {
        "id": "4Zgn_dnuNNLA",
        "colab_type": "code",
        "colab": {}
      },
      "source": [
        "# Freeze training for all \"features\" layers\n",
        "for param in vgg16.features.parameters():\n",
        "    param.requires_grad = False"
      ],
      "execution_count": 0,
      "outputs": []
    },
    {
      "cell_type": "markdown",
      "metadata": {
        "id": "JorNvUkhNQgI",
        "colab_type": "text"
      },
      "source": [
        "###最终分类器层级\n",
        "获得预训练的特征提取器后，只需修改和/或添加到最后的全连接分类器层级。在此练习中，我们建议替换 vgg 分类器层级中的最后一个层级。\n",
        "\n",
        "\n",
        "\n",
        "> 这一层的输入应该是无需更改的网络部分生成的特征数量，并为花朵分类任务生成相应数量的输出。\n",
        "\n",
        "\n",
        "\n",
        "你可以通过名称以及（有时候是）数字访问预训练网络中的任何层级，例如 vgg16.classifier[6] 是叫做“classifier”的层级群组中的第六个层级。\n",
        "\n",
        "###TODO：将最后的全连接层替换为生成相应数量的类别分数的层级。"
      ]
    },
    {
      "cell_type": "code",
      "metadata": {
        "id": "b4G0Is1iNZlA",
        "colab_type": "code",
        "colab": {}
      },
      "source": [
        "## TODO: add a last linear layer  that maps n_inputs -> 5 flower classes\n",
        "## new layers automatically have requires_grad = True\n",
        "n_inputs = vgg16.classifier[6].in_features\n",
        "last_layer = torch.nn.Linear(n_inputs, len(classes))\n",
        "vgg16.classifier[6] = last_layer\n",
        "\n",
        "# after completing your model, if GPU is available, move the model to GPU\n",
        "if train_on_gpu:\n",
        "    vgg16.cuda()\n",
        "    \n",
        "print(vgg16.classifier)"
      ],
      "execution_count": 0,
      "outputs": []
    },
    {
      "cell_type": "markdown",
      "metadata": {
        "id": "MY6F0ZzCNc7I",
        "colab_type": "text"
      },
      "source": [
        "###指定[损失函数](https://pytorch.org/docs/stable/nn.html#loss-functions)和[优化器](https://pytorch.org/docs/stable/optim.html)\n",
        "下面，我们将使用交叉熵损失和随机梯度下降法，并设定很小的学习速率。注意，优化器仅接受可训练的参数 vgg.classifier.parameters() 作为输入。"
      ]
    },
    {
      "cell_type": "code",
      "metadata": {
        "id": "if6CdzBkNsqJ",
        "colab_type": "code",
        "colab": {}
      },
      "source": [
        "import torch.optim as optim\n",
        "\n",
        "# specify loss function (categorical cross-entropy)\n",
        "criterion = torch.nn.CrossEntropyLoss()\n",
        "\n",
        "# specify optimizer (stochastic gradient descent) and learning rate = 0.001\n",
        "optimizer = optim.SGD(vgg16.classifier.parameters(), lr=0.001)"
      ],
      "execution_count": 0,
      "outputs": []
    },
    {
      "cell_type": "markdown",
      "metadata": {
        "id": "h9OwUMxANv5R",
        "colab_type": "text"
      },
      "source": [
        "###训练\n",
        "现在训练网络。\n",
        "\n",
        "\n",
        "\n",
        "> 练习：到目前为止，我们一直为你提供了训练代码。现在你将接受挑战并编写训练网络的代码。如果你需要帮助，可以查看我的解决方案。\n",
        "\n"
      ]
    },
    {
      "cell_type": "code",
      "metadata": {
        "id": "Roof8Aw2N4hp",
        "colab_type": "code",
        "colab": {}
      },
      "source": [
        "# number of epochs to train the model\n",
        "n_epochs = 2\n",
        "\n",
        "## TODO complete epoch and training batch loops\n",
        "## These loops should update the classifier-weights of this model\n",
        "## And track (and print out) the training loss over time\n",
        "for epoch in range(1, n_epochs+1):\n",
        "\n",
        "    # keep track of training and validation loss\n",
        "    train_loss = 0.0\n",
        "    \n",
        "    ###################\n",
        "    # train the model #\n",
        "    ###################\n",
        "    # model by default is set to train\n",
        "    for batch_i, (data, target) in enumerate(train_loader):\n",
        "        # move tensors to GPU if CUDA is available\n",
        "        if train_on_gpu:\n",
        "            data, target = data.cuda(), target.cuda()\n",
        "        # clear the gradients of all optimized variables\n",
        "        optimizer.zero_grad()\n",
        "        # forward pass: compute predicted outputs by passing inputs to the model\n",
        "        output = vgg16(data)\n",
        "        # calculate the batch loss\n",
        "        loss = criterion(output, target)\n",
        "        # backward pass: compute gradient of the loss with respect to model parameters\n",
        "        loss.backward()\n",
        "        # perform a single optimization step (parameter update)\n",
        "        optimizer.step()\n",
        "        # update training loss \n",
        "        train_loss += loss.item()\n",
        "        \n",
        "        if batch_i % 20 == 19:    # print training loss every specified number of mini-batches\n",
        "            print('Epoch %d, Batch %d loss: %.16f' %\n",
        "                  (epoch, batch_i + 1, train_loss / 20))\n",
        "            train_loss = 0.0\n"
      ],
      "execution_count": 0,
      "outputs": []
    },
    {
      "cell_type": "markdown",
      "metadata": {
        "id": "LgHdsoBVN8HJ",
        "colab_type": "text"
      },
      "source": [
        "\n",
        "\n",
        "---\n",
        "\n",
        "###测试\n",
        "下面是每个花朵类别的测试准确率"
      ]
    },
    {
      "cell_type": "code",
      "metadata": {
        "id": "EWzX6GWVOA-J",
        "colab_type": "code",
        "colab": {}
      },
      "source": [
        "# track test loss \n",
        "# over 5 flower classes\n",
        "test_loss = 0.0\n",
        "class_correct = list(0. for i in range(5))\n",
        "class_total = list(0. for i in range(5))\n",
        "\n",
        "vgg16.eval() # eval mode\n",
        "\n",
        "# iterate over test data\n",
        "for data, target in test_loader:\n",
        "    # move tensors to GPU if CUDA is available\n",
        "    if train_on_gpu:\n",
        "        data, target = data.cuda(), target.cuda()\n",
        "    # forward pass: compute predicted outputs by passing inputs to the model\n",
        "    output = vgg16(data)\n",
        "    # calculate the batch loss\n",
        "    loss = criterion(output, target)\n",
        "    # update  test loss \n",
        "    test_loss += loss.item()*data.size(0)\n",
        "    # convert output probabilities to predicted class\n",
        "    _, pred = torch.max(output, 1)    \n",
        "    # compare predictions to true label\n",
        "    correct_tensor = pred.eq(target.data.view_as(pred))\n",
        "    correct = np.squeeze(correct_tensor.numpy()) if not train_on_gpu else np.squeeze(correct_tensor.cpu().numpy())\n",
        "    # calculate test accuracy for each object class\n",
        "    for i in range(batch_size):\n",
        "        label = target.data[i]\n",
        "        class_correct[label] += correct[i].item()\n",
        "        class_total[label] += 1\n",
        "\n",
        "# calculate avg test loss\n",
        "test_loss = test_loss/len(test_loader.dataset)\n",
        "print('Test Loss: {:.6f}\\n'.format(test_loss))\n",
        "\n",
        "for i in range(5):\n",
        "    if class_total[i] > 0:\n",
        "        print('Test Accuracy of %5s: %2d%% (%2d/%2d)' % (\n",
        "            classes[i], 100 * class_correct[i] / class_total[i],\n",
        "            np.sum(class_correct[i]), np.sum(class_total[i])))\n",
        "    else:\n",
        "        print('Test Accuracy of %5s: N/A (no training examples)' % (classes[i]))\n",
        "\n",
        "print('\\nTest Accuracy (Overall): %2d%% (%2d/%2d)' % (\n",
        "    100. * np.sum(class_correct) / np.sum(class_total),\n",
        "    np.sum(class_correct), np.sum(class_total)))"
      ],
      "execution_count": 0,
      "outputs": []
    },
    {
      "cell_type": "markdown",
      "metadata": {
        "id": "kJtViZWBODiB",
        "colab_type": "text"
      },
      "source": [
        "###可视化示例测试结果¶"
      ]
    },
    {
      "cell_type": "code",
      "metadata": {
        "id": "DcW8t1ITOE9R",
        "colab_type": "code",
        "colab": {}
      },
      "source": [
        "# obtain one batch of test images\n",
        "dataiter = iter(test_loader)\n",
        "images, labels = dataiter.next()\n",
        "images.numpy()\n",
        "\n",
        "# move model inputs to cuda, if GPU available\n",
        "if train_on_gpu:\n",
        "    images = images.cuda()\n",
        "\n",
        "# get sample outputs\n",
        "output = vgg16(images)\n",
        "# convert output probabilities to predicted class\n",
        "_, preds_tensor = torch.max(output, 1)\n",
        "preds = np.squeeze(preds_tensor.numpy()) if not train_on_gpu else np.squeeze(preds_tensor.cpu().numpy())\n",
        "\n",
        "# plot the images in the batch, along with predicted and true labels\n",
        "fig = plt.figure(figsize=(25, 4))\n",
        "for idx in np.arange(20):\n",
        "    ax = fig.add_subplot(2, 20/2, idx+1, xticks=[], yticks=[])\n",
        "    plt.imshow(np.transpose(images[idx], (1, 2, 0)))\n",
        "    ax.set_title(\"{} ({})\".format(classes[preds[idx]], classes[labels[idx]]),\n",
        "                 color=(\"green\" if preds[idx]==labels[idx].item() else \"red\"))"
      ],
      "execution_count": 0,
      "outputs": []
    }
  ]
}